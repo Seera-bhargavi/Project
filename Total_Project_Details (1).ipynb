{
 "cells": [
  {
   "cell_type": "markdown",
   "id": "d24faf6b",
   "metadata": {},
   "source": [
    "# Project Intro:  #"
   ]
  },
  {
   "cell_type": "markdown",
   "id": "06c87ee6",
   "metadata": {},
   "source": [
    " ### Tourism Demand Forecasting:\n",
    "    Predicting tourists arrival help destinations to make neccessary arrangements and help tourism businesses to make efficient financial decisions in terms of allocating resouces,staffing,controlling expenditure and exploring oppurtunities for expansion. Every tourist place has it's own speciality to attract tourists.  Influence of it on tourists may depend on the season,day speciality,it's trend on social media,Geometric location etc.. So,for every tourist place the features to consider may change according to its speciality.\n",
    "    \n",
    "    Machine learning algorithms are used to detect the pattern of trends in tourism arrivals and helps to forecast future arrivals. Here we created a model to forecast arrivals for the tourist place Tirumala Tirupati Devastanam(TTD). We have considered attributes Day Speciality(whether day is festival,ttd_speciality on that day,public holiday or normal day),Weather condition(Based on temperature),Google Trends(frequency of ttd related keywords searched on goolgle),Twitter trend(whether opinion of twitter is +ve,-ve or neutral).\n",
    "    We tried to find the features(things that will effect the tourists) with help of correlation between attributes and tourists. If they have meaningful impact on arrivals,we consider it be a feature for our model. Gone through different approaches to properly understand available data and perform better."
   ]
  },
  {
   "cell_type": "code",
   "execution_count": 42,
   "id": "7a93c621",
   "metadata": {},
   "outputs": [],
   "source": [
    "import numpy as np\n",
    "import pandas as pd\n",
    "data=pd.read_csv('TTD_DATA.csv')"
   ]
  },
  {
   "cell_type": "code",
   "execution_count": 43,
   "id": "4c0219e7",
   "metadata": {},
   "outputs": [
    {
     "data": {
      "text/html": [
       "<div>\n",
       "<style scoped>\n",
       "    .dataframe tbody tr th:only-of-type {\n",
       "        vertical-align: middle;\n",
       "    }\n",
       "\n",
       "    .dataframe tbody tr th {\n",
       "        vertical-align: top;\n",
       "    }\n",
       "\n",
       "    .dataframe thead th {\n",
       "        text-align: right;\n",
       "    }\n",
       "</style>\n",
       "<table border=\"1\" class=\"dataframe\">\n",
       "  <thead>\n",
       "    <tr style=\"text-align: right;\">\n",
       "      <th></th>\n",
       "      <th>Date</th>\n",
       "      <th>Piligrims</th>\n",
       "      <th>Tonsures</th>\n",
       "      <th>Hundi</th>\n",
       "      <th>Temperature</th>\n",
       "      <th>Condition</th>\n",
       "      <th>ttd online darshan tickets</th>\n",
       "      <th>Tirupati</th>\n",
       "      <th>Tirumala</th>\n",
       "      <th>VIP darshan</th>\n",
       "      <th>...</th>\n",
       "      <th>Review</th>\n",
       "      <th>Timestamp</th>\n",
       "      <th>Day</th>\n",
       "      <th>Speciality</th>\n",
       "      <th>Festivals</th>\n",
       "      <th>Tidi</th>\n",
       "      <th>Seva_Begins</th>\n",
       "      <th>Sevas</th>\n",
       "      <th>Public_Day</th>\n",
       "      <th>Normal</th>\n",
       "    </tr>\n",
       "  </thead>\n",
       "  <tbody>\n",
       "    <tr>\n",
       "      <th>0</th>\n",
       "      <td>2022-1-1</td>\n",
       "      <td>36560</td>\n",
       "      <td>14084</td>\n",
       "      <td>2.15</td>\n",
       "      <td>77</td>\n",
       "      <td>1275</td>\n",
       "      <td>0</td>\n",
       "      <td>43</td>\n",
       "      <td>23</td>\n",
       "      <td>16</td>\n",
       "      <td>...</td>\n",
       "      <td>-1</td>\n",
       "      <td>1.640975e+09</td>\n",
       "      <td>Saturday</td>\n",
       "      <td>New Years Day</td>\n",
       "      <td>0</td>\n",
       "      <td>0</td>\n",
       "      <td>0</td>\n",
       "      <td>0</td>\n",
       "      <td>1</td>\n",
       "      <td>0</td>\n",
       "    </tr>\n",
       "    <tr>\n",
       "      <th>1</th>\n",
       "      <td>2022-1-2</td>\n",
       "      <td>38894</td>\n",
       "      <td>12270</td>\n",
       "      <td>3.93</td>\n",
       "      <td>79</td>\n",
       "      <td>972</td>\n",
       "      <td>6</td>\n",
       "      <td>41</td>\n",
       "      <td>25</td>\n",
       "      <td>14</td>\n",
       "      <td>...</td>\n",
       "      <td>0</td>\n",
       "      <td>1.641062e+09</td>\n",
       "      <td>Sunday</td>\n",
       "      <td>Amavasya, Sravanam, Tirupati Sri G.T Adhyayano...</td>\n",
       "      <td>0</td>\n",
       "      <td>1</td>\n",
       "      <td>1</td>\n",
       "      <td>0</td>\n",
       "      <td>0</td>\n",
       "      <td>0</td>\n",
       "    </tr>\n",
       "    <tr>\n",
       "      <th>2</th>\n",
       "      <td>2022-1-3</td>\n",
       "      <td>31776</td>\n",
       "      <td>16046</td>\n",
       "      <td>2.69</td>\n",
       "      <td>79</td>\n",
       "      <td>972</td>\n",
       "      <td>10</td>\n",
       "      <td>40</td>\n",
       "      <td>19</td>\n",
       "      <td>0</td>\n",
       "      <td>...</td>\n",
       "      <td>0</td>\n",
       "      <td>1.641148e+09</td>\n",
       "      <td>Monday</td>\n",
       "      <td>Maha Sivaratri, Tirupati Sri KT Nandi Vahanam</td>\n",
       "      <td>1</td>\n",
       "      <td>0</td>\n",
       "      <td>0</td>\n",
       "      <td>1</td>\n",
       "      <td>0</td>\n",
       "      <td>0</td>\n",
       "    </tr>\n",
       "    <tr>\n",
       "      <th>3</th>\n",
       "      <td>2022-1-4</td>\n",
       "      <td>31523</td>\n",
       "      <td>14692</td>\n",
       "      <td>2.45</td>\n",
       "      <td>79</td>\n",
       "      <td>972</td>\n",
       "      <td>0</td>\n",
       "      <td>45</td>\n",
       "      <td>17</td>\n",
       "      <td>22</td>\n",
       "      <td>...</td>\n",
       "      <td>0</td>\n",
       "      <td>1.641235e+09</td>\n",
       "      <td>Tuesday</td>\n",
       "      <td>Amavasya</td>\n",
       "      <td>0</td>\n",
       "      <td>1</td>\n",
       "      <td>0</td>\n",
       "      <td>0</td>\n",
       "      <td>0</td>\n",
       "      <td>0</td>\n",
       "    </tr>\n",
       "    <tr>\n",
       "      <th>4</th>\n",
       "      <td>2022-1-5</td>\n",
       "      <td>32044</td>\n",
       "      <td>17558</td>\n",
       "      <td>2.61</td>\n",
       "      <td>79</td>\n",
       "      <td>972</td>\n",
       "      <td>8</td>\n",
       "      <td>32</td>\n",
       "      <td>14</td>\n",
       "      <td>21</td>\n",
       "      <td>...</td>\n",
       "      <td>1</td>\n",
       "      <td>1.641321e+09</td>\n",
       "      <td>Wednesday</td>\n",
       "      <td>May Day</td>\n",
       "      <td>0</td>\n",
       "      <td>0</td>\n",
       "      <td>0</td>\n",
       "      <td>0</td>\n",
       "      <td>1</td>\n",
       "      <td>0</td>\n",
       "    </tr>\n",
       "    <tr>\n",
       "      <th>...</th>\n",
       "      <td>...</td>\n",
       "      <td>...</td>\n",
       "      <td>...</td>\n",
       "      <td>...</td>\n",
       "      <td>...</td>\n",
       "      <td>...</td>\n",
       "      <td>...</td>\n",
       "      <td>...</td>\n",
       "      <td>...</td>\n",
       "      <td>...</td>\n",
       "      <td>...</td>\n",
       "      <td>...</td>\n",
       "      <td>...</td>\n",
       "      <td>...</td>\n",
       "      <td>...</td>\n",
       "      <td>...</td>\n",
       "      <td>...</td>\n",
       "      <td>...</td>\n",
       "      <td>...</td>\n",
       "      <td>...</td>\n",
       "      <td>...</td>\n",
       "    </tr>\n",
       "    <tr>\n",
       "      <th>360</th>\n",
       "      <td>2022-12-27</td>\n",
       "      <td>70496</td>\n",
       "      <td>25500</td>\n",
       "      <td>5.88</td>\n",
       "      <td>79</td>\n",
       "      <td>1275</td>\n",
       "      <td>34</td>\n",
       "      <td>80</td>\n",
       "      <td>65</td>\n",
       "      <td>56</td>\n",
       "      <td>...</td>\n",
       "      <td>0</td>\n",
       "      <td>1.672079e+09</td>\n",
       "      <td>Tuesday</td>\n",
       "      <td>normal</td>\n",
       "      <td>0</td>\n",
       "      <td>0</td>\n",
       "      <td>0</td>\n",
       "      <td>0</td>\n",
       "      <td>0</td>\n",
       "      <td>1</td>\n",
       "    </tr>\n",
       "    <tr>\n",
       "      <th>361</th>\n",
       "      <td>2022-12-28</td>\n",
       "      <td>71299</td>\n",
       "      <td>28288</td>\n",
       "      <td>3.26</td>\n",
       "      <td>82</td>\n",
       "      <td>972</td>\n",
       "      <td>37</td>\n",
       "      <td>74</td>\n",
       "      <td>59</td>\n",
       "      <td>52</td>\n",
       "      <td>...</td>\n",
       "      <td>1</td>\n",
       "      <td>1.672166e+09</td>\n",
       "      <td>Wednesday</td>\n",
       "      <td>normal</td>\n",
       "      <td>0</td>\n",
       "      <td>0</td>\n",
       "      <td>0</td>\n",
       "      <td>0</td>\n",
       "      <td>0</td>\n",
       "      <td>1</td>\n",
       "    </tr>\n",
       "    <tr>\n",
       "      <th>362</th>\n",
       "      <td>2022-12-29</td>\n",
       "      <td>67156</td>\n",
       "      <td>24752</td>\n",
       "      <td>4.92</td>\n",
       "      <td>82</td>\n",
       "      <td>862</td>\n",
       "      <td>0</td>\n",
       "      <td>75</td>\n",
       "      <td>52</td>\n",
       "      <td>17</td>\n",
       "      <td>...</td>\n",
       "      <td>0</td>\n",
       "      <td>1.672252e+09</td>\n",
       "      <td>Thursday</td>\n",
       "      <td>normal</td>\n",
       "      <td>0</td>\n",
       "      <td>0</td>\n",
       "      <td>0</td>\n",
       "      <td>0</td>\n",
       "      <td>0</td>\n",
       "      <td>1</td>\n",
       "    </tr>\n",
       "    <tr>\n",
       "      <th>363</th>\n",
       "      <td>2022-12-30</td>\n",
       "      <td>63253</td>\n",
       "      <td>24490</td>\n",
       "      <td>5.16</td>\n",
       "      <td>82</td>\n",
       "      <td>972</td>\n",
       "      <td>22</td>\n",
       "      <td>77</td>\n",
       "      <td>56</td>\n",
       "      <td>14</td>\n",
       "      <td>...</td>\n",
       "      <td>0</td>\n",
       "      <td>1.672339e+09</td>\n",
       "      <td>Friday</td>\n",
       "      <td>normal</td>\n",
       "      <td>0</td>\n",
       "      <td>0</td>\n",
       "      <td>0</td>\n",
       "      <td>0</td>\n",
       "      <td>0</td>\n",
       "      <td>1</td>\n",
       "    </tr>\n",
       "    <tr>\n",
       "      <th>364</th>\n",
       "      <td>2022-12-31</td>\n",
       "      <td>71069</td>\n",
       "      <td>34741</td>\n",
       "      <td>4.98</td>\n",
       "      <td>82</td>\n",
       "      <td>862</td>\n",
       "      <td>45</td>\n",
       "      <td>55</td>\n",
       "      <td>23</td>\n",
       "      <td>24</td>\n",
       "      <td>...</td>\n",
       "      <td>0</td>\n",
       "      <td>1.672425e+09</td>\n",
       "      <td>Saturday</td>\n",
       "      <td>normal</td>\n",
       "      <td>0</td>\n",
       "      <td>0</td>\n",
       "      <td>0</td>\n",
       "      <td>0</td>\n",
       "      <td>0</td>\n",
       "      <td>1</td>\n",
       "    </tr>\n",
       "  </tbody>\n",
       "</table>\n",
       "<p>365 rows × 33 columns</p>\n",
       "</div>"
      ],
      "text/plain": [
       "           Date  Piligrims  Tonsures  Hundi  Temperature  Condition  \\\n",
       "0      2022-1-1      36560     14084   2.15           77       1275   \n",
       "1      2022-1-2      38894     12270   3.93           79        972   \n",
       "2      2022-1-3      31776     16046   2.69           79        972   \n",
       "3      2022-1-4      31523     14692   2.45           79        972   \n",
       "4      2022-1-5      32044     17558   2.61           79        972   \n",
       "..          ...        ...       ...    ...          ...        ...   \n",
       "360  2022-12-27      70496     25500   5.88           79       1275   \n",
       "361  2022-12-28      71299     28288   3.26           82        972   \n",
       "362  2022-12-29      67156     24752   4.92           82        862   \n",
       "363  2022-12-30      63253     24490   5.16           82        972   \n",
       "364  2022-12-31      71069     34741   4.98           82        862   \n",
       "\n",
       "     ttd online darshan tickets  Tirupati  Tirumala  VIP darshan  ...  Review  \\\n",
       "0                             0        43        23           16  ...      -1   \n",
       "1                             6        41        25           14  ...       0   \n",
       "2                            10        40        19            0  ...       0   \n",
       "3                             0        45        17           22  ...       0   \n",
       "4                             8        32        14           21  ...       1   \n",
       "..                          ...       ...       ...          ...  ...     ...   \n",
       "360                          34        80        65           56  ...       0   \n",
       "361                          37        74        59           52  ...       1   \n",
       "362                           0        75        52           17  ...       0   \n",
       "363                          22        77        56           14  ...       0   \n",
       "364                          45        55        23           24  ...       0   \n",
       "\n",
       "        Timestamp        Day  \\\n",
       "0    1.640975e+09   Saturday   \n",
       "1    1.641062e+09     Sunday   \n",
       "2    1.641148e+09     Monday   \n",
       "3    1.641235e+09    Tuesday   \n",
       "4    1.641321e+09  Wednesday   \n",
       "..            ...        ...   \n",
       "360  1.672079e+09    Tuesday   \n",
       "361  1.672166e+09  Wednesday   \n",
       "362  1.672252e+09   Thursday   \n",
       "363  1.672339e+09     Friday   \n",
       "364  1.672425e+09   Saturday   \n",
       "\n",
       "                                            Speciality  Festivals  Tidi  \\\n",
       "0                                        New Years Day          0     0   \n",
       "1    Amavasya, Sravanam, Tirupati Sri G.T Adhyayano...          0     1   \n",
       "2        Maha Sivaratri, Tirupati Sri KT Nandi Vahanam          1     0   \n",
       "3                                             Amavasya          0     1   \n",
       "4                                              May Day          0     0   \n",
       "..                                                 ...        ...   ...   \n",
       "360                                             normal          0     0   \n",
       "361                                             normal          0     0   \n",
       "362                                             normal          0     0   \n",
       "363                                             normal          0     0   \n",
       "364                                             normal          0     0   \n",
       "\n",
       "     Seva_Begins  Sevas  Public_Day  Normal  \n",
       "0              0      0           1       0  \n",
       "1              1      0           0       0  \n",
       "2              0      1           0       0  \n",
       "3              0      0           0       0  \n",
       "4              0      0           1       0  \n",
       "..           ...    ...         ...     ...  \n",
       "360            0      0           0       1  \n",
       "361            0      0           0       1  \n",
       "362            0      0           0       1  \n",
       "363            0      0           0       1  \n",
       "364            0      0           0       1  \n",
       "\n",
       "[365 rows x 33 columns]"
      ]
     },
     "execution_count": 43,
     "metadata": {},
     "output_type": "execute_result"
    }
   ],
   "source": [
    "del data['Unnamed: 0']\n",
    "data"
   ]
  },
  {
   "cell_type": "code",
   "execution_count": 135,
   "id": "e3c960a4",
   "metadata": {},
   "outputs": [
    {
     "data": {
      "text/plain": [
       "Index(['Date', 'Piligrims', 'Tonsures', 'Hundi', 'Temperature', 'Condition',\n",
       "       'ttd online darshan tickets', 'Tirupati', 'Tirumala', 'VIP darshan',\n",
       "       'How to reach Tirupati', 'ttd sarva darshan tickets',\n",
       "       'ttd free darshan online booking availability',\n",
       "       'apsrtc tirumala darshan tickets', 'apsrtc ttd 300 tickets',\n",
       "       'ksrtc tirupati package', 'srinivasam complex',\n",
       "       'tirumala darshan tickets', 'tirumala darshan',\n",
       "       'tirupati balaji.ap.gov.in', 'tirupati darshan 500 rupees ticket',\n",
       "       'Week_day', 'Review', 'Timestamp', 'Day', 'Speciality', 'Festivals',\n",
       "       'Tidi', 'Seva_Begins', 'Sevas', 'Public_Day', 'Normal'],\n",
       "      dtype='object')"
      ]
     },
     "execution_count": 135,
     "metadata": {},
     "output_type": "execute_result"
    }
   ],
   "source": [
    "data.columns"
   ]
  },
  {
   "cell_type": "code",
   "execution_count": 44,
   "id": "3f62d843",
   "metadata": {},
   "outputs": [],
   "source": [
    "from sklearn.model_selection import train_test_split"
   ]
  },
  {
   "cell_type": "code",
   "execution_count": 75,
   "id": "245fa80a",
   "metadata": {},
   "outputs": [],
   "source": [
    "x_train,x_test,y_train,y_test=train_test_split(data[['Week_day','Temperature','Tirupati',\n",
    "       'Tirumala','Review','VIP darshan','Timestamp','tirumala darshan']],data['Piligrims'],test_size=0.27,random_state=3)"
   ]
  },
  {
   "cell_type": "code",
   "execution_count": 76,
   "id": "237db0ca",
   "metadata": {},
   "outputs": [],
   "source": [
    "from sklearn.metrics import r2_score\n",
    "from sklearn.metrics import mean_squared_error\n",
    "from sklearn.metrics import mean_absolute_error"
   ]
  },
  {
   "cell_type": "markdown",
   "id": "5b027495",
   "metadata": {},
   "source": [
    "# Visualization : #"
   ]
  },
  {
   "cell_type": "code",
   "execution_count": 77,
   "id": "61bba38d",
   "metadata": {},
   "outputs": [
    {
     "data": {
      "application/vnd.plotly.v1+json": {
       "config": {
        "plotlyServerURL": "https://plot.ly"
       },
       "data": [
        {
         "fillpattern": {
          "shape": ""
         },
         "hovertemplate": "Date=%{x}<br>Piligrims=%{y}<extra></extra>",
         "legendgroup": "",
         "line": {
          "color": "#636efa"
         },
         "marker": {
          "symbol": "circle"
         },
         "mode": "lines",
         "name": "",
         "orientation": "v",
         "showlegend": false,
         "stackgroup": "1",
         "type": "scatter",
         "x": [
          "2022-1-1",
          "2022-1-2",
          "2022-1-3",
          "2022-1-4",
          "2022-1-5",
          "2022-1-6",
          "2022-1-7",
          "2022-1-8",
          "2022-1-9",
          "2022-1-10",
          "2022-1-11",
          "2022-1-12",
          "2022-1-13",
          "2022-1-14",
          "2022-1-15",
          "2022-1-16",
          "2022-1-17",
          "2022-1-18",
          "2022-1-19",
          "2022-1-20",
          "2022-1-21",
          "2022-1-22",
          "2022-1-23",
          "2022-1-24",
          "2022-1-25",
          "2022-1-26",
          "2022-1-27",
          "2022-1-28",
          "2022-1-29",
          "2022-1-30",
          "2022-1-31",
          "2022-2-1",
          "2022-2-2",
          "2022-2-3",
          "2022-2-4",
          "2022-2-5",
          "2022-2-6",
          "2022-2-7",
          "2022-2-8",
          "2022-2-9",
          "2022-2-10",
          "2022-2-11",
          "2022-2-12",
          "2022-2-13",
          "2022-2-14",
          "2022-2-15",
          "2022-2-16",
          "2022-2-17",
          "2022-2-18",
          "2022-2-19",
          "2022-2-20",
          "2022-2-21",
          "2022-2-22",
          "2022-2-23",
          "2022-2-24",
          "2022-2-25",
          "2022-2-26",
          "2022-2-27",
          "2022-2-28",
          "2022-3-1",
          "2022-3-2",
          "2022-3-3",
          "2022-3-4",
          "2022-3-5",
          "2022-3-6",
          "2022-3-7",
          "2022-3-8",
          "2022-3-9",
          "2022-3-10",
          "2022-3-11",
          "2022-3-12",
          "2022-3-13",
          "2022-3-14",
          "2022-3-15",
          "2022-3-16",
          "2022-3-17",
          "2022-3-18",
          "2022-3-19",
          "2022-3-20",
          "2022-3-21",
          "2022-3-22",
          "2022-3-23",
          "2022-3-24",
          "2022-3-25",
          "2022-3-26",
          "2022-3-27",
          "2022-3-28",
          "2022-3-29",
          "2022-3-30",
          "2022-3-31",
          "2022-4-1",
          "2022-4-2",
          "2022-4-3",
          "2022-4-4",
          "2022-4-5",
          "2022-4-6",
          "2022-4-7",
          "2022-4-8",
          "2022-4-9",
          "2022-4-10",
          "2022-4-11",
          "2022-4-12",
          "2022-4-13",
          "2022-4-14",
          "2022-4-15",
          "2022-4-16",
          "2022-4-17",
          "2022-4-18",
          "2022-4-19",
          "2022-4-20",
          "2022-4-21",
          "2022-4-22",
          "2022-4-23",
          "2022-4-24",
          "2022-4-25",
          "2022-4-26",
          "2022-4-27",
          "2022-4-28",
          "2022-4-29",
          "2022-4-30",
          "2022-5-1",
          "2022-5-2",
          "2022-5-3",
          "2022-5-4",
          "2022-5-5",
          "2022-5-6",
          "2022-5-7",
          "2022-5-8",
          "2022-5-9",
          "2022-5-10",
          "2022-5-11",
          "2022-5-12",
          "2022-5-13",
          "2022-5-14",
          "2022-5-15",
          "2022-5-16",
          "2022-5-17",
          "2022-5-18",
          "2022-5-19",
          "2022-5-20",
          "2022-5-21",
          "2022-5-22",
          "2022-5-23",
          "2022-5-24",
          "2022-5-25",
          "2022-5-26",
          "2022-5-27",
          "2022-5-28",
          "2022-5-29",
          "2022-5-30",
          "2022-5-31",
          "2022-6-1",
          "2022-6-2",
          "2022-6-3",
          "2022-6-4",
          "2022-6-5",
          "2022-6-6",
          "2022-6-7",
          "2022-6-8",
          "2022-6-9",
          "2022-6-10",
          "2022-6-11",
          "2022-6-12",
          "2022-6-13",
          "2022-6-14",
          "2022-6-15",
          "2022-6-16",
          "2022-6-17",
          "2022-6-18",
          "2022-6-19",
          "2022-6-20",
          "2022-6-21",
          "2022-6-22",
          "2022-6-23",
          "2022-6-24",
          "2022-6-25",
          "2022-6-26",
          "2022-6-27",
          "2022-6-28",
          "2022-6-29",
          "2022-6-30",
          "2022-7-1",
          "2022-7-2",
          "2022-7-3",
          "2022-7-4",
          "2022-7-5",
          "2022-7-6",
          "2022-7-7",
          "2022-7-8",
          "2022-7-9",
          "2022-7-10",
          "2022-7-11",
          "2022-7-12",
          "2022-7-13",
          "2022-7-14",
          "2022-7-15",
          "2022-7-16",
          "2022-7-17",
          "2022-7-18",
          "2022-7-19",
          "2022-7-20",
          "2022-7-21",
          "2022-7-22",
          "2022-7-23",
          "2022-7-24",
          "2022-7-25",
          "2022-7-26",
          "2022-7-27",
          "2022-7-28",
          "2022-7-29",
          "2022-7-30",
          "2022-7-31",
          "2022-8-1",
          "2022-8-2",
          "2022-8-3",
          "2022-8-4",
          "2022-8-5",
          "2022-8-6",
          "2022-8-7",
          "2022-8-8",
          "2022-8-9",
          "2022-8-10",
          "2022-8-11",
          "2022-8-12",
          "2022-8-13",
          "2022-8-14",
          "2022-8-15",
          "2022-8-16",
          "2022-8-17",
          "2022-8-18",
          "2022-8-19",
          "2022-8-20",
          "2022-8-21",
          "2022-8-22",
          "2022-8-23",
          "2022-8-24",
          "2022-8-25",
          "2022-8-26",
          "2022-8-27",
          "2022-8-28",
          "2022-8-29",
          "2022-8-30",
          "2022-8-31",
          "2022-9-1",
          "2022-9-2",
          "2022-9-3",
          "2022-9-4",
          "2022-9-5",
          "2022-9-6",
          "2022-9-7",
          "2022-9-8",
          "2022-9-9",
          "2022-9-10",
          "2022-9-11",
          "2022-9-12",
          "2022-9-13",
          "2022-9-14",
          "2022-9-15",
          "2022-9-16",
          "2022-9-17",
          "2022-9-18",
          "2022-9-19",
          "2022-9-20",
          "2022-9-21",
          "2022-9-22",
          "2022-9-23",
          "2022-9-24",
          "2022-9-25",
          "2022-9-26",
          "2022-9-27",
          "2022-9-28",
          "2022-9-29",
          "2022-9-30",
          "2022-10-1",
          "2022-10-2",
          "2022-10-3",
          "2022-10-4",
          "2022-10-5",
          "2022-10-6",
          "2022-10-7",
          "2022-10-8",
          "2022-10-9",
          "2022-10-10",
          "2022-10-11",
          "2022-10-12",
          "2022-10-13",
          "2022-10-14",
          "2022-10-15",
          "2022-10-16",
          "2022-10-17",
          "2022-10-18",
          "2022-10-19",
          "2022-10-20",
          "2022-10-21",
          "2022-10-22",
          "2022-10-23",
          "2022-10-24",
          "2022-10-25",
          "2022-10-26",
          "2022-10-27",
          "2022-10-28",
          "2022-10-29",
          "2022-10-30",
          "2022-10-31",
          "2022-11-1",
          "2022-11-2",
          "2022-11-3",
          "2022-11-4",
          "2022-11-5",
          "2022-11-6",
          "2022-11-7",
          "2022-11-8",
          "2022-11-9",
          "2022-11-10",
          "2022-11-11",
          "2022-11-12",
          "2022-11-13",
          "2022-11-14",
          "2022-11-15",
          "2022-11-16",
          "2022-11-17",
          "2022-11-18",
          "2022-11-19",
          "2022-11-20",
          "2022-11-21",
          "2022-11-22",
          "2022-11-23",
          "2022-11-24",
          "2022-11-25",
          "2022-11-26",
          "2022-11-27",
          "2022-11-28",
          "2022-11-29",
          "2022-11-30",
          "2022-12-1",
          "2022-12-2",
          "2022-12-3",
          "2022-12-4",
          "2022-12-5",
          "2022-12-6",
          "2022-12-7",
          "2022-12-8",
          "2022-12-9",
          "2022-12-10",
          "2022-12-11",
          "2022-12-12",
          "2022-12-13",
          "2022-12-14",
          "2022-12-15",
          "2022-12-16",
          "2022-12-17",
          "2022-12-18",
          "2022-12-19",
          "2022-12-20",
          "2022-12-21",
          "2022-12-22",
          "2022-12-23",
          "2022-12-24",
          "2022-12-25",
          "2022-12-26",
          "2022-12-27",
          "2022-12-28",
          "2022-12-29",
          "2022-12-30",
          "2022-12-31"
         ],
         "xaxis": "x",
         "y": [
          36560,
          38894,
          31776,
          31523,
          32044,
          29652,
          62856,
          33619,
          32235,
          32242,
          23744,
          25524,
          46118,
          37304,
          34375,
          35642,
          35333,
          33971,
          34187,
          36092,
          39440,
          45481,
          27895,
          27223,
          28745,
          27446,
          27536,
          24888,
          28234,
          27896,
          26401,
          29496,
          29026,
          31167,
          28410,
          34632,
          33737,
          35516,
          30172,
          32092,
          32894,
          32894,
          36333,
          33356,
          64425,
          31794,
          39691,
          39335,
          35584,
          41463,
          41390,
          39619,
          38000,
          37216,
          53740,
          56559,
          65704,
          68095,
          55532,
          53163,
          46172,
          50511,
          56686,
          67750,
          61052,
          57904,
          58561,
          59086,
          61620,
          65192,
          71069,
          74167,
          61982,
          61654,
          64368,
          66577,
          66763,
          72265,
          70408,
          64425,
          69711,
          64986,
          63042,
          65418,
          69897,
          71167,
          64425,
          54396,
          61224,
          54273,
          56958,
          62925,
          71034,
          66112,
          61654,
          68009,
          65840,
          60790,
          70727,
          66593,
          63223,
          72567,
          88748,
          82722,
          75110,
          76746,
          68299,
          64157,
          67858,
          66745,
          61278,
          63084,
          71069,
          75438,
          65763,
          67681,
          75078,
          64380,
          65725,
          75010,
          72904,
          65756,
          61654,
          69603,
          59528,
          63265,
          76324,
          75876,
          69154,
          61090,
          61863,
          61087,
          62001,
          81107,
          81720,
          72567,
          75400,
          74389,
          67625,
          71119,
          83739,
          70848,
          75324,
          75759,
          75759,
          72758,
          73358,
          89318,
          90885,
          74823,
          69848,
          71914,
          66001,
          71196,
          90165,
          78188,
          76921,
          76425,
          75345,
          70019,
          67949,
          87698,
          93400,
          78602,
          79103,
          77326,
          73371,
          76407,
          84982,
          90471,
          76597,
          74906,
          75472,
          68873,
          71589,
          71069,
          88613,
          74288,
          77154,
          70134,
          65898,
          64628,
          88026,
          88682,
          77907,
          73439,
          76418,
          75407,
          73016,
          87478,
          89013,
          62141,
          74212,
          71289,
          74304,
          72195,
          84885,
          73387,
          77273,
          74503,
          76821,
          71437,
          71395,
          78479,
          80815,
          72873,
          68982,
          73375,
          67364,
          58747,
          77541,
          81287,
          71450,
          72067,
          69628,
          62351,
          65939,
          79525,
          74830,
          64425,
          77277,
          74497,
          63754,
          64079,
          83422,
          92328,
          87692,
          72851,
          83880,
          70674,
          64438,
          79836,
          81523,
          72804,
          68467,
          74748,
          68128,
          69012,
          80312,
          74297,
          67950,
          64336,
          66086,
          63332,
          67525,
          79833,
          71158,
          67843,
          69115,
          65470,
          60946,
          64292,
          80741,
          86793,
          74231,
          75175,
          65634,
          60946,
          67425,
          82392,
          88924,
          67276,
          73186,
          74817,
          65187,
          65158,
          69650,
          52682,
          51308,
          64823,
          61879,
          60946,
          75382,
          81318,
          70848,
          82815,
          68539,
          63579,
          72195,
          70007,
          81034,
          86188,
          83223,
          77956,
          79370,
          72216,
          68675,
          81535,
          84794,
          70067,
          73420,
          72243,
          62725,
          62203,
          78299,
          80565,
          69278,
          25549,
          71689,
          67439,
          63512,
          84878,
          70848,
          70560,
          72176,
          68995,
          70263,
          63670,
          82604,
          84211,
          74094,
          22423,
          66946,
          61304,
          57104,
          73323,
          81130,
          69814,
          71461,
          74412,
          60861,
          61731,
          79471,
          80294,
          70163,
          69587,
          74354,
          66072,
          60157,
          73831,
          70848,
          67468,
          69211,
          69640,
          65568,
          64586,
          63931,
          80001,
          66020,
          64162,
          51376,
          54609,
          57581,
          69383,
          72466,
          65466,
          63214,
          59752,
          48928,
          61731,
          64107,
          75611,
          63759,
          63366,
          68469,
          63145,
          62055,
          71528,
          70373,
          62152,
          70496,
          71299,
          67156,
          63253,
          71069
         ],
         "yaxis": "y"
        }
       ],
       "layout": {
        "legend": {
         "tracegroupgap": 0
        },
        "template": {
         "data": {
          "bar": [
           {
            "error_x": {
             "color": "#2a3f5f"
            },
            "error_y": {
             "color": "#2a3f5f"
            },
            "marker": {
             "line": {
              "color": "#E5ECF6",
              "width": 0.5
             },
             "pattern": {
              "fillmode": "overlay",
              "size": 10,
              "solidity": 0.2
             }
            },
            "type": "bar"
           }
          ],
          "barpolar": [
           {
            "marker": {
             "line": {
              "color": "#E5ECF6",
              "width": 0.5
             },
             "pattern": {
              "fillmode": "overlay",
              "size": 10,
              "solidity": 0.2
             }
            },
            "type": "barpolar"
           }
          ],
          "carpet": [
           {
            "aaxis": {
             "endlinecolor": "#2a3f5f",
             "gridcolor": "white",
             "linecolor": "white",
             "minorgridcolor": "white",
             "startlinecolor": "#2a3f5f"
            },
            "baxis": {
             "endlinecolor": "#2a3f5f",
             "gridcolor": "white",
             "linecolor": "white",
             "minorgridcolor": "white",
             "startlinecolor": "#2a3f5f"
            },
            "type": "carpet"
           }
          ],
          "choropleth": [
           {
            "colorbar": {
             "outlinewidth": 0,
             "ticks": ""
            },
            "type": "choropleth"
           }
          ],
          "contour": [
           {
            "colorbar": {
             "outlinewidth": 0,
             "ticks": ""
            },
            "colorscale": [
             [
              0,
              "#0d0887"
             ],
             [
              0.1111111111111111,
              "#46039f"
             ],
             [
              0.2222222222222222,
              "#7201a8"
             ],
             [
              0.3333333333333333,
              "#9c179e"
             ],
             [
              0.4444444444444444,
              "#bd3786"
             ],
             [
              0.5555555555555556,
              "#d8576b"
             ],
             [
              0.6666666666666666,
              "#ed7953"
             ],
             [
              0.7777777777777778,
              "#fb9f3a"
             ],
             [
              0.8888888888888888,
              "#fdca26"
             ],
             [
              1,
              "#f0f921"
             ]
            ],
            "type": "contour"
           }
          ],
          "contourcarpet": [
           {
            "colorbar": {
             "outlinewidth": 0,
             "ticks": ""
            },
            "type": "contourcarpet"
           }
          ],
          "heatmap": [
           {
            "colorbar": {
             "outlinewidth": 0,
             "ticks": ""
            },
            "colorscale": [
             [
              0,
              "#0d0887"
             ],
             [
              0.1111111111111111,
              "#46039f"
             ],
             [
              0.2222222222222222,
              "#7201a8"
             ],
             [
              0.3333333333333333,
              "#9c179e"
             ],
             [
              0.4444444444444444,
              "#bd3786"
             ],
             [
              0.5555555555555556,
              "#d8576b"
             ],
             [
              0.6666666666666666,
              "#ed7953"
             ],
             [
              0.7777777777777778,
              "#fb9f3a"
             ],
             [
              0.8888888888888888,
              "#fdca26"
             ],
             [
              1,
              "#f0f921"
             ]
            ],
            "type": "heatmap"
           }
          ],
          "heatmapgl": [
           {
            "colorbar": {
             "outlinewidth": 0,
             "ticks": ""
            },
            "colorscale": [
             [
              0,
              "#0d0887"
             ],
             [
              0.1111111111111111,
              "#46039f"
             ],
             [
              0.2222222222222222,
              "#7201a8"
             ],
             [
              0.3333333333333333,
              "#9c179e"
             ],
             [
              0.4444444444444444,
              "#bd3786"
             ],
             [
              0.5555555555555556,
              "#d8576b"
             ],
             [
              0.6666666666666666,
              "#ed7953"
             ],
             [
              0.7777777777777778,
              "#fb9f3a"
             ],
             [
              0.8888888888888888,
              "#fdca26"
             ],
             [
              1,
              "#f0f921"
             ]
            ],
            "type": "heatmapgl"
           }
          ],
          "histogram": [
           {
            "marker": {
             "pattern": {
              "fillmode": "overlay",
              "size": 10,
              "solidity": 0.2
             }
            },
            "type": "histogram"
           }
          ],
          "histogram2d": [
           {
            "colorbar": {
             "outlinewidth": 0,
             "ticks": ""
            },
            "colorscale": [
             [
              0,
              "#0d0887"
             ],
             [
              0.1111111111111111,
              "#46039f"
             ],
             [
              0.2222222222222222,
              "#7201a8"
             ],
             [
              0.3333333333333333,
              "#9c179e"
             ],
             [
              0.4444444444444444,
              "#bd3786"
             ],
             [
              0.5555555555555556,
              "#d8576b"
             ],
             [
              0.6666666666666666,
              "#ed7953"
             ],
             [
              0.7777777777777778,
              "#fb9f3a"
             ],
             [
              0.8888888888888888,
              "#fdca26"
             ],
             [
              1,
              "#f0f921"
             ]
            ],
            "type": "histogram2d"
           }
          ],
          "histogram2dcontour": [
           {
            "colorbar": {
             "outlinewidth": 0,
             "ticks": ""
            },
            "colorscale": [
             [
              0,
              "#0d0887"
             ],
             [
              0.1111111111111111,
              "#46039f"
             ],
             [
              0.2222222222222222,
              "#7201a8"
             ],
             [
              0.3333333333333333,
              "#9c179e"
             ],
             [
              0.4444444444444444,
              "#bd3786"
             ],
             [
              0.5555555555555556,
              "#d8576b"
             ],
             [
              0.6666666666666666,
              "#ed7953"
             ],
             [
              0.7777777777777778,
              "#fb9f3a"
             ],
             [
              0.8888888888888888,
              "#fdca26"
             ],
             [
              1,
              "#f0f921"
             ]
            ],
            "type": "histogram2dcontour"
           }
          ],
          "mesh3d": [
           {
            "colorbar": {
             "outlinewidth": 0,
             "ticks": ""
            },
            "type": "mesh3d"
           }
          ],
          "parcoords": [
           {
            "line": {
             "colorbar": {
              "outlinewidth": 0,
              "ticks": ""
             }
            },
            "type": "parcoords"
           }
          ],
          "pie": [
           {
            "automargin": true,
            "type": "pie"
           }
          ],
          "scatter": [
           {
            "fillpattern": {
             "fillmode": "overlay",
             "size": 10,
             "solidity": 0.2
            },
            "type": "scatter"
           }
          ],
          "scatter3d": [
           {
            "line": {
             "colorbar": {
              "outlinewidth": 0,
              "ticks": ""
             }
            },
            "marker": {
             "colorbar": {
              "outlinewidth": 0,
              "ticks": ""
             }
            },
            "type": "scatter3d"
           }
          ],
          "scattercarpet": [
           {
            "marker": {
             "colorbar": {
              "outlinewidth": 0,
              "ticks": ""
             }
            },
            "type": "scattercarpet"
           }
          ],
          "scattergeo": [
           {
            "marker": {
             "colorbar": {
              "outlinewidth": 0,
              "ticks": ""
             }
            },
            "type": "scattergeo"
           }
          ],
          "scattergl": [
           {
            "marker": {
             "colorbar": {
              "outlinewidth": 0,
              "ticks": ""
             }
            },
            "type": "scattergl"
           }
          ],
          "scattermapbox": [
           {
            "marker": {
             "colorbar": {
              "outlinewidth": 0,
              "ticks": ""
             }
            },
            "type": "scattermapbox"
           }
          ],
          "scatterpolar": [
           {
            "marker": {
             "colorbar": {
              "outlinewidth": 0,
              "ticks": ""
             }
            },
            "type": "scatterpolar"
           }
          ],
          "scatterpolargl": [
           {
            "marker": {
             "colorbar": {
              "outlinewidth": 0,
              "ticks": ""
             }
            },
            "type": "scatterpolargl"
           }
          ],
          "scatterternary": [
           {
            "marker": {
             "colorbar": {
              "outlinewidth": 0,
              "ticks": ""
             }
            },
            "type": "scatterternary"
           }
          ],
          "surface": [
           {
            "colorbar": {
             "outlinewidth": 0,
             "ticks": ""
            },
            "colorscale": [
             [
              0,
              "#0d0887"
             ],
             [
              0.1111111111111111,
              "#46039f"
             ],
             [
              0.2222222222222222,
              "#7201a8"
             ],
             [
              0.3333333333333333,
              "#9c179e"
             ],
             [
              0.4444444444444444,
              "#bd3786"
             ],
             [
              0.5555555555555556,
              "#d8576b"
             ],
             [
              0.6666666666666666,
              "#ed7953"
             ],
             [
              0.7777777777777778,
              "#fb9f3a"
             ],
             [
              0.8888888888888888,
              "#fdca26"
             ],
             [
              1,
              "#f0f921"
             ]
            ],
            "type": "surface"
           }
          ],
          "table": [
           {
            "cells": {
             "fill": {
              "color": "#EBF0F8"
             },
             "line": {
              "color": "white"
             }
            },
            "header": {
             "fill": {
              "color": "#C8D4E3"
             },
             "line": {
              "color": "white"
             }
            },
            "type": "table"
           }
          ]
         },
         "layout": {
          "annotationdefaults": {
           "arrowcolor": "#2a3f5f",
           "arrowhead": 0,
           "arrowwidth": 1
          },
          "autotypenumbers": "strict",
          "coloraxis": {
           "colorbar": {
            "outlinewidth": 0,
            "ticks": ""
           }
          },
          "colorscale": {
           "diverging": [
            [
             0,
             "#8e0152"
            ],
            [
             0.1,
             "#c51b7d"
            ],
            [
             0.2,
             "#de77ae"
            ],
            [
             0.3,
             "#f1b6da"
            ],
            [
             0.4,
             "#fde0ef"
            ],
            [
             0.5,
             "#f7f7f7"
            ],
            [
             0.6,
             "#e6f5d0"
            ],
            [
             0.7,
             "#b8e186"
            ],
            [
             0.8,
             "#7fbc41"
            ],
            [
             0.9,
             "#4d9221"
            ],
            [
             1,
             "#276419"
            ]
           ],
           "sequential": [
            [
             0,
             "#0d0887"
            ],
            [
             0.1111111111111111,
             "#46039f"
            ],
            [
             0.2222222222222222,
             "#7201a8"
            ],
            [
             0.3333333333333333,
             "#9c179e"
            ],
            [
             0.4444444444444444,
             "#bd3786"
            ],
            [
             0.5555555555555556,
             "#d8576b"
            ],
            [
             0.6666666666666666,
             "#ed7953"
            ],
            [
             0.7777777777777778,
             "#fb9f3a"
            ],
            [
             0.8888888888888888,
             "#fdca26"
            ],
            [
             1,
             "#f0f921"
            ]
           ],
           "sequentialminus": [
            [
             0,
             "#0d0887"
            ],
            [
             0.1111111111111111,
             "#46039f"
            ],
            [
             0.2222222222222222,
             "#7201a8"
            ],
            [
             0.3333333333333333,
             "#9c179e"
            ],
            [
             0.4444444444444444,
             "#bd3786"
            ],
            [
             0.5555555555555556,
             "#d8576b"
            ],
            [
             0.6666666666666666,
             "#ed7953"
            ],
            [
             0.7777777777777778,
             "#fb9f3a"
            ],
            [
             0.8888888888888888,
             "#fdca26"
            ],
            [
             1,
             "#f0f921"
            ]
           ]
          },
          "colorway": [
           "#636efa",
           "#EF553B",
           "#00cc96",
           "#ab63fa",
           "#FFA15A",
           "#19d3f3",
           "#FF6692",
           "#B6E880",
           "#FF97FF",
           "#FECB52"
          ],
          "font": {
           "color": "#2a3f5f"
          },
          "geo": {
           "bgcolor": "white",
           "lakecolor": "white",
           "landcolor": "#E5ECF6",
           "showlakes": true,
           "showland": true,
           "subunitcolor": "white"
          },
          "hoverlabel": {
           "align": "left"
          },
          "hovermode": "closest",
          "mapbox": {
           "style": "light"
          },
          "paper_bgcolor": "white",
          "plot_bgcolor": "#E5ECF6",
          "polar": {
           "angularaxis": {
            "gridcolor": "white",
            "linecolor": "white",
            "ticks": ""
           },
           "bgcolor": "#E5ECF6",
           "radialaxis": {
            "gridcolor": "white",
            "linecolor": "white",
            "ticks": ""
           }
          },
          "scene": {
           "xaxis": {
            "backgroundcolor": "#E5ECF6",
            "gridcolor": "white",
            "gridwidth": 2,
            "linecolor": "white",
            "showbackground": true,
            "ticks": "",
            "zerolinecolor": "white"
           },
           "yaxis": {
            "backgroundcolor": "#E5ECF6",
            "gridcolor": "white",
            "gridwidth": 2,
            "linecolor": "white",
            "showbackground": true,
            "ticks": "",
            "zerolinecolor": "white"
           },
           "zaxis": {
            "backgroundcolor": "#E5ECF6",
            "gridcolor": "white",
            "gridwidth": 2,
            "linecolor": "white",
            "showbackground": true,
            "ticks": "",
            "zerolinecolor": "white"
           }
          },
          "shapedefaults": {
           "line": {
            "color": "#2a3f5f"
           }
          },
          "ternary": {
           "aaxis": {
            "gridcolor": "white",
            "linecolor": "white",
            "ticks": ""
           },
           "baxis": {
            "gridcolor": "white",
            "linecolor": "white",
            "ticks": ""
           },
           "bgcolor": "#E5ECF6",
           "caxis": {
            "gridcolor": "white",
            "linecolor": "white",
            "ticks": ""
           }
          },
          "title": {
           "x": 0.05
          },
          "xaxis": {
           "automargin": true,
           "gridcolor": "white",
           "linecolor": "white",
           "ticks": "",
           "title": {
            "standoff": 15
           },
           "zerolinecolor": "white",
           "zerolinewidth": 2
          },
          "yaxis": {
           "automargin": true,
           "gridcolor": "white",
           "linecolor": "white",
           "ticks": "",
           "title": {
            "standoff": 15
           },
           "zerolinecolor": "white",
           "zerolinewidth": 2
          }
         }
        },
        "title": {
         "text": "2022 TTD pilgrims Arrivals:"
        },
        "xaxis": {
         "anchor": "y",
         "domain": [
          0,
          1
         ],
         "title": {
          "text": "Date"
         }
        },
        "yaxis": {
         "anchor": "x",
         "domain": [
          0,
          1
         ],
         "title": {
          "text": "Piligrims"
         }
        }
       }
      },
      "text/html": [
       "<div>                            <div id=\"f82de992-ae16-406a-8f58-bc5c5a54c184\" class=\"plotly-graph-div\" style=\"height:525px; width:100%;\"></div>            <script type=\"text/javascript\">                require([\"plotly\"], function(Plotly) {                    window.PLOTLYENV=window.PLOTLYENV || {};                                    if (document.getElementById(\"f82de992-ae16-406a-8f58-bc5c5a54c184\")) {                    Plotly.newPlot(                        \"f82de992-ae16-406a-8f58-bc5c5a54c184\",                        [{\"fillpattern\":{\"shape\":\"\"},\"hovertemplate\":\"Date=%{x}<br>Piligrims=%{y}<extra></extra>\",\"legendgroup\":\"\",\"line\":{\"color\":\"#636efa\"},\"marker\":{\"symbol\":\"circle\"},\"mode\":\"lines\",\"name\":\"\",\"orientation\":\"v\",\"showlegend\":false,\"stackgroup\":\"1\",\"x\":[\"2022-1-1\",\"2022-1-2\",\"2022-1-3\",\"2022-1-4\",\"2022-1-5\",\"2022-1-6\",\"2022-1-7\",\"2022-1-8\",\"2022-1-9\",\"2022-1-10\",\"2022-1-11\",\"2022-1-12\",\"2022-1-13\",\"2022-1-14\",\"2022-1-15\",\"2022-1-16\",\"2022-1-17\",\"2022-1-18\",\"2022-1-19\",\"2022-1-20\",\"2022-1-21\",\"2022-1-22\",\"2022-1-23\",\"2022-1-24\",\"2022-1-25\",\"2022-1-26\",\"2022-1-27\",\"2022-1-28\",\"2022-1-29\",\"2022-1-30\",\"2022-1-31\",\"2022-2-1\",\"2022-2-2\",\"2022-2-3\",\"2022-2-4\",\"2022-2-5\",\"2022-2-6\",\"2022-2-7\",\"2022-2-8\",\"2022-2-9\",\"2022-2-10\",\"2022-2-11\",\"2022-2-12\",\"2022-2-13\",\"2022-2-14\",\"2022-2-15\",\"2022-2-16\",\"2022-2-17\",\"2022-2-18\",\"2022-2-19\",\"2022-2-20\",\"2022-2-21\",\"2022-2-22\",\"2022-2-23\",\"2022-2-24\",\"2022-2-25\",\"2022-2-26\",\"2022-2-27\",\"2022-2-28\",\"2022-3-1\",\"2022-3-2\",\"2022-3-3\",\"2022-3-4\",\"2022-3-5\",\"2022-3-6\",\"2022-3-7\",\"2022-3-8\",\"2022-3-9\",\"2022-3-10\",\"2022-3-11\",\"2022-3-12\",\"2022-3-13\",\"2022-3-14\",\"2022-3-15\",\"2022-3-16\",\"2022-3-17\",\"2022-3-18\",\"2022-3-19\",\"2022-3-20\",\"2022-3-21\",\"2022-3-22\",\"2022-3-23\",\"2022-3-24\",\"2022-3-25\",\"2022-3-26\",\"2022-3-27\",\"2022-3-28\",\"2022-3-29\",\"2022-3-30\",\"2022-3-31\",\"2022-4-1\",\"2022-4-2\",\"2022-4-3\",\"2022-4-4\",\"2022-4-5\",\"2022-4-6\",\"2022-4-7\",\"2022-4-8\",\"2022-4-9\",\"2022-4-10\",\"2022-4-11\",\"2022-4-12\",\"2022-4-13\",\"2022-4-14\",\"2022-4-15\",\"2022-4-16\",\"2022-4-17\",\"2022-4-18\",\"2022-4-19\",\"2022-4-20\",\"2022-4-21\",\"2022-4-22\",\"2022-4-23\",\"2022-4-24\",\"2022-4-25\",\"2022-4-26\",\"2022-4-27\",\"2022-4-28\",\"2022-4-29\",\"2022-4-30\",\"2022-5-1\",\"2022-5-2\",\"2022-5-3\",\"2022-5-4\",\"2022-5-5\",\"2022-5-6\",\"2022-5-7\",\"2022-5-8\",\"2022-5-9\",\"2022-5-10\",\"2022-5-11\",\"2022-5-12\",\"2022-5-13\",\"2022-5-14\",\"2022-5-15\",\"2022-5-16\",\"2022-5-17\",\"2022-5-18\",\"2022-5-19\",\"2022-5-20\",\"2022-5-21\",\"2022-5-22\",\"2022-5-23\",\"2022-5-24\",\"2022-5-25\",\"2022-5-26\",\"2022-5-27\",\"2022-5-28\",\"2022-5-29\",\"2022-5-30\",\"2022-5-31\",\"2022-6-1\",\"2022-6-2\",\"2022-6-3\",\"2022-6-4\",\"2022-6-5\",\"2022-6-6\",\"2022-6-7\",\"2022-6-8\",\"2022-6-9\",\"2022-6-10\",\"2022-6-11\",\"2022-6-12\",\"2022-6-13\",\"2022-6-14\",\"2022-6-15\",\"2022-6-16\",\"2022-6-17\",\"2022-6-18\",\"2022-6-19\",\"2022-6-20\",\"2022-6-21\",\"2022-6-22\",\"2022-6-23\",\"2022-6-24\",\"2022-6-25\",\"2022-6-26\",\"2022-6-27\",\"2022-6-28\",\"2022-6-29\",\"2022-6-30\",\"2022-7-1\",\"2022-7-2\",\"2022-7-3\",\"2022-7-4\",\"2022-7-5\",\"2022-7-6\",\"2022-7-7\",\"2022-7-8\",\"2022-7-9\",\"2022-7-10\",\"2022-7-11\",\"2022-7-12\",\"2022-7-13\",\"2022-7-14\",\"2022-7-15\",\"2022-7-16\",\"2022-7-17\",\"2022-7-18\",\"2022-7-19\",\"2022-7-20\",\"2022-7-21\",\"2022-7-22\",\"2022-7-23\",\"2022-7-24\",\"2022-7-25\",\"2022-7-26\",\"2022-7-27\",\"2022-7-28\",\"2022-7-29\",\"2022-7-30\",\"2022-7-31\",\"2022-8-1\",\"2022-8-2\",\"2022-8-3\",\"2022-8-4\",\"2022-8-5\",\"2022-8-6\",\"2022-8-7\",\"2022-8-8\",\"2022-8-9\",\"2022-8-10\",\"2022-8-11\",\"2022-8-12\",\"2022-8-13\",\"2022-8-14\",\"2022-8-15\",\"2022-8-16\",\"2022-8-17\",\"2022-8-18\",\"2022-8-19\",\"2022-8-20\",\"2022-8-21\",\"2022-8-22\",\"2022-8-23\",\"2022-8-24\",\"2022-8-25\",\"2022-8-26\",\"2022-8-27\",\"2022-8-28\",\"2022-8-29\",\"2022-8-30\",\"2022-8-31\",\"2022-9-1\",\"2022-9-2\",\"2022-9-3\",\"2022-9-4\",\"2022-9-5\",\"2022-9-6\",\"2022-9-7\",\"2022-9-8\",\"2022-9-9\",\"2022-9-10\",\"2022-9-11\",\"2022-9-12\",\"2022-9-13\",\"2022-9-14\",\"2022-9-15\",\"2022-9-16\",\"2022-9-17\",\"2022-9-18\",\"2022-9-19\",\"2022-9-20\",\"2022-9-21\",\"2022-9-22\",\"2022-9-23\",\"2022-9-24\",\"2022-9-25\",\"2022-9-26\",\"2022-9-27\",\"2022-9-28\",\"2022-9-29\",\"2022-9-30\",\"2022-10-1\",\"2022-10-2\",\"2022-10-3\",\"2022-10-4\",\"2022-10-5\",\"2022-10-6\",\"2022-10-7\",\"2022-10-8\",\"2022-10-9\",\"2022-10-10\",\"2022-10-11\",\"2022-10-12\",\"2022-10-13\",\"2022-10-14\",\"2022-10-15\",\"2022-10-16\",\"2022-10-17\",\"2022-10-18\",\"2022-10-19\",\"2022-10-20\",\"2022-10-21\",\"2022-10-22\",\"2022-10-23\",\"2022-10-24\",\"2022-10-25\",\"2022-10-26\",\"2022-10-27\",\"2022-10-28\",\"2022-10-29\",\"2022-10-30\",\"2022-10-31\",\"2022-11-1\",\"2022-11-2\",\"2022-11-3\",\"2022-11-4\",\"2022-11-5\",\"2022-11-6\",\"2022-11-7\",\"2022-11-8\",\"2022-11-9\",\"2022-11-10\",\"2022-11-11\",\"2022-11-12\",\"2022-11-13\",\"2022-11-14\",\"2022-11-15\",\"2022-11-16\",\"2022-11-17\",\"2022-11-18\",\"2022-11-19\",\"2022-11-20\",\"2022-11-21\",\"2022-11-22\",\"2022-11-23\",\"2022-11-24\",\"2022-11-25\",\"2022-11-26\",\"2022-11-27\",\"2022-11-28\",\"2022-11-29\",\"2022-11-30\",\"2022-12-1\",\"2022-12-2\",\"2022-12-3\",\"2022-12-4\",\"2022-12-5\",\"2022-12-6\",\"2022-12-7\",\"2022-12-8\",\"2022-12-9\",\"2022-12-10\",\"2022-12-11\",\"2022-12-12\",\"2022-12-13\",\"2022-12-14\",\"2022-12-15\",\"2022-12-16\",\"2022-12-17\",\"2022-12-18\",\"2022-12-19\",\"2022-12-20\",\"2022-12-21\",\"2022-12-22\",\"2022-12-23\",\"2022-12-24\",\"2022-12-25\",\"2022-12-26\",\"2022-12-27\",\"2022-12-28\",\"2022-12-29\",\"2022-12-30\",\"2022-12-31\"],\"xaxis\":\"x\",\"y\":[36560,38894,31776,31523,32044,29652,62856,33619,32235,32242,23744,25524,46118,37304,34375,35642,35333,33971,34187,36092,39440,45481,27895,27223,28745,27446,27536,24888,28234,27896,26401,29496,29026,31167,28410,34632,33737,35516,30172,32092,32894,32894,36333,33356,64425,31794,39691,39335,35584,41463,41390,39619,38000,37216,53740,56559,65704,68095,55532,53163,46172,50511,56686,67750,61052,57904,58561,59086,61620,65192,71069,74167,61982,61654,64368,66577,66763,72265,70408,64425,69711,64986,63042,65418,69897,71167,64425,54396,61224,54273,56958,62925,71034,66112,61654,68009,65840,60790,70727,66593,63223,72567,88748,82722,75110,76746,68299,64157,67858,66745,61278,63084,71069,75438,65763,67681,75078,64380,65725,75010,72904,65756,61654,69603,59528,63265,76324,75876,69154,61090,61863,61087,62001,81107,81720,72567,75400,74389,67625,71119,83739,70848,75324,75759,75759,72758,73358,89318,90885,74823,69848,71914,66001,71196,90165,78188,76921,76425,75345,70019,67949,87698,93400,78602,79103,77326,73371,76407,84982,90471,76597,74906,75472,68873,71589,71069,88613,74288,77154,70134,65898,64628,88026,88682,77907,73439,76418,75407,73016,87478,89013,62141,74212,71289,74304,72195,84885,73387,77273,74503,76821,71437,71395,78479,80815,72873,68982,73375,67364,58747,77541,81287,71450,72067,69628,62351,65939,79525,74830,64425,77277,74497,63754,64079,83422,92328,87692,72851,83880,70674,64438,79836,81523,72804,68467,74748,68128,69012,80312,74297,67950,64336,66086,63332,67525,79833,71158,67843,69115,65470,60946,64292,80741,86793,74231,75175,65634,60946,67425,82392,88924,67276,73186,74817,65187,65158,69650,52682,51308,64823,61879,60946,75382,81318,70848,82815,68539,63579,72195,70007,81034,86188,83223,77956,79370,72216,68675,81535,84794,70067,73420,72243,62725,62203,78299,80565,69278,25549,71689,67439,63512,84878,70848,70560,72176,68995,70263,63670,82604,84211,74094,22423,66946,61304,57104,73323,81130,69814,71461,74412,60861,61731,79471,80294,70163,69587,74354,66072,60157,73831,70848,67468,69211,69640,65568,64586,63931,80001,66020,64162,51376,54609,57581,69383,72466,65466,63214,59752,48928,61731,64107,75611,63759,63366,68469,63145,62055,71528,70373,62152,70496,71299,67156,63253,71069],\"yaxis\":\"y\",\"type\":\"scatter\"}],                        {\"template\":{\"data\":{\"histogram2dcontour\":[{\"type\":\"histogram2dcontour\",\"colorbar\":{\"outlinewidth\":0,\"ticks\":\"\"},\"colorscale\":[[0.0,\"#0d0887\"],[0.1111111111111111,\"#46039f\"],[0.2222222222222222,\"#7201a8\"],[0.3333333333333333,\"#9c179e\"],[0.4444444444444444,\"#bd3786\"],[0.5555555555555556,\"#d8576b\"],[0.6666666666666666,\"#ed7953\"],[0.7777777777777778,\"#fb9f3a\"],[0.8888888888888888,\"#fdca26\"],[1.0,\"#f0f921\"]]}],\"choropleth\":[{\"type\":\"choropleth\",\"colorbar\":{\"outlinewidth\":0,\"ticks\":\"\"}}],\"histogram2d\":[{\"type\":\"histogram2d\",\"colorbar\":{\"outlinewidth\":0,\"ticks\":\"\"},\"colorscale\":[[0.0,\"#0d0887\"],[0.1111111111111111,\"#46039f\"],[0.2222222222222222,\"#7201a8\"],[0.3333333333333333,\"#9c179e\"],[0.4444444444444444,\"#bd3786\"],[0.5555555555555556,\"#d8576b\"],[0.6666666666666666,\"#ed7953\"],[0.7777777777777778,\"#fb9f3a\"],[0.8888888888888888,\"#fdca26\"],[1.0,\"#f0f921\"]]}],\"heatmap\":[{\"type\":\"heatmap\",\"colorbar\":{\"outlinewidth\":0,\"ticks\":\"\"},\"colorscale\":[[0.0,\"#0d0887\"],[0.1111111111111111,\"#46039f\"],[0.2222222222222222,\"#7201a8\"],[0.3333333333333333,\"#9c179e\"],[0.4444444444444444,\"#bd3786\"],[0.5555555555555556,\"#d8576b\"],[0.6666666666666666,\"#ed7953\"],[0.7777777777777778,\"#fb9f3a\"],[0.8888888888888888,\"#fdca26\"],[1.0,\"#f0f921\"]]}],\"heatmapgl\":[{\"type\":\"heatmapgl\",\"colorbar\":{\"outlinewidth\":0,\"ticks\":\"\"},\"colorscale\":[[0.0,\"#0d0887\"],[0.1111111111111111,\"#46039f\"],[0.2222222222222222,\"#7201a8\"],[0.3333333333333333,\"#9c179e\"],[0.4444444444444444,\"#bd3786\"],[0.5555555555555556,\"#d8576b\"],[0.6666666666666666,\"#ed7953\"],[0.7777777777777778,\"#fb9f3a\"],[0.8888888888888888,\"#fdca26\"],[1.0,\"#f0f921\"]]}],\"contourcarpet\":[{\"type\":\"contourcarpet\",\"colorbar\":{\"outlinewidth\":0,\"ticks\":\"\"}}],\"contour\":[{\"type\":\"contour\",\"colorbar\":{\"outlinewidth\":0,\"ticks\":\"\"},\"colorscale\":[[0.0,\"#0d0887\"],[0.1111111111111111,\"#46039f\"],[0.2222222222222222,\"#7201a8\"],[0.3333333333333333,\"#9c179e\"],[0.4444444444444444,\"#bd3786\"],[0.5555555555555556,\"#d8576b\"],[0.6666666666666666,\"#ed7953\"],[0.7777777777777778,\"#fb9f3a\"],[0.8888888888888888,\"#fdca26\"],[1.0,\"#f0f921\"]]}],\"surface\":[{\"type\":\"surface\",\"colorbar\":{\"outlinewidth\":0,\"ticks\":\"\"},\"colorscale\":[[0.0,\"#0d0887\"],[0.1111111111111111,\"#46039f\"],[0.2222222222222222,\"#7201a8\"],[0.3333333333333333,\"#9c179e\"],[0.4444444444444444,\"#bd3786\"],[0.5555555555555556,\"#d8576b\"],[0.6666666666666666,\"#ed7953\"],[0.7777777777777778,\"#fb9f3a\"],[0.8888888888888888,\"#fdca26\"],[1.0,\"#f0f921\"]]}],\"mesh3d\":[{\"type\":\"mesh3d\",\"colorbar\":{\"outlinewidth\":0,\"ticks\":\"\"}}],\"scatter\":[{\"fillpattern\":{\"fillmode\":\"overlay\",\"size\":10,\"solidity\":0.2},\"type\":\"scatter\"}],\"parcoords\":[{\"type\":\"parcoords\",\"line\":{\"colorbar\":{\"outlinewidth\":0,\"ticks\":\"\"}}}],\"scatterpolargl\":[{\"type\":\"scatterpolargl\",\"marker\":{\"colorbar\":{\"outlinewidth\":0,\"ticks\":\"\"}}}],\"bar\":[{\"error_x\":{\"color\":\"#2a3f5f\"},\"error_y\":{\"color\":\"#2a3f5f\"},\"marker\":{\"line\":{\"color\":\"#E5ECF6\",\"width\":0.5},\"pattern\":{\"fillmode\":\"overlay\",\"size\":10,\"solidity\":0.2}},\"type\":\"bar\"}],\"scattergeo\":[{\"type\":\"scattergeo\",\"marker\":{\"colorbar\":{\"outlinewidth\":0,\"ticks\":\"\"}}}],\"scatterpolar\":[{\"type\":\"scatterpolar\",\"marker\":{\"colorbar\":{\"outlinewidth\":0,\"ticks\":\"\"}}}],\"histogram\":[{\"marker\":{\"pattern\":{\"fillmode\":\"overlay\",\"size\":10,\"solidity\":0.2}},\"type\":\"histogram\"}],\"scattergl\":[{\"type\":\"scattergl\",\"marker\":{\"colorbar\":{\"outlinewidth\":0,\"ticks\":\"\"}}}],\"scatter3d\":[{\"type\":\"scatter3d\",\"line\":{\"colorbar\":{\"outlinewidth\":0,\"ticks\":\"\"}},\"marker\":{\"colorbar\":{\"outlinewidth\":0,\"ticks\":\"\"}}}],\"scattermapbox\":[{\"type\":\"scattermapbox\",\"marker\":{\"colorbar\":{\"outlinewidth\":0,\"ticks\":\"\"}}}],\"scatterternary\":[{\"type\":\"scatterternary\",\"marker\":{\"colorbar\":{\"outlinewidth\":0,\"ticks\":\"\"}}}],\"scattercarpet\":[{\"type\":\"scattercarpet\",\"marker\":{\"colorbar\":{\"outlinewidth\":0,\"ticks\":\"\"}}}],\"carpet\":[{\"aaxis\":{\"endlinecolor\":\"#2a3f5f\",\"gridcolor\":\"white\",\"linecolor\":\"white\",\"minorgridcolor\":\"white\",\"startlinecolor\":\"#2a3f5f\"},\"baxis\":{\"endlinecolor\":\"#2a3f5f\",\"gridcolor\":\"white\",\"linecolor\":\"white\",\"minorgridcolor\":\"white\",\"startlinecolor\":\"#2a3f5f\"},\"type\":\"carpet\"}],\"table\":[{\"cells\":{\"fill\":{\"color\":\"#EBF0F8\"},\"line\":{\"color\":\"white\"}},\"header\":{\"fill\":{\"color\":\"#C8D4E3\"},\"line\":{\"color\":\"white\"}},\"type\":\"table\"}],\"barpolar\":[{\"marker\":{\"line\":{\"color\":\"#E5ECF6\",\"width\":0.5},\"pattern\":{\"fillmode\":\"overlay\",\"size\":10,\"solidity\":0.2}},\"type\":\"barpolar\"}],\"pie\":[{\"automargin\":true,\"type\":\"pie\"}]},\"layout\":{\"autotypenumbers\":\"strict\",\"colorway\":[\"#636efa\",\"#EF553B\",\"#00cc96\",\"#ab63fa\",\"#FFA15A\",\"#19d3f3\",\"#FF6692\",\"#B6E880\",\"#FF97FF\",\"#FECB52\"],\"font\":{\"color\":\"#2a3f5f\"},\"hovermode\":\"closest\",\"hoverlabel\":{\"align\":\"left\"},\"paper_bgcolor\":\"white\",\"plot_bgcolor\":\"#E5ECF6\",\"polar\":{\"bgcolor\":\"#E5ECF6\",\"angularaxis\":{\"gridcolor\":\"white\",\"linecolor\":\"white\",\"ticks\":\"\"},\"radialaxis\":{\"gridcolor\":\"white\",\"linecolor\":\"white\",\"ticks\":\"\"}},\"ternary\":{\"bgcolor\":\"#E5ECF6\",\"aaxis\":{\"gridcolor\":\"white\",\"linecolor\":\"white\",\"ticks\":\"\"},\"baxis\":{\"gridcolor\":\"white\",\"linecolor\":\"white\",\"ticks\":\"\"},\"caxis\":{\"gridcolor\":\"white\",\"linecolor\":\"white\",\"ticks\":\"\"}},\"coloraxis\":{\"colorbar\":{\"outlinewidth\":0,\"ticks\":\"\"}},\"colorscale\":{\"sequential\":[[0.0,\"#0d0887\"],[0.1111111111111111,\"#46039f\"],[0.2222222222222222,\"#7201a8\"],[0.3333333333333333,\"#9c179e\"],[0.4444444444444444,\"#bd3786\"],[0.5555555555555556,\"#d8576b\"],[0.6666666666666666,\"#ed7953\"],[0.7777777777777778,\"#fb9f3a\"],[0.8888888888888888,\"#fdca26\"],[1.0,\"#f0f921\"]],\"sequentialminus\":[[0.0,\"#0d0887\"],[0.1111111111111111,\"#46039f\"],[0.2222222222222222,\"#7201a8\"],[0.3333333333333333,\"#9c179e\"],[0.4444444444444444,\"#bd3786\"],[0.5555555555555556,\"#d8576b\"],[0.6666666666666666,\"#ed7953\"],[0.7777777777777778,\"#fb9f3a\"],[0.8888888888888888,\"#fdca26\"],[1.0,\"#f0f921\"]],\"diverging\":[[0,\"#8e0152\"],[0.1,\"#c51b7d\"],[0.2,\"#de77ae\"],[0.3,\"#f1b6da\"],[0.4,\"#fde0ef\"],[0.5,\"#f7f7f7\"],[0.6,\"#e6f5d0\"],[0.7,\"#b8e186\"],[0.8,\"#7fbc41\"],[0.9,\"#4d9221\"],[1,\"#276419\"]]},\"xaxis\":{\"gridcolor\":\"white\",\"linecolor\":\"white\",\"ticks\":\"\",\"title\":{\"standoff\":15},\"zerolinecolor\":\"white\",\"automargin\":true,\"zerolinewidth\":2},\"yaxis\":{\"gridcolor\":\"white\",\"linecolor\":\"white\",\"ticks\":\"\",\"title\":{\"standoff\":15},\"zerolinecolor\":\"white\",\"automargin\":true,\"zerolinewidth\":2},\"scene\":{\"xaxis\":{\"backgroundcolor\":\"#E5ECF6\",\"gridcolor\":\"white\",\"linecolor\":\"white\",\"showbackground\":true,\"ticks\":\"\",\"zerolinecolor\":\"white\",\"gridwidth\":2},\"yaxis\":{\"backgroundcolor\":\"#E5ECF6\",\"gridcolor\":\"white\",\"linecolor\":\"white\",\"showbackground\":true,\"ticks\":\"\",\"zerolinecolor\":\"white\",\"gridwidth\":2},\"zaxis\":{\"backgroundcolor\":\"#E5ECF6\",\"gridcolor\":\"white\",\"linecolor\":\"white\",\"showbackground\":true,\"ticks\":\"\",\"zerolinecolor\":\"white\",\"gridwidth\":2}},\"shapedefaults\":{\"line\":{\"color\":\"#2a3f5f\"}},\"annotationdefaults\":{\"arrowcolor\":\"#2a3f5f\",\"arrowhead\":0,\"arrowwidth\":1},\"geo\":{\"bgcolor\":\"white\",\"landcolor\":\"#E5ECF6\",\"subunitcolor\":\"white\",\"showland\":true,\"showlakes\":true,\"lakecolor\":\"white\"},\"title\":{\"x\":0.05},\"mapbox\":{\"style\":\"light\"}}},\"xaxis\":{\"anchor\":\"y\",\"domain\":[0.0,1.0],\"title\":{\"text\":\"Date\"}},\"yaxis\":{\"anchor\":\"x\",\"domain\":[0.0,1.0],\"title\":{\"text\":\"Piligrims\"}},\"legend\":{\"tracegroupgap\":0},\"title\":{\"text\":\"2022 TTD pilgrims Arrivals:\"}},                        {\"responsive\": true}                    ).then(function(){\n",
       "                            \n",
       "var gd = document.getElementById('f82de992-ae16-406a-8f58-bc5c5a54c184');\n",
       "var x = new MutationObserver(function (mutations, observer) {{\n",
       "        var display = window.getComputedStyle(gd).display;\n",
       "        if (!display || display === 'none') {{\n",
       "            console.log([gd, 'removed!']);\n",
       "            Plotly.purge(gd);\n",
       "            observer.disconnect();\n",
       "        }}\n",
       "}});\n",
       "\n",
       "// Listen for the removal of the full notebook cells\n",
       "var notebookContainer = gd.closest('#notebook-container');\n",
       "if (notebookContainer) {{\n",
       "    x.observe(notebookContainer, {childList: true});\n",
       "}}\n",
       "\n",
       "// Listen for the clearing of the current output cell\n",
       "var outputEl = gd.closest('.output');\n",
       "if (outputEl) {{\n",
       "    x.observe(outputEl, {childList: true});\n",
       "}}\n",
       "\n",
       "                        })                };                });            </script>        </div>"
      ]
     },
     "metadata": {},
     "output_type": "display_data"
    }
   ],
   "source": [
    "import plotly.express as px\n",
    "fig = px.area(data, x='Date', y=\"Piligrims\",title='2022 TTD pilgrims Arrivals:')\n",
    "fig.show()"
   ]
  },
  {
   "cell_type": "code",
   "execution_count": 78,
   "id": "e8c2def3",
   "metadata": {},
   "outputs": [
    {
     "data": {
      "application/vnd.plotly.v1+json": {
       "config": {
        "plotlyServerURL": "https://plot.ly"
       },
       "data": [
        {
         "hovertemplate": "Piligrims=%{x}<br>Tonsures=%{y}<extra></extra>",
         "legendgroup": "",
         "marker": {
          "color": "#636efa",
          "symbol": "circle"
         },
         "mode": "markers",
         "name": "",
         "orientation": "v",
         "showlegend": false,
         "type": "scatter",
         "x": [
          36560,
          38894,
          31776,
          31523,
          32044,
          29652,
          62856,
          33619,
          32235,
          32242,
          23744,
          25524,
          46118,
          37304,
          34375,
          35642,
          35333,
          33971,
          34187,
          36092,
          39440,
          45481,
          27895,
          27223,
          28745,
          27446,
          27536,
          24888,
          28234,
          27896,
          26401,
          29496,
          29026,
          31167,
          28410,
          34632,
          33737,
          35516,
          30172,
          32092,
          32894,
          32894,
          36333,
          33356,
          64425,
          31794,
          39691,
          39335,
          35584,
          41463,
          41390,
          39619,
          38000,
          37216,
          53740,
          56559,
          65704,
          68095,
          55532,
          53163,
          46172,
          50511,
          56686,
          67750,
          61052,
          57904,
          58561,
          59086,
          61620,
          65192,
          71069,
          74167,
          61982,
          61654,
          64368,
          66577,
          66763,
          72265,
          70408,
          64425,
          69711,
          64986,
          63042,
          65418,
          69897,
          71167,
          64425,
          54396,
          61224,
          54273,
          56958,
          62925,
          71034,
          66112,
          61654,
          68009,
          65840,
          60790,
          70727,
          66593,
          63223,
          72567,
          88748,
          82722,
          75110,
          76746,
          68299,
          64157,
          67858,
          66745,
          61278,
          63084,
          71069,
          75438,
          65763,
          67681,
          75078,
          64380,
          65725,
          75010,
          72904,
          65756,
          61654,
          69603,
          59528,
          63265,
          76324,
          75876,
          69154,
          61090,
          61863,
          61087,
          62001,
          81107,
          81720,
          72567,
          75400,
          74389,
          67625,
          71119,
          83739,
          70848,
          75324,
          75759,
          75759,
          72758,
          73358,
          89318,
          90885,
          74823,
          69848,
          71914,
          66001,
          71196,
          90165,
          78188,
          76921,
          76425,
          75345,
          70019,
          67949,
          87698,
          93400,
          78602,
          79103,
          77326,
          73371,
          76407,
          84982,
          90471,
          76597,
          74906,
          75472,
          68873,
          71589,
          71069,
          88613,
          74288,
          77154,
          70134,
          65898,
          64628,
          88026,
          88682,
          77907,
          73439,
          76418,
          75407,
          73016,
          87478,
          89013,
          62141,
          74212,
          71289,
          74304,
          72195,
          84885,
          73387,
          77273,
          74503,
          76821,
          71437,
          71395,
          78479,
          80815,
          72873,
          68982,
          73375,
          67364,
          58747,
          77541,
          81287,
          71450,
          72067,
          69628,
          62351,
          65939,
          79525,
          74830,
          64425,
          77277,
          74497,
          63754,
          64079,
          83422,
          92328,
          87692,
          72851,
          83880,
          70674,
          64438,
          79836,
          81523,
          72804,
          68467,
          74748,
          68128,
          69012,
          80312,
          74297,
          67950,
          64336,
          66086,
          63332,
          67525,
          79833,
          71158,
          67843,
          69115,
          65470,
          60946,
          64292,
          80741,
          86793,
          74231,
          75175,
          65634,
          60946,
          67425,
          82392,
          88924,
          67276,
          73186,
          74817,
          65187,
          65158,
          69650,
          52682,
          51308,
          64823,
          61879,
          60946,
          75382,
          81318,
          70848,
          82815,
          68539,
          63579,
          72195,
          70007,
          81034,
          86188,
          83223,
          77956,
          79370,
          72216,
          68675,
          81535,
          84794,
          70067,
          73420,
          72243,
          62725,
          62203,
          78299,
          80565,
          69278,
          25549,
          71689,
          67439,
          63512,
          84878,
          70848,
          70560,
          72176,
          68995,
          70263,
          63670,
          82604,
          84211,
          74094,
          22423,
          66946,
          61304,
          57104,
          73323,
          81130,
          69814,
          71461,
          74412,
          60861,
          61731,
          79471,
          80294,
          70163,
          69587,
          74354,
          66072,
          60157,
          73831,
          70848,
          67468,
          69211,
          69640,
          65568,
          64586,
          63931,
          80001,
          66020,
          64162,
          51376,
          54609,
          57581,
          69383,
          72466,
          65466,
          63214,
          59752,
          48928,
          61731,
          64107,
          75611,
          63759,
          63366,
          68469,
          63145,
          62055,
          71528,
          70373,
          62152,
          70496,
          71299,
          67156,
          63253,
          71069
         ],
         "xaxis": "x",
         "y": [
          14084,
          12270,
          16046,
          14692,
          17558,
          14916,
          22115,
          15769,
          15003,
          15715,
          12017,
          13052,
          10594,
          9645,
          11156,
          11178,
          12252,
          11356,
          13279,
          13738,
          13692,
          15909,
          13631,
          14624,
          13553,
          13403,
          13635,
          12650,
          12466,
          11135,
          12401,
          12210,
          15110,
          15701,
          14831,
          16399,
          13954,
          13797,
          10829,
          29985,
          15770,
          14359,
          17174,
          16259,
          29476,
          16731,
          18303,
          18834,
          18608,
          21975,
          20527,
          21846,
          17778,
          22009,
          26977,
          28751,
          33187,
          29050,
          25114,
          20651,
          19395,
          22089,
          27997,
          30192,
          27500,
          26877,
          25401,
          28701,
          28988,
          32592,
          34741,
          33976,
          27400,
          25920,
          31179,
          31471,
          33133,
          34517,
          34932,
          29476,
          30871,
          33200,
          31218,
          33451,
          38099,
          34688,
          29476,
          29334,
          33930,
          28089,
          26029,
          33893,
          32291,
          35727,
          25920,
          39518,
          34135,
          35106,
          38970,
          31206,
          34547,
          40468,
          38558,
          33678,
          34241,
          31574,
          26421,
          29720,
          28536,
          30780,
          30585,
          28563,
          34741,
          29440,
          33758,
          31738,
          34674,
          31204,
          30346,
          31116,
          30702,
          34774,
          25920,
          30434,
          29995,
          31217,
          38710,
          32164,
          29617,
          26316,
          30135,
          30271,
          32303,
          43531,
          34266,
          34718,
          32223,
          38007,
          34584,
          37256,
          46187,
          29957,
          35086,
          31050,
          39208,
          40504,
          41900,
          48539,
          35707,
          31159,
          28716,
          37234,
          38831,
          36936,
          43362,
          35427,
          39568,
          36053,
          36091,
          36124,
          39837,
          48804,
          39451,
          42423,
          37292,
          38742,
          39924,
          39938,
          46679,
          37039,
          37759,
          36138,
          38335,
          38952,
          41240,
          34741,
          36153,
          36473,
          30182,
          30059,
          33686,
          41613,
          50652,
          37447,
          38267,
          34490,
          38629,
          35535,
          37068,
          48692,
          37698,
          33880,
          25920,
          33210,
          31880,
          35967,
          41211,
          33965,
          35893,
          30884,
          34732,
          31315,
          32533,
          37521,
          31562,
          32641,
          29092,
          31117,
          25058,
          28496,
          39533,
          34436,
          31320,
          27581,
          32604,
          31473,
          32894,
          39545,
          39405,
          29476,
          31272,
          36244,
          30790,
          32852,
          50100,
          52969,
          36832,
          34404,
          38710,
          35930,
          34361,
          35916,
          37100,
          39142,
          35506,
          39086,
          34021,
          29195,
          29538,
          27317,
          31407,
          25487,
          27305,
          26656,
          31484,
          36074,
          27968,
          31817,
          31762,
          29899,
          28638,
          30641,
          41494,
          30254,
          33591,
          31979,
          31419,
          28638,
          32693,
          41800,
          34282,
          31140,
          27365,
          33350,
          27877,
          28416,
          20409,
          15805,
          18812,
          22890,
          24634,
          28638,
          31424,
          38464,
          29957,
          27147,
          22177,
          34524,
          41071,
          42866,
          47312,
          41032,
          36658,
          33672,
          39199,
          32338,
          32533,
          37357,
          35560,
          33092,
          27621,
          32652,
          30172,
          29100,
          34625,
          31608,
          17660,
          9764,
          28640,
          29450,
          35549,
          41016,
          29957,
          29751,
          25549,
          29037,
          28965,
          30475,
          37025,
          30906,
          21475,
          9679,
          26990,
          30133,
          32351,
          41041,
          29464,
          29228,
          26631,
          27626,
          28519,
          30254,
          36594,
          31554,
          31489,
          28645,
          23931,
          25239,
          31445,
          34443,
          29957,
          36082,
          26764,
          28649,
          25144,
          27501,
          34813,
          32967,
          29195,
          23709,
          24878,
          26718,
          27021,
          32391,
          28123,
          26174,
          23147,
          26000,
          23322,
          30254,
          30482,
          29228,
          30102,
          24494,
          27025,
          22411,
          23044,
          32008,
          32954,
          30682,
          25500,
          28288,
          24752,
          24490,
          34741
         ],
         "yaxis": "y"
        }
       ],
       "layout": {
        "legend": {
         "tracegroupgap": 0
        },
        "template": {
         "data": {
          "bar": [
           {
            "error_x": {
             "color": "#2a3f5f"
            },
            "error_y": {
             "color": "#2a3f5f"
            },
            "marker": {
             "line": {
              "color": "#E5ECF6",
              "width": 0.5
             },
             "pattern": {
              "fillmode": "overlay",
              "size": 10,
              "solidity": 0.2
             }
            },
            "type": "bar"
           }
          ],
          "barpolar": [
           {
            "marker": {
             "line": {
              "color": "#E5ECF6",
              "width": 0.5
             },
             "pattern": {
              "fillmode": "overlay",
              "size": 10,
              "solidity": 0.2
             }
            },
            "type": "barpolar"
           }
          ],
          "carpet": [
           {
            "aaxis": {
             "endlinecolor": "#2a3f5f",
             "gridcolor": "white",
             "linecolor": "white",
             "minorgridcolor": "white",
             "startlinecolor": "#2a3f5f"
            },
            "baxis": {
             "endlinecolor": "#2a3f5f",
             "gridcolor": "white",
             "linecolor": "white",
             "minorgridcolor": "white",
             "startlinecolor": "#2a3f5f"
            },
            "type": "carpet"
           }
          ],
          "choropleth": [
           {
            "colorbar": {
             "outlinewidth": 0,
             "ticks": ""
            },
            "type": "choropleth"
           }
          ],
          "contour": [
           {
            "colorbar": {
             "outlinewidth": 0,
             "ticks": ""
            },
            "colorscale": [
             [
              0,
              "#0d0887"
             ],
             [
              0.1111111111111111,
              "#46039f"
             ],
             [
              0.2222222222222222,
              "#7201a8"
             ],
             [
              0.3333333333333333,
              "#9c179e"
             ],
             [
              0.4444444444444444,
              "#bd3786"
             ],
             [
              0.5555555555555556,
              "#d8576b"
             ],
             [
              0.6666666666666666,
              "#ed7953"
             ],
             [
              0.7777777777777778,
              "#fb9f3a"
             ],
             [
              0.8888888888888888,
              "#fdca26"
             ],
             [
              1,
              "#f0f921"
             ]
            ],
            "type": "contour"
           }
          ],
          "contourcarpet": [
           {
            "colorbar": {
             "outlinewidth": 0,
             "ticks": ""
            },
            "type": "contourcarpet"
           }
          ],
          "heatmap": [
           {
            "colorbar": {
             "outlinewidth": 0,
             "ticks": ""
            },
            "colorscale": [
             [
              0,
              "#0d0887"
             ],
             [
              0.1111111111111111,
              "#46039f"
             ],
             [
              0.2222222222222222,
              "#7201a8"
             ],
             [
              0.3333333333333333,
              "#9c179e"
             ],
             [
              0.4444444444444444,
              "#bd3786"
             ],
             [
              0.5555555555555556,
              "#d8576b"
             ],
             [
              0.6666666666666666,
              "#ed7953"
             ],
             [
              0.7777777777777778,
              "#fb9f3a"
             ],
             [
              0.8888888888888888,
              "#fdca26"
             ],
             [
              1,
              "#f0f921"
             ]
            ],
            "type": "heatmap"
           }
          ],
          "heatmapgl": [
           {
            "colorbar": {
             "outlinewidth": 0,
             "ticks": ""
            },
            "colorscale": [
             [
              0,
              "#0d0887"
             ],
             [
              0.1111111111111111,
              "#46039f"
             ],
             [
              0.2222222222222222,
              "#7201a8"
             ],
             [
              0.3333333333333333,
              "#9c179e"
             ],
             [
              0.4444444444444444,
              "#bd3786"
             ],
             [
              0.5555555555555556,
              "#d8576b"
             ],
             [
              0.6666666666666666,
              "#ed7953"
             ],
             [
              0.7777777777777778,
              "#fb9f3a"
             ],
             [
              0.8888888888888888,
              "#fdca26"
             ],
             [
              1,
              "#f0f921"
             ]
            ],
            "type": "heatmapgl"
           }
          ],
          "histogram": [
           {
            "marker": {
             "pattern": {
              "fillmode": "overlay",
              "size": 10,
              "solidity": 0.2
             }
            },
            "type": "histogram"
           }
          ],
          "histogram2d": [
           {
            "colorbar": {
             "outlinewidth": 0,
             "ticks": ""
            },
            "colorscale": [
             [
              0,
              "#0d0887"
             ],
             [
              0.1111111111111111,
              "#46039f"
             ],
             [
              0.2222222222222222,
              "#7201a8"
             ],
             [
              0.3333333333333333,
              "#9c179e"
             ],
             [
              0.4444444444444444,
              "#bd3786"
             ],
             [
              0.5555555555555556,
              "#d8576b"
             ],
             [
              0.6666666666666666,
              "#ed7953"
             ],
             [
              0.7777777777777778,
              "#fb9f3a"
             ],
             [
              0.8888888888888888,
              "#fdca26"
             ],
             [
              1,
              "#f0f921"
             ]
            ],
            "type": "histogram2d"
           }
          ],
          "histogram2dcontour": [
           {
            "colorbar": {
             "outlinewidth": 0,
             "ticks": ""
            },
            "colorscale": [
             [
              0,
              "#0d0887"
             ],
             [
              0.1111111111111111,
              "#46039f"
             ],
             [
              0.2222222222222222,
              "#7201a8"
             ],
             [
              0.3333333333333333,
              "#9c179e"
             ],
             [
              0.4444444444444444,
              "#bd3786"
             ],
             [
              0.5555555555555556,
              "#d8576b"
             ],
             [
              0.6666666666666666,
              "#ed7953"
             ],
             [
              0.7777777777777778,
              "#fb9f3a"
             ],
             [
              0.8888888888888888,
              "#fdca26"
             ],
             [
              1,
              "#f0f921"
             ]
            ],
            "type": "histogram2dcontour"
           }
          ],
          "mesh3d": [
           {
            "colorbar": {
             "outlinewidth": 0,
             "ticks": ""
            },
            "type": "mesh3d"
           }
          ],
          "parcoords": [
           {
            "line": {
             "colorbar": {
              "outlinewidth": 0,
              "ticks": ""
             }
            },
            "type": "parcoords"
           }
          ],
          "pie": [
           {
            "automargin": true,
            "type": "pie"
           }
          ],
          "scatter": [
           {
            "fillpattern": {
             "fillmode": "overlay",
             "size": 10,
             "solidity": 0.2
            },
            "type": "scatter"
           }
          ],
          "scatter3d": [
           {
            "line": {
             "colorbar": {
              "outlinewidth": 0,
              "ticks": ""
             }
            },
            "marker": {
             "colorbar": {
              "outlinewidth": 0,
              "ticks": ""
             }
            },
            "type": "scatter3d"
           }
          ],
          "scattercarpet": [
           {
            "marker": {
             "colorbar": {
              "outlinewidth": 0,
              "ticks": ""
             }
            },
            "type": "scattercarpet"
           }
          ],
          "scattergeo": [
           {
            "marker": {
             "colorbar": {
              "outlinewidth": 0,
              "ticks": ""
             }
            },
            "type": "scattergeo"
           }
          ],
          "scattergl": [
           {
            "marker": {
             "colorbar": {
              "outlinewidth": 0,
              "ticks": ""
             }
            },
            "type": "scattergl"
           }
          ],
          "scattermapbox": [
           {
            "marker": {
             "colorbar": {
              "outlinewidth": 0,
              "ticks": ""
             }
            },
            "type": "scattermapbox"
           }
          ],
          "scatterpolar": [
           {
            "marker": {
             "colorbar": {
              "outlinewidth": 0,
              "ticks": ""
             }
            },
            "type": "scatterpolar"
           }
          ],
          "scatterpolargl": [
           {
            "marker": {
             "colorbar": {
              "outlinewidth": 0,
              "ticks": ""
             }
            },
            "type": "scatterpolargl"
           }
          ],
          "scatterternary": [
           {
            "marker": {
             "colorbar": {
              "outlinewidth": 0,
              "ticks": ""
             }
            },
            "type": "scatterternary"
           }
          ],
          "surface": [
           {
            "colorbar": {
             "outlinewidth": 0,
             "ticks": ""
            },
            "colorscale": [
             [
              0,
              "#0d0887"
             ],
             [
              0.1111111111111111,
              "#46039f"
             ],
             [
              0.2222222222222222,
              "#7201a8"
             ],
             [
              0.3333333333333333,
              "#9c179e"
             ],
             [
              0.4444444444444444,
              "#bd3786"
             ],
             [
              0.5555555555555556,
              "#d8576b"
             ],
             [
              0.6666666666666666,
              "#ed7953"
             ],
             [
              0.7777777777777778,
              "#fb9f3a"
             ],
             [
              0.8888888888888888,
              "#fdca26"
             ],
             [
              1,
              "#f0f921"
             ]
            ],
            "type": "surface"
           }
          ],
          "table": [
           {
            "cells": {
             "fill": {
              "color": "#EBF0F8"
             },
             "line": {
              "color": "white"
             }
            },
            "header": {
             "fill": {
              "color": "#C8D4E3"
             },
             "line": {
              "color": "white"
             }
            },
            "type": "table"
           }
          ]
         },
         "layout": {
          "annotationdefaults": {
           "arrowcolor": "#2a3f5f",
           "arrowhead": 0,
           "arrowwidth": 1
          },
          "autotypenumbers": "strict",
          "coloraxis": {
           "colorbar": {
            "outlinewidth": 0,
            "ticks": ""
           }
          },
          "colorscale": {
           "diverging": [
            [
             0,
             "#8e0152"
            ],
            [
             0.1,
             "#c51b7d"
            ],
            [
             0.2,
             "#de77ae"
            ],
            [
             0.3,
             "#f1b6da"
            ],
            [
             0.4,
             "#fde0ef"
            ],
            [
             0.5,
             "#f7f7f7"
            ],
            [
             0.6,
             "#e6f5d0"
            ],
            [
             0.7,
             "#b8e186"
            ],
            [
             0.8,
             "#7fbc41"
            ],
            [
             0.9,
             "#4d9221"
            ],
            [
             1,
             "#276419"
            ]
           ],
           "sequential": [
            [
             0,
             "#0d0887"
            ],
            [
             0.1111111111111111,
             "#46039f"
            ],
            [
             0.2222222222222222,
             "#7201a8"
            ],
            [
             0.3333333333333333,
             "#9c179e"
            ],
            [
             0.4444444444444444,
             "#bd3786"
            ],
            [
             0.5555555555555556,
             "#d8576b"
            ],
            [
             0.6666666666666666,
             "#ed7953"
            ],
            [
             0.7777777777777778,
             "#fb9f3a"
            ],
            [
             0.8888888888888888,
             "#fdca26"
            ],
            [
             1,
             "#f0f921"
            ]
           ],
           "sequentialminus": [
            [
             0,
             "#0d0887"
            ],
            [
             0.1111111111111111,
             "#46039f"
            ],
            [
             0.2222222222222222,
             "#7201a8"
            ],
            [
             0.3333333333333333,
             "#9c179e"
            ],
            [
             0.4444444444444444,
             "#bd3786"
            ],
            [
             0.5555555555555556,
             "#d8576b"
            ],
            [
             0.6666666666666666,
             "#ed7953"
            ],
            [
             0.7777777777777778,
             "#fb9f3a"
            ],
            [
             0.8888888888888888,
             "#fdca26"
            ],
            [
             1,
             "#f0f921"
            ]
           ]
          },
          "colorway": [
           "#636efa",
           "#EF553B",
           "#00cc96",
           "#ab63fa",
           "#FFA15A",
           "#19d3f3",
           "#FF6692",
           "#B6E880",
           "#FF97FF",
           "#FECB52"
          ],
          "font": {
           "color": "#2a3f5f"
          },
          "geo": {
           "bgcolor": "white",
           "lakecolor": "white",
           "landcolor": "#E5ECF6",
           "showlakes": true,
           "showland": true,
           "subunitcolor": "white"
          },
          "hoverlabel": {
           "align": "left"
          },
          "hovermode": "closest",
          "mapbox": {
           "style": "light"
          },
          "paper_bgcolor": "white",
          "plot_bgcolor": "#E5ECF6",
          "polar": {
           "angularaxis": {
            "gridcolor": "white",
            "linecolor": "white",
            "ticks": ""
           },
           "bgcolor": "#E5ECF6",
           "radialaxis": {
            "gridcolor": "white",
            "linecolor": "white",
            "ticks": ""
           }
          },
          "scene": {
           "xaxis": {
            "backgroundcolor": "#E5ECF6",
            "gridcolor": "white",
            "gridwidth": 2,
            "linecolor": "white",
            "showbackground": true,
            "ticks": "",
            "zerolinecolor": "white"
           },
           "yaxis": {
            "backgroundcolor": "#E5ECF6",
            "gridcolor": "white",
            "gridwidth": 2,
            "linecolor": "white",
            "showbackground": true,
            "ticks": "",
            "zerolinecolor": "white"
           },
           "zaxis": {
            "backgroundcolor": "#E5ECF6",
            "gridcolor": "white",
            "gridwidth": 2,
            "linecolor": "white",
            "showbackground": true,
            "ticks": "",
            "zerolinecolor": "white"
           }
          },
          "shapedefaults": {
           "line": {
            "color": "#2a3f5f"
           }
          },
          "ternary": {
           "aaxis": {
            "gridcolor": "white",
            "linecolor": "white",
            "ticks": ""
           },
           "baxis": {
            "gridcolor": "white",
            "linecolor": "white",
            "ticks": ""
           },
           "bgcolor": "#E5ECF6",
           "caxis": {
            "gridcolor": "white",
            "linecolor": "white",
            "ticks": ""
           }
          },
          "title": {
           "x": 0.05
          },
          "xaxis": {
           "automargin": true,
           "gridcolor": "white",
           "linecolor": "white",
           "ticks": "",
           "title": {
            "standoff": 15
           },
           "zerolinecolor": "white",
           "zerolinewidth": 2
          },
          "yaxis": {
           "automargin": true,
           "gridcolor": "white",
           "linecolor": "white",
           "ticks": "",
           "title": {
            "standoff": 15
           },
           "zerolinecolor": "white",
           "zerolinewidth": 2
          }
         }
        },
        "title": {
         "text": "Pilgrims VS Tonsures"
        },
        "xaxis": {
         "anchor": "y",
         "domain": [
          0,
          1
         ],
         "title": {
          "text": "Piligrims"
         }
        },
        "yaxis": {
         "anchor": "x",
         "domain": [
          0,
          1
         ],
         "title": {
          "text": "Tonsures"
         }
        }
       }
      },
      "text/html": [
       "<div>                            <div id=\"5beec44f-f450-4aed-8f72-3b8b8f8eb3e3\" class=\"plotly-graph-div\" style=\"height:525px; width:100%;\"></div>            <script type=\"text/javascript\">                require([\"plotly\"], function(Plotly) {                    window.PLOTLYENV=window.PLOTLYENV || {};                                    if (document.getElementById(\"5beec44f-f450-4aed-8f72-3b8b8f8eb3e3\")) {                    Plotly.newPlot(                        \"5beec44f-f450-4aed-8f72-3b8b8f8eb3e3\",                        [{\"hovertemplate\":\"Piligrims=%{x}<br>Tonsures=%{y}<extra></extra>\",\"legendgroup\":\"\",\"marker\":{\"color\":\"#636efa\",\"symbol\":\"circle\"},\"mode\":\"markers\",\"name\":\"\",\"orientation\":\"v\",\"showlegend\":false,\"x\":[36560,38894,31776,31523,32044,29652,62856,33619,32235,32242,23744,25524,46118,37304,34375,35642,35333,33971,34187,36092,39440,45481,27895,27223,28745,27446,27536,24888,28234,27896,26401,29496,29026,31167,28410,34632,33737,35516,30172,32092,32894,32894,36333,33356,64425,31794,39691,39335,35584,41463,41390,39619,38000,37216,53740,56559,65704,68095,55532,53163,46172,50511,56686,67750,61052,57904,58561,59086,61620,65192,71069,74167,61982,61654,64368,66577,66763,72265,70408,64425,69711,64986,63042,65418,69897,71167,64425,54396,61224,54273,56958,62925,71034,66112,61654,68009,65840,60790,70727,66593,63223,72567,88748,82722,75110,76746,68299,64157,67858,66745,61278,63084,71069,75438,65763,67681,75078,64380,65725,75010,72904,65756,61654,69603,59528,63265,76324,75876,69154,61090,61863,61087,62001,81107,81720,72567,75400,74389,67625,71119,83739,70848,75324,75759,75759,72758,73358,89318,90885,74823,69848,71914,66001,71196,90165,78188,76921,76425,75345,70019,67949,87698,93400,78602,79103,77326,73371,76407,84982,90471,76597,74906,75472,68873,71589,71069,88613,74288,77154,70134,65898,64628,88026,88682,77907,73439,76418,75407,73016,87478,89013,62141,74212,71289,74304,72195,84885,73387,77273,74503,76821,71437,71395,78479,80815,72873,68982,73375,67364,58747,77541,81287,71450,72067,69628,62351,65939,79525,74830,64425,77277,74497,63754,64079,83422,92328,87692,72851,83880,70674,64438,79836,81523,72804,68467,74748,68128,69012,80312,74297,67950,64336,66086,63332,67525,79833,71158,67843,69115,65470,60946,64292,80741,86793,74231,75175,65634,60946,67425,82392,88924,67276,73186,74817,65187,65158,69650,52682,51308,64823,61879,60946,75382,81318,70848,82815,68539,63579,72195,70007,81034,86188,83223,77956,79370,72216,68675,81535,84794,70067,73420,72243,62725,62203,78299,80565,69278,25549,71689,67439,63512,84878,70848,70560,72176,68995,70263,63670,82604,84211,74094,22423,66946,61304,57104,73323,81130,69814,71461,74412,60861,61731,79471,80294,70163,69587,74354,66072,60157,73831,70848,67468,69211,69640,65568,64586,63931,80001,66020,64162,51376,54609,57581,69383,72466,65466,63214,59752,48928,61731,64107,75611,63759,63366,68469,63145,62055,71528,70373,62152,70496,71299,67156,63253,71069],\"xaxis\":\"x\",\"y\":[14084,12270,16046,14692,17558,14916,22115,15769,15003,15715,12017,13052,10594,9645,11156,11178,12252,11356,13279,13738,13692,15909,13631,14624,13553,13403,13635,12650,12466,11135,12401,12210,15110,15701,14831,16399,13954,13797,10829,29985,15770,14359,17174,16259,29476,16731,18303,18834,18608,21975,20527,21846,17778,22009,26977,28751,33187,29050,25114,20651,19395,22089,27997,30192,27500,26877,25401,28701,28988,32592,34741,33976,27400,25920,31179,31471,33133,34517,34932,29476,30871,33200,31218,33451,38099,34688,29476,29334,33930,28089,26029,33893,32291,35727,25920,39518,34135,35106,38970,31206,34547,40468,38558,33678,34241,31574,26421,29720,28536,30780,30585,28563,34741,29440,33758,31738,34674,31204,30346,31116,30702,34774,25920,30434,29995,31217,38710,32164,29617,26316,30135,30271,32303,43531,34266,34718,32223,38007,34584,37256,46187,29957,35086,31050,39208,40504,41900,48539,35707,31159,28716,37234,38831,36936,43362,35427,39568,36053,36091,36124,39837,48804,39451,42423,37292,38742,39924,39938,46679,37039,37759,36138,38335,38952,41240,34741,36153,36473,30182,30059,33686,41613,50652,37447,38267,34490,38629,35535,37068,48692,37698,33880,25920,33210,31880,35967,41211,33965,35893,30884,34732,31315,32533,37521,31562,32641,29092,31117,25058,28496,39533,34436,31320,27581,32604,31473,32894,39545,39405,29476,31272,36244,30790,32852,50100,52969,36832,34404,38710,35930,34361,35916,37100,39142,35506,39086,34021,29195,29538,27317,31407,25487,27305,26656,31484,36074,27968,31817,31762,29899,28638,30641,41494,30254,33591,31979,31419,28638,32693,41800,34282,31140,27365,33350,27877,28416,20409,15805,18812,22890,24634,28638,31424,38464,29957,27147,22177,34524,41071,42866,47312,41032,36658,33672,39199,32338,32533,37357,35560,33092,27621,32652,30172,29100,34625,31608,17660,9764,28640,29450,35549,41016,29957,29751,25549,29037,28965,30475,37025,30906,21475,9679,26990,30133,32351,41041,29464,29228,26631,27626,28519,30254,36594,31554,31489,28645,23931,25239,31445,34443,29957,36082,26764,28649,25144,27501,34813,32967,29195,23709,24878,26718,27021,32391,28123,26174,23147,26000,23322,30254,30482,29228,30102,24494,27025,22411,23044,32008,32954,30682,25500,28288,24752,24490,34741],\"yaxis\":\"y\",\"type\":\"scatter\"}],                        {\"template\":{\"data\":{\"histogram2dcontour\":[{\"type\":\"histogram2dcontour\",\"colorbar\":{\"outlinewidth\":0,\"ticks\":\"\"},\"colorscale\":[[0.0,\"#0d0887\"],[0.1111111111111111,\"#46039f\"],[0.2222222222222222,\"#7201a8\"],[0.3333333333333333,\"#9c179e\"],[0.4444444444444444,\"#bd3786\"],[0.5555555555555556,\"#d8576b\"],[0.6666666666666666,\"#ed7953\"],[0.7777777777777778,\"#fb9f3a\"],[0.8888888888888888,\"#fdca26\"],[1.0,\"#f0f921\"]]}],\"choropleth\":[{\"type\":\"choropleth\",\"colorbar\":{\"outlinewidth\":0,\"ticks\":\"\"}}],\"histogram2d\":[{\"type\":\"histogram2d\",\"colorbar\":{\"outlinewidth\":0,\"ticks\":\"\"},\"colorscale\":[[0.0,\"#0d0887\"],[0.1111111111111111,\"#46039f\"],[0.2222222222222222,\"#7201a8\"],[0.3333333333333333,\"#9c179e\"],[0.4444444444444444,\"#bd3786\"],[0.5555555555555556,\"#d8576b\"],[0.6666666666666666,\"#ed7953\"],[0.7777777777777778,\"#fb9f3a\"],[0.8888888888888888,\"#fdca26\"],[1.0,\"#f0f921\"]]}],\"heatmap\":[{\"type\":\"heatmap\",\"colorbar\":{\"outlinewidth\":0,\"ticks\":\"\"},\"colorscale\":[[0.0,\"#0d0887\"],[0.1111111111111111,\"#46039f\"],[0.2222222222222222,\"#7201a8\"],[0.3333333333333333,\"#9c179e\"],[0.4444444444444444,\"#bd3786\"],[0.5555555555555556,\"#d8576b\"],[0.6666666666666666,\"#ed7953\"],[0.7777777777777778,\"#fb9f3a\"],[0.8888888888888888,\"#fdca26\"],[1.0,\"#f0f921\"]]}],\"heatmapgl\":[{\"type\":\"heatmapgl\",\"colorbar\":{\"outlinewidth\":0,\"ticks\":\"\"},\"colorscale\":[[0.0,\"#0d0887\"],[0.1111111111111111,\"#46039f\"],[0.2222222222222222,\"#7201a8\"],[0.3333333333333333,\"#9c179e\"],[0.4444444444444444,\"#bd3786\"],[0.5555555555555556,\"#d8576b\"],[0.6666666666666666,\"#ed7953\"],[0.7777777777777778,\"#fb9f3a\"],[0.8888888888888888,\"#fdca26\"],[1.0,\"#f0f921\"]]}],\"contourcarpet\":[{\"type\":\"contourcarpet\",\"colorbar\":{\"outlinewidth\":0,\"ticks\":\"\"}}],\"contour\":[{\"type\":\"contour\",\"colorbar\":{\"outlinewidth\":0,\"ticks\":\"\"},\"colorscale\":[[0.0,\"#0d0887\"],[0.1111111111111111,\"#46039f\"],[0.2222222222222222,\"#7201a8\"],[0.3333333333333333,\"#9c179e\"],[0.4444444444444444,\"#bd3786\"],[0.5555555555555556,\"#d8576b\"],[0.6666666666666666,\"#ed7953\"],[0.7777777777777778,\"#fb9f3a\"],[0.8888888888888888,\"#fdca26\"],[1.0,\"#f0f921\"]]}],\"surface\":[{\"type\":\"surface\",\"colorbar\":{\"outlinewidth\":0,\"ticks\":\"\"},\"colorscale\":[[0.0,\"#0d0887\"],[0.1111111111111111,\"#46039f\"],[0.2222222222222222,\"#7201a8\"],[0.3333333333333333,\"#9c179e\"],[0.4444444444444444,\"#bd3786\"],[0.5555555555555556,\"#d8576b\"],[0.6666666666666666,\"#ed7953\"],[0.7777777777777778,\"#fb9f3a\"],[0.8888888888888888,\"#fdca26\"],[1.0,\"#f0f921\"]]}],\"mesh3d\":[{\"type\":\"mesh3d\",\"colorbar\":{\"outlinewidth\":0,\"ticks\":\"\"}}],\"scatter\":[{\"fillpattern\":{\"fillmode\":\"overlay\",\"size\":10,\"solidity\":0.2},\"type\":\"scatter\"}],\"parcoords\":[{\"type\":\"parcoords\",\"line\":{\"colorbar\":{\"outlinewidth\":0,\"ticks\":\"\"}}}],\"scatterpolargl\":[{\"type\":\"scatterpolargl\",\"marker\":{\"colorbar\":{\"outlinewidth\":0,\"ticks\":\"\"}}}],\"bar\":[{\"error_x\":{\"color\":\"#2a3f5f\"},\"error_y\":{\"color\":\"#2a3f5f\"},\"marker\":{\"line\":{\"color\":\"#E5ECF6\",\"width\":0.5},\"pattern\":{\"fillmode\":\"overlay\",\"size\":10,\"solidity\":0.2}},\"type\":\"bar\"}],\"scattergeo\":[{\"type\":\"scattergeo\",\"marker\":{\"colorbar\":{\"outlinewidth\":0,\"ticks\":\"\"}}}],\"scatterpolar\":[{\"type\":\"scatterpolar\",\"marker\":{\"colorbar\":{\"outlinewidth\":0,\"ticks\":\"\"}}}],\"histogram\":[{\"marker\":{\"pattern\":{\"fillmode\":\"overlay\",\"size\":10,\"solidity\":0.2}},\"type\":\"histogram\"}],\"scattergl\":[{\"type\":\"scattergl\",\"marker\":{\"colorbar\":{\"outlinewidth\":0,\"ticks\":\"\"}}}],\"scatter3d\":[{\"type\":\"scatter3d\",\"line\":{\"colorbar\":{\"outlinewidth\":0,\"ticks\":\"\"}},\"marker\":{\"colorbar\":{\"outlinewidth\":0,\"ticks\":\"\"}}}],\"scattermapbox\":[{\"type\":\"scattermapbox\",\"marker\":{\"colorbar\":{\"outlinewidth\":0,\"ticks\":\"\"}}}],\"scatterternary\":[{\"type\":\"scatterternary\",\"marker\":{\"colorbar\":{\"outlinewidth\":0,\"ticks\":\"\"}}}],\"scattercarpet\":[{\"type\":\"scattercarpet\",\"marker\":{\"colorbar\":{\"outlinewidth\":0,\"ticks\":\"\"}}}],\"carpet\":[{\"aaxis\":{\"endlinecolor\":\"#2a3f5f\",\"gridcolor\":\"white\",\"linecolor\":\"white\",\"minorgridcolor\":\"white\",\"startlinecolor\":\"#2a3f5f\"},\"baxis\":{\"endlinecolor\":\"#2a3f5f\",\"gridcolor\":\"white\",\"linecolor\":\"white\",\"minorgridcolor\":\"white\",\"startlinecolor\":\"#2a3f5f\"},\"type\":\"carpet\"}],\"table\":[{\"cells\":{\"fill\":{\"color\":\"#EBF0F8\"},\"line\":{\"color\":\"white\"}},\"header\":{\"fill\":{\"color\":\"#C8D4E3\"},\"line\":{\"color\":\"white\"}},\"type\":\"table\"}],\"barpolar\":[{\"marker\":{\"line\":{\"color\":\"#E5ECF6\",\"width\":0.5},\"pattern\":{\"fillmode\":\"overlay\",\"size\":10,\"solidity\":0.2}},\"type\":\"barpolar\"}],\"pie\":[{\"automargin\":true,\"type\":\"pie\"}]},\"layout\":{\"autotypenumbers\":\"strict\",\"colorway\":[\"#636efa\",\"#EF553B\",\"#00cc96\",\"#ab63fa\",\"#FFA15A\",\"#19d3f3\",\"#FF6692\",\"#B6E880\",\"#FF97FF\",\"#FECB52\"],\"font\":{\"color\":\"#2a3f5f\"},\"hovermode\":\"closest\",\"hoverlabel\":{\"align\":\"left\"},\"paper_bgcolor\":\"white\",\"plot_bgcolor\":\"#E5ECF6\",\"polar\":{\"bgcolor\":\"#E5ECF6\",\"angularaxis\":{\"gridcolor\":\"white\",\"linecolor\":\"white\",\"ticks\":\"\"},\"radialaxis\":{\"gridcolor\":\"white\",\"linecolor\":\"white\",\"ticks\":\"\"}},\"ternary\":{\"bgcolor\":\"#E5ECF6\",\"aaxis\":{\"gridcolor\":\"white\",\"linecolor\":\"white\",\"ticks\":\"\"},\"baxis\":{\"gridcolor\":\"white\",\"linecolor\":\"white\",\"ticks\":\"\"},\"caxis\":{\"gridcolor\":\"white\",\"linecolor\":\"white\",\"ticks\":\"\"}},\"coloraxis\":{\"colorbar\":{\"outlinewidth\":0,\"ticks\":\"\"}},\"colorscale\":{\"sequential\":[[0.0,\"#0d0887\"],[0.1111111111111111,\"#46039f\"],[0.2222222222222222,\"#7201a8\"],[0.3333333333333333,\"#9c179e\"],[0.4444444444444444,\"#bd3786\"],[0.5555555555555556,\"#d8576b\"],[0.6666666666666666,\"#ed7953\"],[0.7777777777777778,\"#fb9f3a\"],[0.8888888888888888,\"#fdca26\"],[1.0,\"#f0f921\"]],\"sequentialminus\":[[0.0,\"#0d0887\"],[0.1111111111111111,\"#46039f\"],[0.2222222222222222,\"#7201a8\"],[0.3333333333333333,\"#9c179e\"],[0.4444444444444444,\"#bd3786\"],[0.5555555555555556,\"#d8576b\"],[0.6666666666666666,\"#ed7953\"],[0.7777777777777778,\"#fb9f3a\"],[0.8888888888888888,\"#fdca26\"],[1.0,\"#f0f921\"]],\"diverging\":[[0,\"#8e0152\"],[0.1,\"#c51b7d\"],[0.2,\"#de77ae\"],[0.3,\"#f1b6da\"],[0.4,\"#fde0ef\"],[0.5,\"#f7f7f7\"],[0.6,\"#e6f5d0\"],[0.7,\"#b8e186\"],[0.8,\"#7fbc41\"],[0.9,\"#4d9221\"],[1,\"#276419\"]]},\"xaxis\":{\"gridcolor\":\"white\",\"linecolor\":\"white\",\"ticks\":\"\",\"title\":{\"standoff\":15},\"zerolinecolor\":\"white\",\"automargin\":true,\"zerolinewidth\":2},\"yaxis\":{\"gridcolor\":\"white\",\"linecolor\":\"white\",\"ticks\":\"\",\"title\":{\"standoff\":15},\"zerolinecolor\":\"white\",\"automargin\":true,\"zerolinewidth\":2},\"scene\":{\"xaxis\":{\"backgroundcolor\":\"#E5ECF6\",\"gridcolor\":\"white\",\"linecolor\":\"white\",\"showbackground\":true,\"ticks\":\"\",\"zerolinecolor\":\"white\",\"gridwidth\":2},\"yaxis\":{\"backgroundcolor\":\"#E5ECF6\",\"gridcolor\":\"white\",\"linecolor\":\"white\",\"showbackground\":true,\"ticks\":\"\",\"zerolinecolor\":\"white\",\"gridwidth\":2},\"zaxis\":{\"backgroundcolor\":\"#E5ECF6\",\"gridcolor\":\"white\",\"linecolor\":\"white\",\"showbackground\":true,\"ticks\":\"\",\"zerolinecolor\":\"white\",\"gridwidth\":2}},\"shapedefaults\":{\"line\":{\"color\":\"#2a3f5f\"}},\"annotationdefaults\":{\"arrowcolor\":\"#2a3f5f\",\"arrowhead\":0,\"arrowwidth\":1},\"geo\":{\"bgcolor\":\"white\",\"landcolor\":\"#E5ECF6\",\"subunitcolor\":\"white\",\"showland\":true,\"showlakes\":true,\"lakecolor\":\"white\"},\"title\":{\"x\":0.05},\"mapbox\":{\"style\":\"light\"}}},\"xaxis\":{\"anchor\":\"y\",\"domain\":[0.0,1.0],\"title\":{\"text\":\"Piligrims\"}},\"yaxis\":{\"anchor\":\"x\",\"domain\":[0.0,1.0],\"title\":{\"text\":\"Tonsures\"}},\"legend\":{\"tracegroupgap\":0},\"title\":{\"text\":\"Pilgrims VS Tonsures\"}},                        {\"responsive\": true}                    ).then(function(){\n",
       "                            \n",
       "var gd = document.getElementById('5beec44f-f450-4aed-8f72-3b8b8f8eb3e3');\n",
       "var x = new MutationObserver(function (mutations, observer) {{\n",
       "        var display = window.getComputedStyle(gd).display;\n",
       "        if (!display || display === 'none') {{\n",
       "            console.log([gd, 'removed!']);\n",
       "            Plotly.purge(gd);\n",
       "            observer.disconnect();\n",
       "        }}\n",
       "}});\n",
       "\n",
       "// Listen for the removal of the full notebook cells\n",
       "var notebookContainer = gd.closest('#notebook-container');\n",
       "if (notebookContainer) {{\n",
       "    x.observe(notebookContainer, {childList: true});\n",
       "}}\n",
       "\n",
       "// Listen for the clearing of the current output cell\n",
       "var outputEl = gd.closest('.output');\n",
       "if (outputEl) {{\n",
       "    x.observe(outputEl, {childList: true});\n",
       "}}\n",
       "\n",
       "                        })                };                });            </script>        </div>"
      ]
     },
     "metadata": {},
     "output_type": "display_data"
    }
   ],
   "source": [
    "fig = px.scatter(data, x='Piligrims', y=\"Tonsures\",title='Pilgrims VS Tonsures')\n",
    "fig.show()"
   ]
  },
  {
   "cell_type": "code",
   "execution_count": 79,
   "id": "0af73810",
   "metadata": {},
   "outputs": [],
   "source": [
    "import scipy.stats as stats\n",
    "import plotly.express as px\n",
    "import matplotlib.pyplot as plt"
   ]
  },
  {
   "cell_type": "code",
   "execution_count": 80,
   "id": "86c5711c",
   "metadata": {},
   "outputs": [
    {
     "name": "stdout",
     "output_type": "stream",
     "text": [
      "Piligrims , Tonsures , Hundi , Temperature , Tirupati , Tirumala , VIP darshan , Week_day , Timestamp , \n",
      " [[('Piligrims', 'Piligrims'), 0.9999999999999982], [('Piligrims', 'Tonsures'), 0.8572929983934131], [('Piligrims', 'Hundi'), 0.6399828942919743], [('Piligrims', 'Temperature'), 0.2724375735704814], [('Piligrims', 'Tirupati'), 0.5949582772666608], [('Piligrims', 'Tirumala'), 0.332022380013128], [('Piligrims', 'VIP darshan'), 0.3088058993645298], [('Piligrims', 'Week_day'), 0.24441067668084554], [('Piligrims', 'Timestamp'), 0.516230692026717]]\n"
     ]
    }
   ],
   "source": [
    "cols=data.select_dtypes(include=np.number).columns.tolist()\n",
    "l=len(cols)\n",
    "res=[]\n",
    "for i in range(l):\n",
    "    corr,_=stats.pearsonr(data[cols[0]].tolist(),data[cols[i]].tolist())\n",
    "    if(corr>0.2 or corr<-0.2):\n",
    "        res+=[[(cols[0],cols[i]),corr]]\n",
    "        print(cols[i],end=\" , \")\n",
    "print(\"\\n\",res)"
   ]
  },
  {
   "cell_type": "code",
   "execution_count": 81,
   "id": "16cc18da",
   "metadata": {},
   "outputs": [
    {
     "data": {
      "application/vnd.plotly.v1+json": {
       "config": {
        "plotlyServerURL": "https://plot.ly"
       },
       "data": [
        {
         "coloraxis": "coloraxis",
         "hovertemplate": "x: %{x}<br>y: %{y}<br>color: %{z}<extra></extra>",
         "name": "0",
         "type": "heatmap",
         "x": [
          "Piligrims",
          "Tonsures",
          "Hundi",
          "Temperature",
          "Condition",
          "ttd online darshan tickets",
          "Tirupati",
          "Tirumala",
          "VIP darshan",
          "How to reach Tirupati",
          "ttd sarva darshan tickets",
          "ttd free darshan online booking availability",
          "apsrtc tirumala darshan tickets",
          "apsrtc ttd 300 tickets",
          "ksrtc tirupati package",
          "srinivasam complex",
          "tirumala darshan tickets",
          "tirumala darshan",
          "tirupati balaji.ap.gov.in",
          "tirupati darshan 500 rupees ticket",
          "ttd free darshan online booking availability.1",
          "Week_day",
          "Review",
          "Timestamp",
          "Festivals",
          "Tidi",
          "Seva_Begins",
          "Sevas",
          "Public_Day",
          "Normal"
         ],
         "xaxis": "x",
         "y": [
          "Piligrims",
          "Tonsures",
          "Hundi",
          "Temperature",
          "Condition",
          "ttd online darshan tickets",
          "Tirupati",
          "Tirumala",
          "VIP darshan",
          "How to reach Tirupati",
          "ttd sarva darshan tickets",
          "ttd free darshan online booking availability",
          "apsrtc tirumala darshan tickets",
          "apsrtc ttd 300 tickets",
          "ksrtc tirupati package",
          "srinivasam complex",
          "tirumala darshan tickets",
          "tirumala darshan",
          "tirupati balaji.ap.gov.in",
          "tirupati darshan 500 rupees ticket",
          "ttd free darshan online booking availability.1",
          "Week_day",
          "Review",
          "Timestamp",
          "Festivals",
          "Tidi",
          "Seva_Begins",
          "Sevas",
          "Public_Day",
          "Normal"
         ],
         "yaxis": "y",
         "z": [
          [
           1,
           0.857292998393413,
           0.6399828942919742,
           0.2724375735704834,
           0.1969723333881214,
           -0.03933935126638673,
           0.5949582772666608,
           0.3320223800131286,
           0.3088058993645301,
           0.14070172239195483,
           -0.1450723660738278,
           -0.09594031869139755,
           0.021392548330771182,
           0.036776882312264475,
           -0.010403057264371783,
           -0.07644614219797893,
           -0.028348530551798642,
           0.15353456277880886,
           -0.002076652262137493,
           -0.04474403273478178,
           -0.09654823093298613,
           0.24441067668084596,
           0.04577567547675621,
           0.5162306920267176,
           -0.1821250669893001,
           0.029375215119076873,
           -0.009533681837236749,
           -0.01530853163997907,
           -0.04298399809170516,
           -0.0051126971532967835
          ],
          [
           0.857292998393413,
           1,
           0.5224840695821216,
           0.3531180788336917,
           0.189655630686727,
           -0.07438932969810513,
           0.5500986550348365,
           0.2484242627691654,
           0.2618368512973996,
           0.1137969040923354,
           -0.15792173057000944,
           -0.09388934474995952,
           0.04147215821540287,
           0.07140915461485722,
           0.04684964095208353,
           -0.08338501311242787,
           -0.03237896913418482,
           0.10829247794391322,
           -0.018793254947469612,
           -0.07181148135207503,
           -0.09476773268587375,
           0.19177485190611382,
           0.045922943595554364,
           0.3423595035918958,
           -0.21304525803682903,
           -0.028709527190201135,
           -0.043703167592197015,
           -0.01103945227985859,
           -0.017367635722437994,
           0.038074175328926575
          ],
          [
           0.6399828942919742,
           0.5224840695821216,
           1,
           0.21935745449015331,
           0.12814188886572145,
           -0.012369069644578762,
           0.4766970225794737,
           0.25964923813091406,
           0.2766932427967667,
           0.13339242360073678,
           -0.04868476243204232,
           -0.07748761130372005,
           -0.02682176221507122,
           -0.05567350175569653,
           -0.018904524833939684,
           -0.04815797217884262,
           -0.007213141917400745,
           0.17348300598067334,
           0.01715143500558062,
           0.03763976963018678,
           -0.07910050514589471,
           0.014795797518191853,
           0.04019216978632328,
           0.448504360868427,
           -0.11534220143279773,
           0.04099622447280338,
           -0.033690375391966655,
           0.03132990800480174,
           -0.027642317803240925,
           0.02094889206615064
          ],
          [
           0.2724375735704834,
           0.3531180788336917,
           0.21935745449015331,
           1,
           -0.18801611739492446,
           -0.2895048346356861,
           -0.06995950129402029,
           -0.2681342490588299,
           -0.1326493119713631,
           -0.009927732423303049,
           -0.09567444346793776,
           -0.19326801606545704,
           -0.041020583879201204,
           0.03168653581679175,
           0.13827193705855986,
           0.07157842269581266,
           -0.2187002047602644,
           -0.3556533615751403,
           -0.21917312127343816,
           -0.06456749052972711,
           -0.1922920292000925,
           0.0401553142536676,
           0.018360892782073923,
           -0.37548112107507986,
           -0.11625799389347655,
           0.05057291938797237,
           -0.06956658707671169,
           0.03333790024321791,
           -0.04706447759325029,
           0.01747236190560316
          ],
          [
           0.1969723333881214,
           0.189655630686727,
           0.12814188886572145,
           -0.18801611739492446,
           1,
           0.04483306465784922,
           0.19102622168210168,
           0.11992376891052593,
           0.12557604734395011,
           0.051225177856026885,
           -0.045572141123042954,
           0.02419572549058674,
           0.051259579307357805,
           0.04064422279498863,
           -0.08448483400543073,
           -0.09588079936839,
           0.008712246625452658,
           0.06595525806955017,
           0.05673586818500362,
           -0.015817990655883348,
           0.025532913217307048,
           0.04087815798321249,
           -0.024812718766959754,
           0.22167673123418108,
           -0.08648806188302602,
           -0.07528983527083964,
           0.02315331597993831,
           -0.02427985596561142,
           -0.0075138877455765436,
           0.025917581356611805
          ],
          [
           -0.03933935126638673,
           -0.07438932969810513,
           -0.012369069644578762,
           -0.2895048346356861,
           0.04483306465784922,
           1,
           0.48189409284294493,
           0.6383302740378018,
           0.2772381780506206,
           0.047392867568490205,
           0.3317022795464814,
           0.44876250853209587,
           0.0003823903920159592,
           -0.03644750224533961,
           -0.09609786315879047,
           0.06593902663715308,
           0.6202901981479139,
           0.7341539142437613,
           0.5842208014421182,
           0.06994154971930659,
           0.44542906944963423,
           0.01920011174037573,
           0.03902280731093595,
           0.2882865380927647,
           -0.02643702484509229,
           -0.041409048666037396,
           0.0475996274055526,
           -0.07716248382471955,
           -0.0632670691592679,
           0.0633560716450784
          ],
          [
           0.5949582772666608,
           0.5500986550348365,
           0.4766970225794737,
           -0.06995950129402029,
           0.19102622168210168,
           0.48189409284294493,
           1,
           0.8580609881565784,
           0.3888437658346778,
           0.21318974074938513,
           0.1094001226326776,
           0.22461016035302367,
           0.03031064716759306,
           0.03243535570204889,
           -0.1002135779152543,
           -2.600687400155737e-05,
           0.3949757402622587,
           0.6927412483693579,
           0.4518137154223807,
           -0.0230386245392071,
           0.22504995841179468,
           0.14173195028325455,
           0.044536988406024734,
           0.6852856874556565,
           -0.19357261616564564,
           -0.011196124883783532,
           0.003911992777544986,
           -0.07774025386163294,
           -0.11114402372016662,
           0.08341365385275043
          ],
          [
           0.3320223800131286,
           0.2484242627691654,
           0.25964923813091406,
           -0.2681342490588299,
           0.11992376891052593,
           0.6383302740378018,
           0.8580609881565784,
           1,
           0.367834091740144,
           0.21704859810138993,
           0.1985803284025373,
           0.365434946440116,
           -0.004391327927624528,
           0.007937958195720431,
           -0.18090191533973513,
           0.03657578822933502,
           0.5693642634882919,
           0.8459847332561863,
           0.6099900744271538,
           0.02542019618637414,
           0.36699414334108027,
           0.11363144503837912,
           0.016228230878805164,
           0.6497359520698117,
           -0.11480326490624608,
           -0.03070154425803724,
           0.04931265341183691,
           -0.0973546644034503,
           -0.12435075128214587,
           0.07991788186673408
          ],
          [
           0.3088058993645301,
           0.2618368512973996,
           0.2766932427967667,
           -0.1326493119713631,
           0.12557604734395011,
           0.2772381780506206,
           0.3888437658346778,
           0.367834091740144,
           1,
           0.11753034517301907,
           0.05782423645900889,
           0.10197336834705212,
           0.0650053726166002,
           0.02629785877618895,
           0.04280960605417782,
           -0.029658941939674725,
           0.2365791387866676,
           0.3470827661368026,
           0.1798561861128573,
           0.045392831307956676,
           0.10195779591306431,
           0.09229093280350106,
           0.0914519838876131,
           0.4056305349596991,
           -0.08398285198482108,
           0.05262092751222314,
           0.04809224769757762,
           0.014909891791336005,
           0.036934596646501894,
           -0.07466625375922464
          ],
          [
           0.14070172239195483,
           0.1137969040923354,
           0.13339242360073678,
           -0.009927732423303049,
           0.051225177856026885,
           0.047392867568490205,
           0.21318974074938513,
           0.21704859810138993,
           0.11753034517301907,
           1,
           0.03914859031909792,
           -0.03702277631490579,
           0.006303241483558306,
           0.06298985893847006,
           -0.02666676139520686,
           0.05542002236937481,
           0.06682421372664489,
           0.13671447663925843,
           0.07796537063913435,
           0.005401272577476427,
           -0.038248065364787184,
           -0.003114124055165286,
           -0.001571075825452692,
           0.19436008240585753,
           -0.08309412222338076,
           0.06946963377170538,
           -0.010891685594719015,
           -0.03500832790567435,
           -0.016609578048613405,
           0.020101841376288707
          ],
          [
           -0.1450723660738278,
           -0.15792173057000944,
           -0.04868476243204232,
           -0.09567444346793776,
           -0.045572141123042954,
           0.3317022795464814,
           0.1094001226326776,
           0.1985803284025373,
           0.05782423645900889,
           0.03914859031909792,
           1,
           0.17224973906344954,
           -0.02399043747437452,
           0.02224033073330798,
           -0.03836742274479752,
           -0.052992209284024455,
           0.26228952507955083,
           0.25334227090302436,
           0.19702420647055105,
           0.09708586238980943,
           0.16864368714117162,
           0.039594608172318295,
           0.05683526925685681,
           0.0236974160560206,
           0.011441509388662272,
           -0.01884325405261755,
           0.11406162292181977,
           -0.03396836352546877,
           0.059943000321333935,
           0.0165516737734597
          ],
          [
           -0.09594031869139755,
           -0.09388934474995952,
           -0.07748761130372005,
           -0.19326801606545704,
           0.02419572549058674,
           0.44876250853209587,
           0.22461016035302367,
           0.365434946440116,
           0.10197336834705212,
           -0.03702277631490579,
           0.17224973906344954,
           1,
           -0.04125358174125474,
           -0.005481435997261798,
           -0.08818909113638546,
           0.033253873316731276,
           0.43070202361571863,
           0.442635517129367,
           0.4154196485699093,
           -0.017029853828463927,
           0.9996483598061837,
           -0.04220427288325093,
           0.002749070438582209,
           0.07696257397892871,
           -0.014107881202534873,
           -0.02400734444173777,
           0.06428542456292416,
           -0.0729276486334011,
           0.013021474595005229,
           0.0522422641220163
          ],
          [
           0.021392548330771182,
           0.04147215821540287,
           -0.02682176221507122,
           -0.041020583879201204,
           0.051259579307357805,
           0.0003823903920159592,
           0.03031064716759306,
           -0.004391327927624528,
           0.0650053726166002,
           0.006303241483558306,
           -0.02399043747437452,
           -0.04125358174125474,
           1,
           0.2077827980045142,
           -0.03586178090041837,
           -0.029704061259008544,
           -0.05488599413926832,
           -0.015253725735328212,
           -0.07764308055514056,
           0.012375358066053546,
           -0.04085681620022964,
           0.01907813324040956,
           -0.031545383218906896,
           -0.010405437453448267,
           0.0012368944906919564,
           0.03576855002148283,
           -0.06804797476261099,
           0.11476583696778132,
           0.010518895669685325,
           -0.024643732672377024
          ],
          [
           0.036776882312264475,
           0.07140915461485722,
           -0.05567350175569653,
           0.03168653581679175,
           0.04064422279498863,
           -0.03644750224533961,
           0.03243535570204889,
           0.007937958195720431,
           0.02629785877618895,
           0.06298985893847006,
           0.02224033073330798,
           -0.005481435997261798,
           0.2077827980045142,
           1,
           -0.06212288278438469,
           -0.013198432273700121,
           0.023312388125422603,
           0.01719065459642064,
           -0.03422807498013662,
           -0.032194110020000416,
           -0.005261174892502313,
           0.10211647225453716,
           0.026707385324039816,
           -0.03526847665269835,
           -0.08343815053493679,
           0.018706644270303732,
           -0.04616390032395447,
           0.04825111661281117,
           -0.012813000652270786,
           0.0010056252765413146
          ],
          [
           -0.010403057264371783,
           0.04684964095208353,
           -0.018904524833939684,
           0.13827193705855986,
           -0.08448483400543073,
           -0.09609786315879047,
           -0.1002135779152543,
           -0.18090191533973513,
           0.04280960605417782,
           -0.02666676139520686,
           -0.03836742274479752,
           -0.08818909113638546,
           -0.03586178090041837,
           -0.06212288278438469,
           1,
           -0.0017458526123897563,
           -0.09756265942953231,
           -0.14902808711767104,
           -0.08149537761779634,
           -0.04148105963608953,
           -0.08794942254470722,
           -0.03188913719995964,
           0.09926189681387143,
           -0.22735150619535116,
           0.01900393569418787,
           -0.06167394705823628,
           -0.019767039669119236,
           0.07203245164891457,
           0.03186162435471946,
           -0.012022906910979075
          ],
          [
           -0.07644614219797893,
           -0.08338501311242787,
           -0.04815797217884262,
           0.07157842269581266,
           -0.09588079936839,
           0.06593902663715308,
           -2.600687400155737e-05,
           0.03657578822933502,
           -0.029658941939674725,
           0.05542002236937481,
           -0.052992209284024455,
           0.033253873316731276,
           -0.029704061259008544,
           -0.013198432273700121,
           -0.0017458526123897563,
           1,
           0.10688732006030784,
           0.017664941378490992,
           0.058363467514971706,
           -0.00966061783334502,
           0.031331872837354176,
           0.03065393533887068,
           0.05276835893430341,
           -0.0885755684314248,
           0.11706138834336112,
           -0.05490244733713916,
           -0.0469816474049804,
           -0.0349931272256819,
           -0.04648681570006444,
           0.052350973119497435
          ],
          [
           -0.028348530551798642,
           -0.03237896913418482,
           -0.007213141917400745,
           -0.2187002047602644,
           0.008712246625452658,
           0.6202901981479139,
           0.3949757402622587,
           0.5693642634882919,
           0.2365791387866676,
           0.06682421372664489,
           0.26228952507955083,
           0.43070202361571863,
           -0.05488599413926832,
           0.023312388125422603,
           -0.09756265942953231,
           0.10688732006030784,
           1,
           0.669556170851837,
           0.5406228959385536,
           0.0937655492216044,
           0.4292977486904087,
           -0.007392685209367678,
           0.06928807276292327,
           0.24356466210453576,
           -0.032369102767102885,
           -0.007978302643337041,
           -0.011698536781716784,
           -0.018019052961785905,
           -0.12422017693174875,
           0.06397762742183111
          ],
          [
           0.15353456277880886,
           0.10829247794391322,
           0.17348300598067334,
           -0.3556533615751403,
           0.06595525806955017,
           0.7341539142437613,
           0.6927412483693579,
           0.8459847332561863,
           0.3470827661368026,
           0.13671447663925843,
           0.25334227090302436,
           0.442635517129367,
           -0.015253725735328212,
           0.01719065459642064,
           -0.14902808711767104,
           0.017664941378490992,
           0.669556170851837,
           1,
           0.636388681950363,
           0.04928342805123234,
           0.43931816067452395,
           0.04888942084489635,
           0.0450914154854403,
           0.5337249359332711,
           -0.10801217257075298,
           -0.05554493820012197,
           0.01652652709101028,
           -0.11665962557764951,
           -0.10057254990164619,
           0.12407691612598049
          ],
          [
           -0.002076652262137493,
           -0.018793254947469612,
           0.01715143500558062,
           -0.21917312127343816,
           0.05673586818500362,
           0.5842208014421182,
           0.4518137154223807,
           0.6099900744271538,
           0.1798561861128573,
           0.07796537063913435,
           0.19702420647055105,
           0.4154196485699093,
           -0.07764308055514056,
           -0.03422807498013662,
           -0.08149537761779634,
           0.058363467514971706,
           0.5406228959385536,
           0.636388681950363,
           1,
           0.01788615989751334,
           0.41397866241118336,
           -0.029074617714160672,
           0.003709358193045642,
           0.2478044328155024,
           -0.012337622999275136,
           -0.023101066219065818,
           -0.03589928730304308,
           -0.078281188984113,
           -0.08996185773712284,
           0.09807318274029693
          ],
          [
           -0.04474403273478178,
           -0.07181148135207503,
           0.03763976963018678,
           -0.06456749052972711,
           -0.015817990655883348,
           0.06994154971930659,
           -0.0230386245392071,
           0.02542019618637414,
           0.045392831307956676,
           0.005401272577476427,
           0.09708586238980943,
           -0.017029853828463927,
           0.012375358066053546,
           -0.032194110020000416,
           -0.04148105963608953,
           -0.00966061783334502,
           0.0937655492216044,
           0.04928342805123234,
           0.01788615989751334,
           1,
           -0.018476197684323896,
           0.06279686408158866,
           -0.004723604564245124,
           0.027594433561262677,
           0.011357579693261123,
           0.027484616027691235,
           -0.009297884739687066,
           0.05606280770549186,
           -0.005777813113467512,
           -0.027033148846685416
          ],
          [
           -0.09654823093298613,
           -0.09476773268587375,
           -0.07910050514589471,
           -0.1922920292000925,
           0.025532913217307048,
           0.44542906944963423,
           0.22504995841179468,
           0.36699414334108027,
           0.10195779591306431,
           -0.038248065364787184,
           0.16864368714117162,
           0.9996483598061837,
           -0.04085681620022964,
           -0.005261174892502313,
           -0.08794942254470722,
           0.031331872837354176,
           0.4292977486904087,
           0.43931816067452395,
           0.41397866241118336,
           -0.018476197684323896,
           1,
           -0.0444207663701853,
           0.0033149776769454214,
           0.07461080234644603,
           -0.013839398018264174,
           -0.023037640551001128,
           0.064758952473564,
           -0.07224470042709524,
           0.013438675806276602,
           0.05077053805393839
          ],
          [
           0.24441067668084596,
           0.19177485190611382,
           0.014795797518191853,
           0.0401553142536676,
           0.04087815798321249,
           0.01920011174037573,
           0.14173195028325455,
           0.11363144503837912,
           0.09229093280350106,
           -0.003114124055165286,
           0.039594608172318295,
           -0.04220427288325093,
           0.01907813324040956,
           0.10211647225453716,
           -0.03188913719995964,
           0.03065393533887068,
           -0.007392685209367678,
           0.04888942084489635,
           -0.029074617714160672,
           0.06279686408158866,
           -0.0444207663701853,
           1,
           -0.01338873136019455,
           -0.007467262478418446,
           0.030649927633849144,
           0.037259883238199794,
           -0.025797299577681846,
           0.004026448181238555,
           -0.052422309910004454,
           -0.003992198881035988
          ],
          [
           0.04577567547675621,
           0.045922943595554364,
           0.04019216978632328,
           0.018360892782073923,
           -0.024812718766959754,
           0.03902280731093595,
           0.044536988406024734,
           0.016228230878805164,
           0.0914519838876131,
           -0.001571075825452692,
           0.05683526925685681,
           0.002749070438582209,
           -0.031545383218906896,
           0.026707385324039816,
           0.09926189681387143,
           0.05276835893430341,
           0.06928807276292327,
           0.0450914154854403,
           0.003709358193045642,
           -0.004723604564245124,
           0.0033149776769454214,
           -0.01338873136019455,
           1,
           0.032092671993594744,
           0.0012773290993391808,
           -0.019394458862110244,
           0.04189068982126047,
           -0.008514931767775121,
           -0.08019767977629984,
           -0.015228932124548423
          ],
          [
           0.5162306920267176,
           0.3423595035918958,
           0.448504360868427,
           -0.37548112107507986,
           0.22167673123418108,
           0.2882865380927647,
           0.6852856874556565,
           0.6497359520698117,
           0.4056305349596991,
           0.19436008240585753,
           0.0236974160560206,
           0.07696257397892871,
           -0.010405437453448267,
           -0.03526847665269835,
           -0.22735150619535116,
           -0.0885755684314248,
           0.24356466210453576,
           0.5337249359332711,
           0.2478044328155024,
           0.027594433561262677,
           0.07461080234644603,
           -0.007467262478418446,
           0.032092671993594744,
           1,
           -0.08299315734343464,
           0.021772757322784796,
           0.07860829874850035,
           -0.056952050344149394,
           -0.1139328867084891,
           -0.00803400976744588
          ],
          [
           -0.1821250669893001,
           -0.21304525803682903,
           -0.11534220143279773,
           -0.11625799389347655,
           -0.08648806188302602,
           -0.02643702484509229,
           -0.19357261616564564,
           -0.11480326490624608,
           -0.08398285198482108,
           -0.08309412222338076,
           0.011441509388662272,
           -0.014107881202534873,
           0.0012368944906919564,
           -0.08343815053493679,
           0.01900393569418787,
           0.11706138834336112,
           -0.032369102767102885,
           -0.10801217257075298,
           -0.012337622999275136,
           0.011357579693261123,
           -0.013839398018264174,
           0.030649927633849144,
           0.0012773290993391808,
           -0.08299315734343464,
           1,
           -0.020547124508740907,
           -0.061910360375155446,
           0.1028762544448743,
           0.04682295261830767,
           -0.18443017884089008
          ],
          [
           0.029375215119076873,
           -0.028709527190201135,
           0.04099622447280338,
           0.05057291938797237,
           -0.07528983527083964,
           -0.041409048666037396,
           -0.011196124883783532,
           -0.03070154425803724,
           0.05262092751222314,
           0.06946963377170538,
           -0.01884325405261755,
           -0.02400734444173777,
           0.03576855002148283,
           0.018706644270303732,
           -0.06167394705823628,
           -0.05490244733713916,
           -0.007978302643337041,
           -0.05554493820012197,
           -0.023101066219065818,
           0.027484616027691235,
           -0.023037640551001128,
           0.037259883238199794,
           -0.019394458862110244,
           0.021772757322784796,
           -0.020547124508740907,
           1,
           0.006245149234113711,
           0.2058273499245006,
           -0.03636108093046676,
           -0.6426796415121063
          ],
          [
           -0.009533681837236749,
           -0.043703167592197015,
           -0.033690375391966655,
           -0.06956658707671169,
           0.02315331597993831,
           0.0475996274055526,
           0.003911992777544986,
           0.04931265341183691,
           0.04809224769757762,
           -0.010891685594719015,
           0.11406162292181977,
           0.06428542456292416,
           -0.06804797476261099,
           -0.04616390032395447,
           -0.019767039669119236,
           -0.0469816474049804,
           -0.011698536781716784,
           0.01652652709101028,
           -0.03589928730304308,
           -0.009297884739687066,
           0.064758952473564,
           -0.025797299577681846,
           0.04189068982126047,
           0.07860829874850035,
           -0.061910360375155446,
           0.006245149234113711,
           1,
           -0.09235332208609837,
           -0.0194311921627144,
           -0.266833002383489
          ],
          [
           -0.01530853163997907,
           -0.01103945227985859,
           0.03132990800480174,
           0.03333790024321791,
           -0.02427985596561142,
           -0.07716248382471955,
           -0.07774025386163294,
           -0.0973546644034503,
           0.014909891791336005,
           -0.03500832790567435,
           -0.03396836352546877,
           -0.0729276486334011,
           0.11476583696778132,
           0.04825111661281117,
           0.07203245164891457,
           -0.0349931272256819,
           -0.018019052961785905,
           -0.11665962557764951,
           -0.078281188984113,
           0.05606280770549186,
           -0.07224470042709524,
           0.004026448181238555,
           -0.008514931767775121,
           -0.056952050344149394,
           0.1028762544448743,
           0.2058273499245006,
           -0.09235332208609837,
           1,
           0.06699172866577598,
           -0.4853466729275055
          ],
          [
           -0.04298399809170516,
           -0.017367635722437994,
           -0.027642317803240925,
           -0.04706447759325029,
           -0.0075138877455765436,
           -0.0632670691592679,
           -0.11114402372016662,
           -0.12435075128214587,
           0.036934596646501894,
           -0.016609578048613405,
           0.059943000321333935,
           0.013021474595005229,
           0.010518895669685325,
           -0.012813000652270786,
           0.03186162435471946,
           -0.04648681570006444,
           -0.12422017693174875,
           -0.10057254990164619,
           -0.08996185773712284,
           -0.005777813113467512,
           0.013438675806276602,
           -0.052422309910004454,
           -0.08019767977629984,
           -0.1139328867084891,
           0.04682295261830767,
           -0.03636108093046676,
           -0.0194311921627144,
           0.06699172866577598,
           1,
           -0.2713006835850322
          ],
          [
           -0.0051126971532967835,
           0.038074175328926575,
           0.02094889206615064,
           0.01747236190560316,
           0.025917581356611805,
           0.0633560716450784,
           0.08341365385275043,
           0.07991788186673408,
           -0.07466625375922464,
           0.020101841376288707,
           0.0165516737734597,
           0.0522422641220163,
           -0.024643732672377024,
           0.0010056252765413146,
           -0.012022906910979075,
           0.052350973119497435,
           0.06397762742183111,
           0.12407691612598049,
           0.09807318274029693,
           -0.027033148846685416,
           0.05077053805393839,
           -0.003992198881035988,
           -0.015228932124548423,
           -0.00803400976744588,
           -0.18443017884089008,
           -0.6426796415121063,
           -0.266833002383489,
           -0.4853466729275055,
           -0.2713006835850322,
           1
          ]
         ]
        }
       ],
       "layout": {
        "autosize": false,
        "coloraxis": {
         "colorscale": [
          [
           0,
           "#0d0887"
          ],
          [
           0.1111111111111111,
           "#46039f"
          ],
          [
           0.2222222222222222,
           "#7201a8"
          ],
          [
           0.3333333333333333,
           "#9c179e"
          ],
          [
           0.4444444444444444,
           "#bd3786"
          ],
          [
           0.5555555555555556,
           "#d8576b"
          ],
          [
           0.6666666666666666,
           "#ed7953"
          ],
          [
           0.7777777777777778,
           "#fb9f3a"
          ],
          [
           0.8888888888888888,
           "#fdca26"
          ],
          [
           1,
           "#f0f921"
          ]
         ]
        },
        "height": 1800,
        "margin": {
         "t": 60
        },
        "template": {
         "data": {
          "bar": [
           {
            "error_x": {
             "color": "#2a3f5f"
            },
            "error_y": {
             "color": "#2a3f5f"
            },
            "marker": {
             "line": {
              "color": "#E5ECF6",
              "width": 0.5
             },
             "pattern": {
              "fillmode": "overlay",
              "size": 10,
              "solidity": 0.2
             }
            },
            "type": "bar"
           }
          ],
          "barpolar": [
           {
            "marker": {
             "line": {
              "color": "#E5ECF6",
              "width": 0.5
             },
             "pattern": {
              "fillmode": "overlay",
              "size": 10,
              "solidity": 0.2
             }
            },
            "type": "barpolar"
           }
          ],
          "carpet": [
           {
            "aaxis": {
             "endlinecolor": "#2a3f5f",
             "gridcolor": "white",
             "linecolor": "white",
             "minorgridcolor": "white",
             "startlinecolor": "#2a3f5f"
            },
            "baxis": {
             "endlinecolor": "#2a3f5f",
             "gridcolor": "white",
             "linecolor": "white",
             "minorgridcolor": "white",
             "startlinecolor": "#2a3f5f"
            },
            "type": "carpet"
           }
          ],
          "choropleth": [
           {
            "colorbar": {
             "outlinewidth": 0,
             "ticks": ""
            },
            "type": "choropleth"
           }
          ],
          "contour": [
           {
            "colorbar": {
             "outlinewidth": 0,
             "ticks": ""
            },
            "colorscale": [
             [
              0,
              "#0d0887"
             ],
             [
              0.1111111111111111,
              "#46039f"
             ],
             [
              0.2222222222222222,
              "#7201a8"
             ],
             [
              0.3333333333333333,
              "#9c179e"
             ],
             [
              0.4444444444444444,
              "#bd3786"
             ],
             [
              0.5555555555555556,
              "#d8576b"
             ],
             [
              0.6666666666666666,
              "#ed7953"
             ],
             [
              0.7777777777777778,
              "#fb9f3a"
             ],
             [
              0.8888888888888888,
              "#fdca26"
             ],
             [
              1,
              "#f0f921"
             ]
            ],
            "type": "contour"
           }
          ],
          "contourcarpet": [
           {
            "colorbar": {
             "outlinewidth": 0,
             "ticks": ""
            },
            "type": "contourcarpet"
           }
          ],
          "heatmap": [
           {
            "colorbar": {
             "outlinewidth": 0,
             "ticks": ""
            },
            "colorscale": [
             [
              0,
              "#0d0887"
             ],
             [
              0.1111111111111111,
              "#46039f"
             ],
             [
              0.2222222222222222,
              "#7201a8"
             ],
             [
              0.3333333333333333,
              "#9c179e"
             ],
             [
              0.4444444444444444,
              "#bd3786"
             ],
             [
              0.5555555555555556,
              "#d8576b"
             ],
             [
              0.6666666666666666,
              "#ed7953"
             ],
             [
              0.7777777777777778,
              "#fb9f3a"
             ],
             [
              0.8888888888888888,
              "#fdca26"
             ],
             [
              1,
              "#f0f921"
             ]
            ],
            "type": "heatmap"
           }
          ],
          "heatmapgl": [
           {
            "colorbar": {
             "outlinewidth": 0,
             "ticks": ""
            },
            "colorscale": [
             [
              0,
              "#0d0887"
             ],
             [
              0.1111111111111111,
              "#46039f"
             ],
             [
              0.2222222222222222,
              "#7201a8"
             ],
             [
              0.3333333333333333,
              "#9c179e"
             ],
             [
              0.4444444444444444,
              "#bd3786"
             ],
             [
              0.5555555555555556,
              "#d8576b"
             ],
             [
              0.6666666666666666,
              "#ed7953"
             ],
             [
              0.7777777777777778,
              "#fb9f3a"
             ],
             [
              0.8888888888888888,
              "#fdca26"
             ],
             [
              1,
              "#f0f921"
             ]
            ],
            "type": "heatmapgl"
           }
          ],
          "histogram": [
           {
            "marker": {
             "pattern": {
              "fillmode": "overlay",
              "size": 10,
              "solidity": 0.2
             }
            },
            "type": "histogram"
           }
          ],
          "histogram2d": [
           {
            "colorbar": {
             "outlinewidth": 0,
             "ticks": ""
            },
            "colorscale": [
             [
              0,
              "#0d0887"
             ],
             [
              0.1111111111111111,
              "#46039f"
             ],
             [
              0.2222222222222222,
              "#7201a8"
             ],
             [
              0.3333333333333333,
              "#9c179e"
             ],
             [
              0.4444444444444444,
              "#bd3786"
             ],
             [
              0.5555555555555556,
              "#d8576b"
             ],
             [
              0.6666666666666666,
              "#ed7953"
             ],
             [
              0.7777777777777778,
              "#fb9f3a"
             ],
             [
              0.8888888888888888,
              "#fdca26"
             ],
             [
              1,
              "#f0f921"
             ]
            ],
            "type": "histogram2d"
           }
          ],
          "histogram2dcontour": [
           {
            "colorbar": {
             "outlinewidth": 0,
             "ticks": ""
            },
            "colorscale": [
             [
              0,
              "#0d0887"
             ],
             [
              0.1111111111111111,
              "#46039f"
             ],
             [
              0.2222222222222222,
              "#7201a8"
             ],
             [
              0.3333333333333333,
              "#9c179e"
             ],
             [
              0.4444444444444444,
              "#bd3786"
             ],
             [
              0.5555555555555556,
              "#d8576b"
             ],
             [
              0.6666666666666666,
              "#ed7953"
             ],
             [
              0.7777777777777778,
              "#fb9f3a"
             ],
             [
              0.8888888888888888,
              "#fdca26"
             ],
             [
              1,
              "#f0f921"
             ]
            ],
            "type": "histogram2dcontour"
           }
          ],
          "mesh3d": [
           {
            "colorbar": {
             "outlinewidth": 0,
             "ticks": ""
            },
            "type": "mesh3d"
           }
          ],
          "parcoords": [
           {
            "line": {
             "colorbar": {
              "outlinewidth": 0,
              "ticks": ""
             }
            },
            "type": "parcoords"
           }
          ],
          "pie": [
           {
            "automargin": true,
            "type": "pie"
           }
          ],
          "scatter": [
           {
            "fillpattern": {
             "fillmode": "overlay",
             "size": 10,
             "solidity": 0.2
            },
            "type": "scatter"
           }
          ],
          "scatter3d": [
           {
            "line": {
             "colorbar": {
              "outlinewidth": 0,
              "ticks": ""
             }
            },
            "marker": {
             "colorbar": {
              "outlinewidth": 0,
              "ticks": ""
             }
            },
            "type": "scatter3d"
           }
          ],
          "scattercarpet": [
           {
            "marker": {
             "colorbar": {
              "outlinewidth": 0,
              "ticks": ""
             }
            },
            "type": "scattercarpet"
           }
          ],
          "scattergeo": [
           {
            "marker": {
             "colorbar": {
              "outlinewidth": 0,
              "ticks": ""
             }
            },
            "type": "scattergeo"
           }
          ],
          "scattergl": [
           {
            "marker": {
             "colorbar": {
              "outlinewidth": 0,
              "ticks": ""
             }
            },
            "type": "scattergl"
           }
          ],
          "scattermapbox": [
           {
            "marker": {
             "colorbar": {
              "outlinewidth": 0,
              "ticks": ""
             }
            },
            "type": "scattermapbox"
           }
          ],
          "scatterpolar": [
           {
            "marker": {
             "colorbar": {
              "outlinewidth": 0,
              "ticks": ""
             }
            },
            "type": "scatterpolar"
           }
          ],
          "scatterpolargl": [
           {
            "marker": {
             "colorbar": {
              "outlinewidth": 0,
              "ticks": ""
             }
            },
            "type": "scatterpolargl"
           }
          ],
          "scatterternary": [
           {
            "marker": {
             "colorbar": {
              "outlinewidth": 0,
              "ticks": ""
             }
            },
            "type": "scatterternary"
           }
          ],
          "surface": [
           {
            "colorbar": {
             "outlinewidth": 0,
             "ticks": ""
            },
            "colorscale": [
             [
              0,
              "#0d0887"
             ],
             [
              0.1111111111111111,
              "#46039f"
             ],
             [
              0.2222222222222222,
              "#7201a8"
             ],
             [
              0.3333333333333333,
              "#9c179e"
             ],
             [
              0.4444444444444444,
              "#bd3786"
             ],
             [
              0.5555555555555556,
              "#d8576b"
             ],
             [
              0.6666666666666666,
              "#ed7953"
             ],
             [
              0.7777777777777778,
              "#fb9f3a"
             ],
             [
              0.8888888888888888,
              "#fdca26"
             ],
             [
              1,
              "#f0f921"
             ]
            ],
            "type": "surface"
           }
          ],
          "table": [
           {
            "cells": {
             "fill": {
              "color": "#EBF0F8"
             },
             "line": {
              "color": "white"
             }
            },
            "header": {
             "fill": {
              "color": "#C8D4E3"
             },
             "line": {
              "color": "white"
             }
            },
            "type": "table"
           }
          ]
         },
         "layout": {
          "annotationdefaults": {
           "arrowcolor": "#2a3f5f",
           "arrowhead": 0,
           "arrowwidth": 1
          },
          "autotypenumbers": "strict",
          "coloraxis": {
           "colorbar": {
            "outlinewidth": 0,
            "ticks": ""
           }
          },
          "colorscale": {
           "diverging": [
            [
             0,
             "#8e0152"
            ],
            [
             0.1,
             "#c51b7d"
            ],
            [
             0.2,
             "#de77ae"
            ],
            [
             0.3,
             "#f1b6da"
            ],
            [
             0.4,
             "#fde0ef"
            ],
            [
             0.5,
             "#f7f7f7"
            ],
            [
             0.6,
             "#e6f5d0"
            ],
            [
             0.7,
             "#b8e186"
            ],
            [
             0.8,
             "#7fbc41"
            ],
            [
             0.9,
             "#4d9221"
            ],
            [
             1,
             "#276419"
            ]
           ],
           "sequential": [
            [
             0,
             "#0d0887"
            ],
            [
             0.1111111111111111,
             "#46039f"
            ],
            [
             0.2222222222222222,
             "#7201a8"
            ],
            [
             0.3333333333333333,
             "#9c179e"
            ],
            [
             0.4444444444444444,
             "#bd3786"
            ],
            [
             0.5555555555555556,
             "#d8576b"
            ],
            [
             0.6666666666666666,
             "#ed7953"
            ],
            [
             0.7777777777777778,
             "#fb9f3a"
            ],
            [
             0.8888888888888888,
             "#fdca26"
            ],
            [
             1,
             "#f0f921"
            ]
           ],
           "sequentialminus": [
            [
             0,
             "#0d0887"
            ],
            [
             0.1111111111111111,
             "#46039f"
            ],
            [
             0.2222222222222222,
             "#7201a8"
            ],
            [
             0.3333333333333333,
             "#9c179e"
            ],
            [
             0.4444444444444444,
             "#bd3786"
            ],
            [
             0.5555555555555556,
             "#d8576b"
            ],
            [
             0.6666666666666666,
             "#ed7953"
            ],
            [
             0.7777777777777778,
             "#fb9f3a"
            ],
            [
             0.8888888888888888,
             "#fdca26"
            ],
            [
             1,
             "#f0f921"
            ]
           ]
          },
          "colorway": [
           "#636efa",
           "#EF553B",
           "#00cc96",
           "#ab63fa",
           "#FFA15A",
           "#19d3f3",
           "#FF6692",
           "#B6E880",
           "#FF97FF",
           "#FECB52"
          ],
          "font": {
           "color": "#2a3f5f"
          },
          "geo": {
           "bgcolor": "white",
           "lakecolor": "white",
           "landcolor": "#E5ECF6",
           "showlakes": true,
           "showland": true,
           "subunitcolor": "white"
          },
          "hoverlabel": {
           "align": "left"
          },
          "hovermode": "closest",
          "mapbox": {
           "style": "light"
          },
          "paper_bgcolor": "white",
          "plot_bgcolor": "#E5ECF6",
          "polar": {
           "angularaxis": {
            "gridcolor": "white",
            "linecolor": "white",
            "ticks": ""
           },
           "bgcolor": "#E5ECF6",
           "radialaxis": {
            "gridcolor": "white",
            "linecolor": "white",
            "ticks": ""
           }
          },
          "scene": {
           "xaxis": {
            "backgroundcolor": "#E5ECF6",
            "gridcolor": "white",
            "gridwidth": 2,
            "linecolor": "white",
            "showbackground": true,
            "ticks": "",
            "zerolinecolor": "white"
           },
           "yaxis": {
            "backgroundcolor": "#E5ECF6",
            "gridcolor": "white",
            "gridwidth": 2,
            "linecolor": "white",
            "showbackground": true,
            "ticks": "",
            "zerolinecolor": "white"
           },
           "zaxis": {
            "backgroundcolor": "#E5ECF6",
            "gridcolor": "white",
            "gridwidth": 2,
            "linecolor": "white",
            "showbackground": true,
            "ticks": "",
            "zerolinecolor": "white"
           }
          },
          "shapedefaults": {
           "line": {
            "color": "#2a3f5f"
           }
          },
          "ternary": {
           "aaxis": {
            "gridcolor": "white",
            "linecolor": "white",
            "ticks": ""
           },
           "baxis": {
            "gridcolor": "white",
            "linecolor": "white",
            "ticks": ""
           },
           "bgcolor": "#E5ECF6",
           "caxis": {
            "gridcolor": "white",
            "linecolor": "white",
            "ticks": ""
           }
          },
          "title": {
           "x": 0.05
          },
          "xaxis": {
           "automargin": true,
           "gridcolor": "white",
           "linecolor": "white",
           "ticks": "",
           "title": {
            "standoff": 15
           },
           "zerolinecolor": "white",
           "zerolinewidth": 2
          },
          "yaxis": {
           "automargin": true,
           "gridcolor": "white",
           "linecolor": "white",
           "ticks": "",
           "title": {
            "standoff": 15
           },
           "zerolinecolor": "white",
           "zerolinewidth": 2
          }
         }
        },
        "width": 1800,
        "xaxis": {
         "anchor": "y",
         "constrain": "domain",
         "domain": [
          0,
          1
         ],
         "scaleanchor": "y"
        },
        "yaxis": {
         "anchor": "x",
         "autorange": "reversed",
         "constrain": "domain",
         "domain": [
          0,
          1
         ]
        }
       }
      },
      "text/html": [
       "<div>                            <div id=\"76ef83b3-7016-47a1-97d0-ce54a6c1b492\" class=\"plotly-graph-div\" style=\"height:1800px; width:1800px;\"></div>            <script type=\"text/javascript\">                require([\"plotly\"], function(Plotly) {                    window.PLOTLYENV=window.PLOTLYENV || {};                                    if (document.getElementById(\"76ef83b3-7016-47a1-97d0-ce54a6c1b492\")) {                    Plotly.newPlot(                        \"76ef83b3-7016-47a1-97d0-ce54a6c1b492\",                        [{\"coloraxis\":\"coloraxis\",\"name\":\"0\",\"x\":[\"Piligrims\",\"Tonsures\",\"Hundi\",\"Temperature\",\"Condition\",\"ttd online darshan tickets\",\"Tirupati\",\"Tirumala\",\"VIP darshan\",\"How to reach Tirupati\",\"ttd sarva darshan tickets\",\"ttd free darshan online booking availability\",\"apsrtc tirumala darshan tickets\",\"apsrtc ttd 300 tickets\",\"ksrtc tirupati package\",\"srinivasam complex\",\"tirumala darshan tickets\",\"tirumala darshan\",\"tirupati balaji.ap.gov.in\",\"tirupati darshan 500 rupees ticket\",\"ttd free darshan online booking availability.1\",\"Week_day\",\"Review\",\"Timestamp\",\"Festivals\",\"Tidi\",\"Seva_Begins\",\"Sevas\",\"Public_Day\",\"Normal\"],\"y\":[\"Piligrims\",\"Tonsures\",\"Hundi\",\"Temperature\",\"Condition\",\"ttd online darshan tickets\",\"Tirupati\",\"Tirumala\",\"VIP darshan\",\"How to reach Tirupati\",\"ttd sarva darshan tickets\",\"ttd free darshan online booking availability\",\"apsrtc tirumala darshan tickets\",\"apsrtc ttd 300 tickets\",\"ksrtc tirupati package\",\"srinivasam complex\",\"tirumala darshan tickets\",\"tirumala darshan\",\"tirupati balaji.ap.gov.in\",\"tirupati darshan 500 rupees ticket\",\"ttd free darshan online booking availability.1\",\"Week_day\",\"Review\",\"Timestamp\",\"Festivals\",\"Tidi\",\"Seva_Begins\",\"Sevas\",\"Public_Day\",\"Normal\"],\"z\":[[1.0,0.857292998393413,0.6399828942919742,0.2724375735704834,0.1969723333881214,-0.03933935126638673,0.5949582772666608,0.3320223800131286,0.3088058993645301,0.14070172239195483,-0.1450723660738278,-0.09594031869139755,0.021392548330771182,0.036776882312264475,-0.010403057264371783,-0.07644614219797893,-0.028348530551798642,0.15353456277880886,-0.002076652262137493,-0.04474403273478178,-0.09654823093298613,0.24441067668084596,0.04577567547675621,0.5162306920267176,-0.1821250669893001,0.029375215119076873,-0.009533681837236749,-0.01530853163997907,-0.04298399809170516,-0.0051126971532967835],[0.857292998393413,1.0,0.5224840695821216,0.3531180788336917,0.189655630686727,-0.07438932969810513,0.5500986550348365,0.2484242627691654,0.2618368512973996,0.1137969040923354,-0.15792173057000944,-0.09388934474995952,0.04147215821540287,0.07140915461485722,0.04684964095208353,-0.08338501311242787,-0.03237896913418482,0.10829247794391322,-0.018793254947469612,-0.07181148135207503,-0.09476773268587375,0.19177485190611382,0.045922943595554364,0.3423595035918958,-0.21304525803682903,-0.028709527190201135,-0.043703167592197015,-0.01103945227985859,-0.017367635722437994,0.038074175328926575],[0.6399828942919742,0.5224840695821216,1.0,0.21935745449015331,0.12814188886572145,-0.012369069644578762,0.4766970225794737,0.25964923813091406,0.2766932427967667,0.13339242360073678,-0.04868476243204232,-0.07748761130372005,-0.02682176221507122,-0.05567350175569653,-0.018904524833939684,-0.04815797217884262,-0.007213141917400745,0.17348300598067334,0.01715143500558062,0.03763976963018678,-0.07910050514589471,0.014795797518191853,0.04019216978632328,0.448504360868427,-0.11534220143279773,0.04099622447280338,-0.033690375391966655,0.03132990800480174,-0.027642317803240925,0.02094889206615064],[0.2724375735704834,0.3531180788336917,0.21935745449015331,1.0,-0.18801611739492446,-0.2895048346356861,-0.06995950129402029,-0.2681342490588299,-0.1326493119713631,-0.009927732423303049,-0.09567444346793776,-0.19326801606545704,-0.041020583879201204,0.03168653581679175,0.13827193705855986,0.07157842269581266,-0.2187002047602644,-0.3556533615751403,-0.21917312127343816,-0.06456749052972711,-0.1922920292000925,0.0401553142536676,0.018360892782073923,-0.37548112107507986,-0.11625799389347655,0.05057291938797237,-0.06956658707671169,0.03333790024321791,-0.04706447759325029,0.01747236190560316],[0.1969723333881214,0.189655630686727,0.12814188886572145,-0.18801611739492446,1.0,0.04483306465784922,0.19102622168210168,0.11992376891052593,0.12557604734395011,0.051225177856026885,-0.045572141123042954,0.02419572549058674,0.051259579307357805,0.04064422279498863,-0.08448483400543073,-0.09588079936839,0.008712246625452658,0.06595525806955017,0.05673586818500362,-0.015817990655883348,0.025532913217307048,0.04087815798321249,-0.024812718766959754,0.22167673123418108,-0.08648806188302602,-0.07528983527083964,0.02315331597993831,-0.02427985596561142,-0.0075138877455765436,0.025917581356611805],[-0.03933935126638673,-0.07438932969810513,-0.012369069644578762,-0.2895048346356861,0.04483306465784922,1.0,0.48189409284294493,0.6383302740378018,0.2772381780506206,0.047392867568490205,0.3317022795464814,0.44876250853209587,0.0003823903920159592,-0.03644750224533961,-0.09609786315879047,0.06593902663715308,0.6202901981479139,0.7341539142437613,0.5842208014421182,0.06994154971930659,0.44542906944963423,0.01920011174037573,0.03902280731093595,0.2882865380927647,-0.02643702484509229,-0.041409048666037396,0.0475996274055526,-0.07716248382471955,-0.0632670691592679,0.0633560716450784],[0.5949582772666608,0.5500986550348365,0.4766970225794737,-0.06995950129402029,0.19102622168210168,0.48189409284294493,1.0,0.8580609881565784,0.3888437658346778,0.21318974074938513,0.1094001226326776,0.22461016035302367,0.03031064716759306,0.03243535570204889,-0.1002135779152543,-2.600687400155737e-05,0.3949757402622587,0.6927412483693579,0.4518137154223807,-0.0230386245392071,0.22504995841179468,0.14173195028325455,0.044536988406024734,0.6852856874556565,-0.19357261616564564,-0.011196124883783532,0.003911992777544986,-0.07774025386163294,-0.11114402372016662,0.08341365385275043],[0.3320223800131286,0.2484242627691654,0.25964923813091406,-0.2681342490588299,0.11992376891052593,0.6383302740378018,0.8580609881565784,1.0,0.367834091740144,0.21704859810138993,0.1985803284025373,0.365434946440116,-0.004391327927624528,0.007937958195720431,-0.18090191533973513,0.03657578822933502,0.5693642634882919,0.8459847332561863,0.6099900744271538,0.02542019618637414,0.36699414334108027,0.11363144503837912,0.016228230878805164,0.6497359520698117,-0.11480326490624608,-0.03070154425803724,0.04931265341183691,-0.0973546644034503,-0.12435075128214587,0.07991788186673408],[0.3088058993645301,0.2618368512973996,0.2766932427967667,-0.1326493119713631,0.12557604734395011,0.2772381780506206,0.3888437658346778,0.367834091740144,1.0,0.11753034517301907,0.05782423645900889,0.10197336834705212,0.0650053726166002,0.02629785877618895,0.04280960605417782,-0.029658941939674725,0.2365791387866676,0.3470827661368026,0.1798561861128573,0.045392831307956676,0.10195779591306431,0.09229093280350106,0.0914519838876131,0.4056305349596991,-0.08398285198482108,0.05262092751222314,0.04809224769757762,0.014909891791336005,0.036934596646501894,-0.07466625375922464],[0.14070172239195483,0.1137969040923354,0.13339242360073678,-0.009927732423303049,0.051225177856026885,0.047392867568490205,0.21318974074938513,0.21704859810138993,0.11753034517301907,1.0,0.03914859031909792,-0.03702277631490579,0.006303241483558306,0.06298985893847006,-0.02666676139520686,0.05542002236937481,0.06682421372664489,0.13671447663925843,0.07796537063913435,0.005401272577476427,-0.038248065364787184,-0.003114124055165286,-0.001571075825452692,0.19436008240585753,-0.08309412222338076,0.06946963377170538,-0.010891685594719015,-0.03500832790567435,-0.016609578048613405,0.020101841376288707],[-0.1450723660738278,-0.15792173057000944,-0.04868476243204232,-0.09567444346793776,-0.045572141123042954,0.3317022795464814,0.1094001226326776,0.1985803284025373,0.05782423645900889,0.03914859031909792,1.0,0.17224973906344954,-0.02399043747437452,0.02224033073330798,-0.03836742274479752,-0.052992209284024455,0.26228952507955083,0.25334227090302436,0.19702420647055105,0.09708586238980943,0.16864368714117162,0.039594608172318295,0.05683526925685681,0.0236974160560206,0.011441509388662272,-0.01884325405261755,0.11406162292181977,-0.03396836352546877,0.059943000321333935,0.0165516737734597],[-0.09594031869139755,-0.09388934474995952,-0.07748761130372005,-0.19326801606545704,0.02419572549058674,0.44876250853209587,0.22461016035302367,0.365434946440116,0.10197336834705212,-0.03702277631490579,0.17224973906344954,1.0,-0.04125358174125474,-0.005481435997261798,-0.08818909113638546,0.033253873316731276,0.43070202361571863,0.442635517129367,0.4154196485699093,-0.017029853828463927,0.9996483598061837,-0.04220427288325093,0.002749070438582209,0.07696257397892871,-0.014107881202534873,-0.02400734444173777,0.06428542456292416,-0.0729276486334011,0.013021474595005229,0.0522422641220163],[0.021392548330771182,0.04147215821540287,-0.02682176221507122,-0.041020583879201204,0.051259579307357805,0.0003823903920159592,0.03031064716759306,-0.004391327927624528,0.0650053726166002,0.006303241483558306,-0.02399043747437452,-0.04125358174125474,1.0,0.2077827980045142,-0.03586178090041837,-0.029704061259008544,-0.05488599413926832,-0.015253725735328212,-0.07764308055514056,0.012375358066053546,-0.04085681620022964,0.01907813324040956,-0.031545383218906896,-0.010405437453448267,0.0012368944906919564,0.03576855002148283,-0.06804797476261099,0.11476583696778132,0.010518895669685325,-0.024643732672377024],[0.036776882312264475,0.07140915461485722,-0.05567350175569653,0.03168653581679175,0.04064422279498863,-0.03644750224533961,0.03243535570204889,0.007937958195720431,0.02629785877618895,0.06298985893847006,0.02224033073330798,-0.005481435997261798,0.2077827980045142,1.0,-0.06212288278438469,-0.013198432273700121,0.023312388125422603,0.01719065459642064,-0.03422807498013662,-0.032194110020000416,-0.005261174892502313,0.10211647225453716,0.026707385324039816,-0.03526847665269835,-0.08343815053493679,0.018706644270303732,-0.04616390032395447,0.04825111661281117,-0.012813000652270786,0.0010056252765413146],[-0.010403057264371783,0.04684964095208353,-0.018904524833939684,0.13827193705855986,-0.08448483400543073,-0.09609786315879047,-0.1002135779152543,-0.18090191533973513,0.04280960605417782,-0.02666676139520686,-0.03836742274479752,-0.08818909113638546,-0.03586178090041837,-0.06212288278438469,1.0,-0.0017458526123897563,-0.09756265942953231,-0.14902808711767104,-0.08149537761779634,-0.04148105963608953,-0.08794942254470722,-0.03188913719995964,0.09926189681387143,-0.22735150619535116,0.01900393569418787,-0.06167394705823628,-0.019767039669119236,0.07203245164891457,0.03186162435471946,-0.012022906910979075],[-0.07644614219797893,-0.08338501311242787,-0.04815797217884262,0.07157842269581266,-0.09588079936839,0.06593902663715308,-2.600687400155737e-05,0.03657578822933502,-0.029658941939674725,0.05542002236937481,-0.052992209284024455,0.033253873316731276,-0.029704061259008544,-0.013198432273700121,-0.0017458526123897563,1.0,0.10688732006030784,0.017664941378490992,0.058363467514971706,-0.00966061783334502,0.031331872837354176,0.03065393533887068,0.05276835893430341,-0.0885755684314248,0.11706138834336112,-0.05490244733713916,-0.0469816474049804,-0.0349931272256819,-0.04648681570006444,0.052350973119497435],[-0.028348530551798642,-0.03237896913418482,-0.007213141917400745,-0.2187002047602644,0.008712246625452658,0.6202901981479139,0.3949757402622587,0.5693642634882919,0.2365791387866676,0.06682421372664489,0.26228952507955083,0.43070202361571863,-0.05488599413926832,0.023312388125422603,-0.09756265942953231,0.10688732006030784,1.0,0.669556170851837,0.5406228959385536,0.0937655492216044,0.4292977486904087,-0.007392685209367678,0.06928807276292327,0.24356466210453576,-0.032369102767102885,-0.007978302643337041,-0.011698536781716784,-0.018019052961785905,-0.12422017693174875,0.06397762742183111],[0.15353456277880886,0.10829247794391322,0.17348300598067334,-0.3556533615751403,0.06595525806955017,0.7341539142437613,0.6927412483693579,0.8459847332561863,0.3470827661368026,0.13671447663925843,0.25334227090302436,0.442635517129367,-0.015253725735328212,0.01719065459642064,-0.14902808711767104,0.017664941378490992,0.669556170851837,1.0,0.636388681950363,0.04928342805123234,0.43931816067452395,0.04888942084489635,0.0450914154854403,0.5337249359332711,-0.10801217257075298,-0.05554493820012197,0.01652652709101028,-0.11665962557764951,-0.10057254990164619,0.12407691612598049],[-0.002076652262137493,-0.018793254947469612,0.01715143500558062,-0.21917312127343816,0.05673586818500362,0.5842208014421182,0.4518137154223807,0.6099900744271538,0.1798561861128573,0.07796537063913435,0.19702420647055105,0.4154196485699093,-0.07764308055514056,-0.03422807498013662,-0.08149537761779634,0.058363467514971706,0.5406228959385536,0.636388681950363,1.0,0.01788615989751334,0.41397866241118336,-0.029074617714160672,0.003709358193045642,0.2478044328155024,-0.012337622999275136,-0.023101066219065818,-0.03589928730304308,-0.078281188984113,-0.08996185773712284,0.09807318274029693],[-0.04474403273478178,-0.07181148135207503,0.03763976963018678,-0.06456749052972711,-0.015817990655883348,0.06994154971930659,-0.0230386245392071,0.02542019618637414,0.045392831307956676,0.005401272577476427,0.09708586238980943,-0.017029853828463927,0.012375358066053546,-0.032194110020000416,-0.04148105963608953,-0.00966061783334502,0.0937655492216044,0.04928342805123234,0.01788615989751334,1.0,-0.018476197684323896,0.06279686408158866,-0.004723604564245124,0.027594433561262677,0.011357579693261123,0.027484616027691235,-0.009297884739687066,0.05606280770549186,-0.005777813113467512,-0.027033148846685416],[-0.09654823093298613,-0.09476773268587375,-0.07910050514589471,-0.1922920292000925,0.025532913217307048,0.44542906944963423,0.22504995841179468,0.36699414334108027,0.10195779591306431,-0.038248065364787184,0.16864368714117162,0.9996483598061837,-0.04085681620022964,-0.005261174892502313,-0.08794942254470722,0.031331872837354176,0.4292977486904087,0.43931816067452395,0.41397866241118336,-0.018476197684323896,1.0,-0.0444207663701853,0.0033149776769454214,0.07461080234644603,-0.013839398018264174,-0.023037640551001128,0.064758952473564,-0.07224470042709524,0.013438675806276602,0.05077053805393839],[0.24441067668084596,0.19177485190611382,0.014795797518191853,0.0401553142536676,0.04087815798321249,0.01920011174037573,0.14173195028325455,0.11363144503837912,0.09229093280350106,-0.003114124055165286,0.039594608172318295,-0.04220427288325093,0.01907813324040956,0.10211647225453716,-0.03188913719995964,0.03065393533887068,-0.007392685209367678,0.04888942084489635,-0.029074617714160672,0.06279686408158866,-0.0444207663701853,1.0,-0.01338873136019455,-0.007467262478418446,0.030649927633849144,0.037259883238199794,-0.025797299577681846,0.004026448181238555,-0.052422309910004454,-0.003992198881035988],[0.04577567547675621,0.045922943595554364,0.04019216978632328,0.018360892782073923,-0.024812718766959754,0.03902280731093595,0.044536988406024734,0.016228230878805164,0.0914519838876131,-0.001571075825452692,0.05683526925685681,0.002749070438582209,-0.031545383218906896,0.026707385324039816,0.09926189681387143,0.05276835893430341,0.06928807276292327,0.0450914154854403,0.003709358193045642,-0.004723604564245124,0.0033149776769454214,-0.01338873136019455,1.0,0.032092671993594744,0.0012773290993391808,-0.019394458862110244,0.04189068982126047,-0.008514931767775121,-0.08019767977629984,-0.015228932124548423],[0.5162306920267176,0.3423595035918958,0.448504360868427,-0.37548112107507986,0.22167673123418108,0.2882865380927647,0.6852856874556565,0.6497359520698117,0.4056305349596991,0.19436008240585753,0.0236974160560206,0.07696257397892871,-0.010405437453448267,-0.03526847665269835,-0.22735150619535116,-0.0885755684314248,0.24356466210453576,0.5337249359332711,0.2478044328155024,0.027594433561262677,0.07461080234644603,-0.007467262478418446,0.032092671993594744,1.0,-0.08299315734343464,0.021772757322784796,0.07860829874850035,-0.056952050344149394,-0.1139328867084891,-0.00803400976744588],[-0.1821250669893001,-0.21304525803682903,-0.11534220143279773,-0.11625799389347655,-0.08648806188302602,-0.02643702484509229,-0.19357261616564564,-0.11480326490624608,-0.08398285198482108,-0.08309412222338076,0.011441509388662272,-0.014107881202534873,0.0012368944906919564,-0.08343815053493679,0.01900393569418787,0.11706138834336112,-0.032369102767102885,-0.10801217257075298,-0.012337622999275136,0.011357579693261123,-0.013839398018264174,0.030649927633849144,0.0012773290993391808,-0.08299315734343464,1.0,-0.020547124508740907,-0.061910360375155446,0.1028762544448743,0.04682295261830767,-0.18443017884089008],[0.029375215119076873,-0.028709527190201135,0.04099622447280338,0.05057291938797237,-0.07528983527083964,-0.041409048666037396,-0.011196124883783532,-0.03070154425803724,0.05262092751222314,0.06946963377170538,-0.01884325405261755,-0.02400734444173777,0.03576855002148283,0.018706644270303732,-0.06167394705823628,-0.05490244733713916,-0.007978302643337041,-0.05554493820012197,-0.023101066219065818,0.027484616027691235,-0.023037640551001128,0.037259883238199794,-0.019394458862110244,0.021772757322784796,-0.020547124508740907,1.0,0.006245149234113711,0.2058273499245006,-0.03636108093046676,-0.6426796415121063],[-0.009533681837236749,-0.043703167592197015,-0.033690375391966655,-0.06956658707671169,0.02315331597993831,0.0475996274055526,0.003911992777544986,0.04931265341183691,0.04809224769757762,-0.010891685594719015,0.11406162292181977,0.06428542456292416,-0.06804797476261099,-0.04616390032395447,-0.019767039669119236,-0.0469816474049804,-0.011698536781716784,0.01652652709101028,-0.03589928730304308,-0.009297884739687066,0.064758952473564,-0.025797299577681846,0.04189068982126047,0.07860829874850035,-0.061910360375155446,0.006245149234113711,1.0,-0.09235332208609837,-0.0194311921627144,-0.266833002383489],[-0.01530853163997907,-0.01103945227985859,0.03132990800480174,0.03333790024321791,-0.02427985596561142,-0.07716248382471955,-0.07774025386163294,-0.0973546644034503,0.014909891791336005,-0.03500832790567435,-0.03396836352546877,-0.0729276486334011,0.11476583696778132,0.04825111661281117,0.07203245164891457,-0.0349931272256819,-0.018019052961785905,-0.11665962557764951,-0.078281188984113,0.05606280770549186,-0.07224470042709524,0.004026448181238555,-0.008514931767775121,-0.056952050344149394,0.1028762544448743,0.2058273499245006,-0.09235332208609837,1.0,0.06699172866577598,-0.4853466729275055],[-0.04298399809170516,-0.017367635722437994,-0.027642317803240925,-0.04706447759325029,-0.0075138877455765436,-0.0632670691592679,-0.11114402372016662,-0.12435075128214587,0.036934596646501894,-0.016609578048613405,0.059943000321333935,0.013021474595005229,0.010518895669685325,-0.012813000652270786,0.03186162435471946,-0.04648681570006444,-0.12422017693174875,-0.10057254990164619,-0.08996185773712284,-0.005777813113467512,0.013438675806276602,-0.052422309910004454,-0.08019767977629984,-0.1139328867084891,0.04682295261830767,-0.03636108093046676,-0.0194311921627144,0.06699172866577598,1.0,-0.2713006835850322],[-0.0051126971532967835,0.038074175328926575,0.02094889206615064,0.01747236190560316,0.025917581356611805,0.0633560716450784,0.08341365385275043,0.07991788186673408,-0.07466625375922464,0.020101841376288707,0.0165516737734597,0.0522422641220163,-0.024643732672377024,0.0010056252765413146,-0.012022906910979075,0.052350973119497435,0.06397762742183111,0.12407691612598049,0.09807318274029693,-0.027033148846685416,0.05077053805393839,-0.003992198881035988,-0.015228932124548423,-0.00803400976744588,-0.18443017884089008,-0.6426796415121063,-0.266833002383489,-0.4853466729275055,-0.2713006835850322,1.0]],\"type\":\"heatmap\",\"xaxis\":\"x\",\"yaxis\":\"y\",\"hovertemplate\":\"x: %{x}<br>y: %{y}<br>color: %{z}<extra></extra>\"}],                        {\"template\":{\"data\":{\"histogram2dcontour\":[{\"type\":\"histogram2dcontour\",\"colorbar\":{\"outlinewidth\":0,\"ticks\":\"\"},\"colorscale\":[[0.0,\"#0d0887\"],[0.1111111111111111,\"#46039f\"],[0.2222222222222222,\"#7201a8\"],[0.3333333333333333,\"#9c179e\"],[0.4444444444444444,\"#bd3786\"],[0.5555555555555556,\"#d8576b\"],[0.6666666666666666,\"#ed7953\"],[0.7777777777777778,\"#fb9f3a\"],[0.8888888888888888,\"#fdca26\"],[1.0,\"#f0f921\"]]}],\"choropleth\":[{\"type\":\"choropleth\",\"colorbar\":{\"outlinewidth\":0,\"ticks\":\"\"}}],\"histogram2d\":[{\"type\":\"histogram2d\",\"colorbar\":{\"outlinewidth\":0,\"ticks\":\"\"},\"colorscale\":[[0.0,\"#0d0887\"],[0.1111111111111111,\"#46039f\"],[0.2222222222222222,\"#7201a8\"],[0.3333333333333333,\"#9c179e\"],[0.4444444444444444,\"#bd3786\"],[0.5555555555555556,\"#d8576b\"],[0.6666666666666666,\"#ed7953\"],[0.7777777777777778,\"#fb9f3a\"],[0.8888888888888888,\"#fdca26\"],[1.0,\"#f0f921\"]]}],\"heatmap\":[{\"type\":\"heatmap\",\"colorbar\":{\"outlinewidth\":0,\"ticks\":\"\"},\"colorscale\":[[0.0,\"#0d0887\"],[0.1111111111111111,\"#46039f\"],[0.2222222222222222,\"#7201a8\"],[0.3333333333333333,\"#9c179e\"],[0.4444444444444444,\"#bd3786\"],[0.5555555555555556,\"#d8576b\"],[0.6666666666666666,\"#ed7953\"],[0.7777777777777778,\"#fb9f3a\"],[0.8888888888888888,\"#fdca26\"],[1.0,\"#f0f921\"]]}],\"heatmapgl\":[{\"type\":\"heatmapgl\",\"colorbar\":{\"outlinewidth\":0,\"ticks\":\"\"},\"colorscale\":[[0.0,\"#0d0887\"],[0.1111111111111111,\"#46039f\"],[0.2222222222222222,\"#7201a8\"],[0.3333333333333333,\"#9c179e\"],[0.4444444444444444,\"#bd3786\"],[0.5555555555555556,\"#d8576b\"],[0.6666666666666666,\"#ed7953\"],[0.7777777777777778,\"#fb9f3a\"],[0.8888888888888888,\"#fdca26\"],[1.0,\"#f0f921\"]]}],\"contourcarpet\":[{\"type\":\"contourcarpet\",\"colorbar\":{\"outlinewidth\":0,\"ticks\":\"\"}}],\"contour\":[{\"type\":\"contour\",\"colorbar\":{\"outlinewidth\":0,\"ticks\":\"\"},\"colorscale\":[[0.0,\"#0d0887\"],[0.1111111111111111,\"#46039f\"],[0.2222222222222222,\"#7201a8\"],[0.3333333333333333,\"#9c179e\"],[0.4444444444444444,\"#bd3786\"],[0.5555555555555556,\"#d8576b\"],[0.6666666666666666,\"#ed7953\"],[0.7777777777777778,\"#fb9f3a\"],[0.8888888888888888,\"#fdca26\"],[1.0,\"#f0f921\"]]}],\"surface\":[{\"type\":\"surface\",\"colorbar\":{\"outlinewidth\":0,\"ticks\":\"\"},\"colorscale\":[[0.0,\"#0d0887\"],[0.1111111111111111,\"#46039f\"],[0.2222222222222222,\"#7201a8\"],[0.3333333333333333,\"#9c179e\"],[0.4444444444444444,\"#bd3786\"],[0.5555555555555556,\"#d8576b\"],[0.6666666666666666,\"#ed7953\"],[0.7777777777777778,\"#fb9f3a\"],[0.8888888888888888,\"#fdca26\"],[1.0,\"#f0f921\"]]}],\"mesh3d\":[{\"type\":\"mesh3d\",\"colorbar\":{\"outlinewidth\":0,\"ticks\":\"\"}}],\"scatter\":[{\"fillpattern\":{\"fillmode\":\"overlay\",\"size\":10,\"solidity\":0.2},\"type\":\"scatter\"}],\"parcoords\":[{\"type\":\"parcoords\",\"line\":{\"colorbar\":{\"outlinewidth\":0,\"ticks\":\"\"}}}],\"scatterpolargl\":[{\"type\":\"scatterpolargl\",\"marker\":{\"colorbar\":{\"outlinewidth\":0,\"ticks\":\"\"}}}],\"bar\":[{\"error_x\":{\"color\":\"#2a3f5f\"},\"error_y\":{\"color\":\"#2a3f5f\"},\"marker\":{\"line\":{\"color\":\"#E5ECF6\",\"width\":0.5},\"pattern\":{\"fillmode\":\"overlay\",\"size\":10,\"solidity\":0.2}},\"type\":\"bar\"}],\"scattergeo\":[{\"type\":\"scattergeo\",\"marker\":{\"colorbar\":{\"outlinewidth\":0,\"ticks\":\"\"}}}],\"scatterpolar\":[{\"type\":\"scatterpolar\",\"marker\":{\"colorbar\":{\"outlinewidth\":0,\"ticks\":\"\"}}}],\"histogram\":[{\"marker\":{\"pattern\":{\"fillmode\":\"overlay\",\"size\":10,\"solidity\":0.2}},\"type\":\"histogram\"}],\"scattergl\":[{\"type\":\"scattergl\",\"marker\":{\"colorbar\":{\"outlinewidth\":0,\"ticks\":\"\"}}}],\"scatter3d\":[{\"type\":\"scatter3d\",\"line\":{\"colorbar\":{\"outlinewidth\":0,\"ticks\":\"\"}},\"marker\":{\"colorbar\":{\"outlinewidth\":0,\"ticks\":\"\"}}}],\"scattermapbox\":[{\"type\":\"scattermapbox\",\"marker\":{\"colorbar\":{\"outlinewidth\":0,\"ticks\":\"\"}}}],\"scatterternary\":[{\"type\":\"scatterternary\",\"marker\":{\"colorbar\":{\"outlinewidth\":0,\"ticks\":\"\"}}}],\"scattercarpet\":[{\"type\":\"scattercarpet\",\"marker\":{\"colorbar\":{\"outlinewidth\":0,\"ticks\":\"\"}}}],\"carpet\":[{\"aaxis\":{\"endlinecolor\":\"#2a3f5f\",\"gridcolor\":\"white\",\"linecolor\":\"white\",\"minorgridcolor\":\"white\",\"startlinecolor\":\"#2a3f5f\"},\"baxis\":{\"endlinecolor\":\"#2a3f5f\",\"gridcolor\":\"white\",\"linecolor\":\"white\",\"minorgridcolor\":\"white\",\"startlinecolor\":\"#2a3f5f\"},\"type\":\"carpet\"}],\"table\":[{\"cells\":{\"fill\":{\"color\":\"#EBF0F8\"},\"line\":{\"color\":\"white\"}},\"header\":{\"fill\":{\"color\":\"#C8D4E3\"},\"line\":{\"color\":\"white\"}},\"type\":\"table\"}],\"barpolar\":[{\"marker\":{\"line\":{\"color\":\"#E5ECF6\",\"width\":0.5},\"pattern\":{\"fillmode\":\"overlay\",\"size\":10,\"solidity\":0.2}},\"type\":\"barpolar\"}],\"pie\":[{\"automargin\":true,\"type\":\"pie\"}]},\"layout\":{\"autotypenumbers\":\"strict\",\"colorway\":[\"#636efa\",\"#EF553B\",\"#00cc96\",\"#ab63fa\",\"#FFA15A\",\"#19d3f3\",\"#FF6692\",\"#B6E880\",\"#FF97FF\",\"#FECB52\"],\"font\":{\"color\":\"#2a3f5f\"},\"hovermode\":\"closest\",\"hoverlabel\":{\"align\":\"left\"},\"paper_bgcolor\":\"white\",\"plot_bgcolor\":\"#E5ECF6\",\"polar\":{\"bgcolor\":\"#E5ECF6\",\"angularaxis\":{\"gridcolor\":\"white\",\"linecolor\":\"white\",\"ticks\":\"\"},\"radialaxis\":{\"gridcolor\":\"white\",\"linecolor\":\"white\",\"ticks\":\"\"}},\"ternary\":{\"bgcolor\":\"#E5ECF6\",\"aaxis\":{\"gridcolor\":\"white\",\"linecolor\":\"white\",\"ticks\":\"\"},\"baxis\":{\"gridcolor\":\"white\",\"linecolor\":\"white\",\"ticks\":\"\"},\"caxis\":{\"gridcolor\":\"white\",\"linecolor\":\"white\",\"ticks\":\"\"}},\"coloraxis\":{\"colorbar\":{\"outlinewidth\":0,\"ticks\":\"\"}},\"colorscale\":{\"sequential\":[[0.0,\"#0d0887\"],[0.1111111111111111,\"#46039f\"],[0.2222222222222222,\"#7201a8\"],[0.3333333333333333,\"#9c179e\"],[0.4444444444444444,\"#bd3786\"],[0.5555555555555556,\"#d8576b\"],[0.6666666666666666,\"#ed7953\"],[0.7777777777777778,\"#fb9f3a\"],[0.8888888888888888,\"#fdca26\"],[1.0,\"#f0f921\"]],\"sequentialminus\":[[0.0,\"#0d0887\"],[0.1111111111111111,\"#46039f\"],[0.2222222222222222,\"#7201a8\"],[0.3333333333333333,\"#9c179e\"],[0.4444444444444444,\"#bd3786\"],[0.5555555555555556,\"#d8576b\"],[0.6666666666666666,\"#ed7953\"],[0.7777777777777778,\"#fb9f3a\"],[0.8888888888888888,\"#fdca26\"],[1.0,\"#f0f921\"]],\"diverging\":[[0,\"#8e0152\"],[0.1,\"#c51b7d\"],[0.2,\"#de77ae\"],[0.3,\"#f1b6da\"],[0.4,\"#fde0ef\"],[0.5,\"#f7f7f7\"],[0.6,\"#e6f5d0\"],[0.7,\"#b8e186\"],[0.8,\"#7fbc41\"],[0.9,\"#4d9221\"],[1,\"#276419\"]]},\"xaxis\":{\"gridcolor\":\"white\",\"linecolor\":\"white\",\"ticks\":\"\",\"title\":{\"standoff\":15},\"zerolinecolor\":\"white\",\"automargin\":true,\"zerolinewidth\":2},\"yaxis\":{\"gridcolor\":\"white\",\"linecolor\":\"white\",\"ticks\":\"\",\"title\":{\"standoff\":15},\"zerolinecolor\":\"white\",\"automargin\":true,\"zerolinewidth\":2},\"scene\":{\"xaxis\":{\"backgroundcolor\":\"#E5ECF6\",\"gridcolor\":\"white\",\"linecolor\":\"white\",\"showbackground\":true,\"ticks\":\"\",\"zerolinecolor\":\"white\",\"gridwidth\":2},\"yaxis\":{\"backgroundcolor\":\"#E5ECF6\",\"gridcolor\":\"white\",\"linecolor\":\"white\",\"showbackground\":true,\"ticks\":\"\",\"zerolinecolor\":\"white\",\"gridwidth\":2},\"zaxis\":{\"backgroundcolor\":\"#E5ECF6\",\"gridcolor\":\"white\",\"linecolor\":\"white\",\"showbackground\":true,\"ticks\":\"\",\"zerolinecolor\":\"white\",\"gridwidth\":2}},\"shapedefaults\":{\"line\":{\"color\":\"#2a3f5f\"}},\"annotationdefaults\":{\"arrowcolor\":\"#2a3f5f\",\"arrowhead\":0,\"arrowwidth\":1},\"geo\":{\"bgcolor\":\"white\",\"landcolor\":\"#E5ECF6\",\"subunitcolor\":\"white\",\"showland\":true,\"showlakes\":true,\"lakecolor\":\"white\"},\"title\":{\"x\":0.05},\"mapbox\":{\"style\":\"light\"}}},\"xaxis\":{\"anchor\":\"y\",\"domain\":[0.0,1.0],\"scaleanchor\":\"y\",\"constrain\":\"domain\"},\"yaxis\":{\"anchor\":\"x\",\"domain\":[0.0,1.0],\"autorange\":\"reversed\",\"constrain\":\"domain\"},\"coloraxis\":{\"colorscale\":[[0.0,\"#0d0887\"],[0.1111111111111111,\"#46039f\"],[0.2222222222222222,\"#7201a8\"],[0.3333333333333333,\"#9c179e\"],[0.4444444444444444,\"#bd3786\"],[0.5555555555555556,\"#d8576b\"],[0.6666666666666666,\"#ed7953\"],[0.7777777777777778,\"#fb9f3a\"],[0.8888888888888888,\"#fdca26\"],[1.0,\"#f0f921\"]]},\"margin\":{\"t\":60},\"autosize\":false,\"width\":1800,\"height\":1800},                        {\"responsive\": true}                    ).then(function(){\n",
       "                            \n",
       "var gd = document.getElementById('76ef83b3-7016-47a1-97d0-ce54a6c1b492');\n",
       "var x = new MutationObserver(function (mutations, observer) {{\n",
       "        var display = window.getComputedStyle(gd).display;\n",
       "        if (!display || display === 'none') {{\n",
       "            console.log([gd, 'removed!']);\n",
       "            Plotly.purge(gd);\n",
       "            observer.disconnect();\n",
       "        }}\n",
       "}});\n",
       "\n",
       "// Listen for the removal of the full notebook cells\n",
       "var notebookContainer = gd.closest('#notebook-container');\n",
       "if (notebookContainer) {{\n",
       "    x.observe(notebookContainer, {childList: true});\n",
       "}}\n",
       "\n",
       "// Listen for the clearing of the current output cell\n",
       "var outputEl = gd.closest('.output');\n",
       "if (outputEl) {{\n",
       "    x.observe(outputEl, {childList: true});\n",
       "}}\n",
       "\n",
       "                        })                };                });            </script>        </div>"
      ]
     },
     "metadata": {},
     "output_type": "display_data"
    }
   ],
   "source": [
    "\n",
    "#plt.figure(figsize=(15,15))\n",
    "fig=px.imshow(data.corr())\n",
    "fig.update_layout(\n",
    "    autosize=False,\n",
    "    width=1800,\n",
    "    height=1800,)"
   ]
  },
  {
   "cell_type": "code",
   "execution_count": 82,
   "id": "cd50dea4",
   "metadata": {},
   "outputs": [
    {
     "data": {
      "text/plain": [
       "<AxesSubplot:title={'center':'Piligrims'}, xlabel='Condition'>"
      ]
     },
     "execution_count": 82,
     "metadata": {},
     "output_type": "execute_result"
    },
    {
     "data": {
      "image/png": "[encoded data removed]",
      "text/plain": [
       "<Figure size 1440x1152 with 1 Axes>"
      ]
     },
     "metadata": {
      "needs_background": "light"
     },
     "output_type": "display_data"
    }
   ],
   "source": [
    "data.boxplot(column='Piligrims',by='Condition',figsize=(20,16))"
   ]
  },
  {
   "cell_type": "code",
   "execution_count": 83,
   "id": "2fd2d6e8",
   "metadata": {},
   "outputs": [
    {
     "data": {
      "text/plain": [
       "<AxesSubplot:title={'center':'Piligrims'}, xlabel='Day'>"
      ]
     },
     "execution_count": 83,
     "metadata": {},
     "output_type": "execute_result"
    },
    {
     "data": {
      "image/png": "[encoded data removed]",
      "text/plain": [
       "<Figure size 720x720 with 1 Axes>"
      ]
     },
     "metadata": {
      "needs_background": "light"
     },
     "output_type": "display_data"
    }
   ],
   "source": [
    "data.boxplot(column='Piligrims',by='Day',figsize=(10,10))"
   ]
  },
  {
   "cell_type": "code",
   "execution_count": null,
   "id": "3976751b",
   "metadata": {},
   "outputs": [],
   "source": []
  },
  {
   "cell_type": "markdown",
   "id": "28e8e240",
   "metadata": {},
   "source": [
    "#  Models :\n"
   ]
  },
  {
   "cell_type": "markdown",
   "id": "b8489389",
   "metadata": {},
   "source": [
    "##  Light Gradient Booting Machine Regressor(LGBMRegressor) :"
   ]
  },
  {
   "cell_type": "code",
   "execution_count": 84,
   "id": "bac8611a",
   "metadata": {},
   "outputs": [],
   "source": [
    "import lightgbm as lgb"
   ]
  },
  {
   "cell_type": "code",
   "execution_count": 105,
   "id": "c3b78057",
   "metadata": {},
   "outputs": [],
   "source": [
    "x_train,x_test,y_train,y_test=train_test_split(data[['Week_day','Temperature','Tirupati',\n",
    "       'Tirumala','Review','VIP darshan','Timestamp','tirumala darshan']],data['Piligrims'],test_size=0.27,random_state=3)"
   ]
  },
  {
   "cell_type": "code",
   "execution_count": 106,
   "id": "4ab9705d",
   "metadata": {},
   "outputs": [
    {
     "data": {
      "text/plain": [
       "LGBMRegressor()"
      ]
     },
     "execution_count": 106,
     "metadata": {},
     "output_type": "execute_result"
    }
   ],
   "source": [
    "#Model Training\n",
    "model1=lgb.LGBMRegressor()\n",
    "model1.fit(x_train,y_train)\n"
   ]
  },
  {
   "cell_type": "code",
   "execution_count": 107,
   "id": "437cab03",
   "metadata": {},
   "outputs": [
    {
     "data": {
      "text/plain": [
       "0.862921589008814"
      ]
     },
     "execution_count": 107,
     "metadata": {},
     "output_type": "execute_result"
    }
   ],
   "source": [
    "#Model Testing\n",
    "model1.score(x_test,y_test)"
   ]
  },
  {
   "cell_type": "code",
   "execution_count": 108,
   "id": "b9cce5ec",
   "metadata": {},
   "outputs": [
    {
     "name": "stdout",
     "output_type": "stream",
     "text": [
      "R2_Score: 0.862921589008814\n",
      "Mean_Squared_Error: 37141157.63296289\n",
      "Mean Absolute Error: 4772.399706448122\n"
     ]
    }
   ],
   "source": [
    "#Evaluating Model\n",
    "y_pred=model1.predict(x_test)\n",
    "print('R2_Score:',r2_score(y_test,y_pred))\n",
    "print('Mean_Squared_Error:',mean_squared_error(y_test,y_pred))\n",
    "print('Mean Absolute Error:',mean_absolute_error(y_test,y_pred))"
   ]
  },
  {
   "cell_type": "code",
   "execution_count": 88,
   "id": "bd445c14",
   "metadata": {},
   "outputs": [
    {
     "data": {
      "application/vnd.plotly.v1+json": {
       "config": {
        "plotlyServerURL": "https://plot.ly"
       },
       "data": [
        {
         "hovertemplate": "variable=wide_variable_0<br>index=%{x}<br>value=%{y}<extra></extra>",
         "legendgroup": "wide_variable_0",
         "line": {
          "color": "#636efa",
          "dash": "solid"
         },
         "marker": {
          "symbol": "circle"
         },
         "mode": "lines",
         "name": "wide_variable_0",
         "orientation": "v",
         "showlegend": true,
         "type": "scatter",
         "x": [
          0,
          1,
          2,
          3,
          4,
          5,
          6,
          7,
          8,
          9,
          10,
          11,
          12,
          13,
          14,
          15,
          16,
          17,
          18,
          19,
          20,
          21,
          22,
          23,
          24,
          25,
          26,
          27,
          28,
          29,
          30,
          31,
          32,
          33,
          34,
          35,
          36,
          37,
          38,
          39,
          40,
          41,
          42,
          43,
          44,
          45,
          46,
          47,
          48,
          49,
          50,
          51,
          52,
          53,
          54,
          55,
          56,
          57,
          58,
          59,
          60,
          61,
          62,
          63,
          64,
          65,
          66,
          67,
          68,
          69,
          70,
          71,
          72,
          73,
          74,
          75,
          76,
          77,
          78,
          79,
          80,
          81,
          82,
          83,
          84,
          85,
          86,
          87,
          88,
          89,
          90,
          91,
          92,
          93,
          94,
          95,
          96,
          97,
          98
         ],
         "xaxis": "x",
         "y": [
          69218.10011080044,
          72198.8903596964,
          78935.0768585998,
          32575.423775897314,
          73972.12112247622,
          70216.42717358784,
          70225.20749895429,
          77164.84070345524,
          71755.5246130453,
          77313.5725042043,
          64969.98961260057,
          34516.94409031509,
          65709.96139941321,
          59966.12231042517,
          70659.42140302346,
          64135.311143809915,
          50854.01276200679,
          30978.380508168913,
          68565.49575387928,
          78781.64008057196,
          33885.26837084458,
          68013.26468963776,
          70336.44960093047,
          67720.75611901912,
          69199.2190777652,
          67283.07730688408,
          80240.02073409685,
          71474.10163785955,
          29974.318523361235,
          35849.58050809921,
          59721.01774314724,
          70095.70383209095,
          75726.2523518186,
          74480.90373805545,
          72137.23168023158,
          65745.11656208045,
          56011.58041407681,
          69884.94840554787,
          65433.13294549762,
          77488.58979716593,
          36472.41989924573,
          69175.06288357696,
          72115.10082930958,
          76371.76976635453,
          62769.736285274885,
          76247.47106171543,
          69523.07055009951,
          60026.007744888426,
          43075.41776114023,
          70022.09536943688,
          63140.03957113336,
          84976.14054555388,
          57355.926603184,
          63863.00412261102,
          85349.82690093215,
          66558.6984303127,
          72385.51684814584,
          76334.91615101969,
          64597.10642963678,
          79066.10635964182,
          65576.00562420563,
          63176.5394478121,
          46858.77476171893,
          63428.989467406114,
          79815.48779864739,
          33666.53864659532,
          76049.26504235469,
          65583.72346844852,
          68942.9593289526,
          61200.48804345634,
          69959.57046793871,
          31866.638924154773,
          65533.02640453252,
          68004.6229055763,
          71860.07469706034,
          74639.11386543051,
          70822.27385177667,
          80567.13531047975,
          53734.26255815817,
          39443.65557925483,
          32426.995657184492,
          64047.14107870283,
          71607.18586616778,
          66133.23611801861,
          63003.806070381244,
          68232.23343173455,
          35849.58050809921,
          65554.4855877304,
          36963.99976589846,
          38841.51418866336,
          35597.38957924753,
          73686.08868585054,
          74495.04078989281,
          64209.03501917402,
          31227.531075950606,
          72776.60801220711,
          83333.57087999934,
          73186.00412257519,
          66316.94703564204
         ],
         "yaxis": "y"
        },
        {
         "hovertemplate": "variable=wide_variable_1<br>index=%{x}<br>value=%{y}<extra></extra>",
         "legendgroup": "wide_variable_1",
         "line": {
          "color": "#EF553B",
          "dash": "solid"
         },
         "marker": {
          "symbol": "circle"
         },
         "mode": "lines",
         "name": "wide_variable_1",
         "orientation": "v",
         "showlegend": true,
         "type": "scatter",
         "x": [
          0,
          1,
          2,
          3,
          4,
          5,
          6,
          7,
          8,
          9,
          10,
          11,
          12,
          13,
          14,
          15,
          16,
          17,
          18,
          19,
          20,
          21,
          22,
          23,
          24,
          25,
          26,
          27,
          28,
          29,
          30,
          31,
          32,
          33,
          34,
          35,
          36,
          37,
          38,
          39,
          40,
          41,
          42,
          43,
          44,
          45,
          46,
          47,
          48,
          49,
          50,
          51,
          52,
          53,
          54,
          55,
          56,
          57,
          58,
          59,
          60,
          61,
          62,
          63,
          64,
          65,
          66,
          67,
          68,
          69,
          70,
          71,
          72,
          73,
          74,
          75,
          76,
          77,
          78,
          79,
          80,
          81,
          82,
          83,
          84,
          85,
          86,
          87,
          88,
          89,
          90,
          91,
          92,
          93,
          94,
          95,
          96,
          97,
          98
         ],
         "xaxis": "x",
         "y": [
          88748,
          73831,
          74297,
          28745,
          81720,
          70019,
          71914,
          71069,
          78299,
          71196,
          75382,
          35642,
          75175,
          65704,
          65898,
          77277,
          50511,
          29496,
          72873,
          79836,
          35516,
          70263,
          74304,
          63754,
          74231,
          63670,
          86188,
          74503,
          32894,
          35333,
          61654,
          64157,
          80565,
          74389,
          73439,
          61863,
          58561,
          71069,
          67681,
          76746,
          24888,
          83880,
          69897,
          71528,
          72567,
          88924,
          74817,
          64368,
          56559,
          69154,
          60157,
          79833,
          63042,
          74354,
          87478,
          65466,
          73016,
          81535,
          65418,
          73323,
          62725,
          69211,
          37216,
          69814,
          74830,
          23744,
          76324,
          60861,
          74497,
          69603,
          72067,
          27223,
          69640,
          57104,
          75876,
          84794,
          72243,
          78188,
          53163,
          41390,
          30172,
          60946,
          62141,
          71299,
          69711,
          65763,
          29652,
          66577,
          34375,
          39335,
          39691,
          71437,
          84878,
          64425,
          26401,
          76418,
          71158,
          78602,
          68128
         ],
         "yaxis": "y"
        }
       ],
       "layout": {
        "legend": {
         "title": {
          "text": "variable"
         },
         "tracegroupgap": 0
        },
        "margin": {
         "t": 60
        },
        "template": {
         "data": {
          "bar": [
           {
            "error_x": {
             "color": "#2a3f5f"
            },
            "error_y": {
             "color": "#2a3f5f"
            },
            "marker": {
             "line": {
              "color": "#E5ECF6",
              "width": 0.5
             },
             "pattern": {
              "fillmode": "overlay",
              "size": 10,
              "solidity": 0.2
             }
            },
            "type": "bar"
           }
          ],
          "barpolar": [
           {
            "marker": {
             "line": {
              "color": "#E5ECF6",
              "width": 0.5
             },
             "pattern": {
              "fillmode": "overlay",
              "size": 10,
              "solidity": 0.2
             }
            },
            "type": "barpolar"
           }
          ],
          "carpet": [
           {
            "aaxis": {
             "endlinecolor": "#2a3f5f",
             "gridcolor": "white",
             "linecolor": "white",
             "minorgridcolor": "white",
             "startlinecolor": "#2a3f5f"
            },
            "baxis": {
             "endlinecolor": "#2a3f5f",
             "gridcolor": "white",
             "linecolor": "white",
             "minorgridcolor": "white",
             "startlinecolor": "#2a3f5f"
            },
            "type": "carpet"
           }
          ],
          "choropleth": [
           {
            "colorbar": {
             "outlinewidth": 0,
             "ticks": ""
            },
            "type": "choropleth"
           }
          ],
          "contour": [
           {
            "colorbar": {
             "outlinewidth": 0,
             "ticks": ""
            },
            "colorscale": [
             [
              0,
              "#0d0887"
             ],
             [
              0.1111111111111111,
              "#46039f"
             ],
             [
              0.2222222222222222,
              "#7201a8"
             ],
             [
              0.3333333333333333,
              "#9c179e"
             ],
             [
              0.4444444444444444,
              "#bd3786"
             ],
             [
              0.5555555555555556,
              "#d8576b"
             ],
             [
              0.6666666666666666,
              "#ed7953"
             ],
             [
              0.7777777777777778,
              "#fb9f3a"
             ],
             [
              0.8888888888888888,
              "#fdca26"
             ],
             [
              1,
              "#f0f921"
             ]
            ],
            "type": "contour"
           }
          ],
          "contourcarpet": [
           {
            "colorbar": {
             "outlinewidth": 0,
             "ticks": ""
            },
            "type": "contourcarpet"
           }
          ],
          "heatmap": [
           {
            "colorbar": {
             "outlinewidth": 0,
             "ticks": ""
            },
            "colorscale": [
             [
              0,
              "#0d0887"
             ],
             [
              0.1111111111111111,
              "#46039f"
             ],
             [
              0.2222222222222222,
              "#7201a8"
             ],
             [
              0.3333333333333333,
              "#9c179e"
             ],
             [
              0.4444444444444444,
              "#bd3786"
             ],
             [
              0.5555555555555556,
              "#d8576b"
             ],
             [
              0.6666666666666666,
              "#ed7953"
             ],
             [
              0.7777777777777778,
              "#fb9f3a"
             ],
             [
              0.8888888888888888,
              "#fdca26"
             ],
             [
              1,
              "#f0f921"
             ]
            ],
            "type": "heatmap"
           }
          ],
          "heatmapgl": [
           {
            "colorbar": {
             "outlinewidth": 0,
             "ticks": ""
            },
            "colorscale": [
             [
              0,
              "#0d0887"
             ],
             [
              0.1111111111111111,
              "#46039f"
             ],
             [
              0.2222222222222222,
              "#7201a8"
             ],
             [
              0.3333333333333333,
              "#9c179e"
             ],
             [
              0.4444444444444444,
              "#bd3786"
             ],
             [
              0.5555555555555556,
              "#d8576b"
             ],
             [
              0.6666666666666666,
              "#ed7953"
             ],
             [
              0.7777777777777778,
              "#fb9f3a"
             ],
             [
              0.8888888888888888,
              "#fdca26"
             ],
             [
              1,
              "#f0f921"
             ]
            ],
            "type": "heatmapgl"
           }
          ],
          "histogram": [
           {
            "marker": {
             "pattern": {
              "fillmode": "overlay",
              "size": 10,
              "solidity": 0.2
             }
            },
            "type": "histogram"
           }
          ],
          "histogram2d": [
           {
            "colorbar": {
             "outlinewidth": 0,
             "ticks": ""
            },
            "colorscale": [
             [
              0,
              "#0d0887"
             ],
             [
              0.1111111111111111,
              "#46039f"
             ],
             [
              0.2222222222222222,
              "#7201a8"
             ],
             [
              0.3333333333333333,
              "#9c179e"
             ],
             [
              0.4444444444444444,
              "#bd3786"
             ],
             [
              0.5555555555555556,
              "#d8576b"
             ],
             [
              0.6666666666666666,
              "#ed7953"
             ],
             [
              0.7777777777777778,
              "#fb9f3a"
             ],
             [
              0.8888888888888888,
              "#fdca26"
             ],
             [
              1,
              "#f0f921"
             ]
            ],
            "type": "histogram2d"
           }
          ],
          "histogram2dcontour": [
           {
            "colorbar": {
             "outlinewidth": 0,
             "ticks": ""
            },
            "colorscale": [
             [
              0,
              "#0d0887"
             ],
             [
              0.1111111111111111,
              "#46039f"
             ],
             [
              0.2222222222222222,
              "#7201a8"
             ],
             [
              0.3333333333333333,
              "#9c179e"
             ],
             [
              0.4444444444444444,
              "#bd3786"
             ],
             [
              0.5555555555555556,
              "#d8576b"
             ],
             [
              0.6666666666666666,
              "#ed7953"
             ],
             [
              0.7777777777777778,
              "#fb9f3a"
             ],
             [
              0.8888888888888888,
              "#fdca26"
             ],
             [
              1,
              "#f0f921"
             ]
            ],
            "type": "histogram2dcontour"
           }
          ],
          "mesh3d": [
           {
            "colorbar": {
             "outlinewidth": 0,
             "ticks": ""
            },
            "type": "mesh3d"
           }
          ],
          "parcoords": [
           {
            "line": {
             "colorbar": {
              "outlinewidth": 0,
              "ticks": ""
             }
            },
            "type": "parcoords"
           }
          ],
          "pie": [
           {
            "automargin": true,
            "type": "pie"
           }
          ],
          "scatter": [
           {
            "fillpattern": {
             "fillmode": "overlay",
             "size": 10,
             "solidity": 0.2
            },
            "type": "scatter"
           }
          ],
          "scatter3d": [
           {
            "line": {
             "colorbar": {
              "outlinewidth": 0,
              "ticks": ""
             }
            },
            "marker": {
             "colorbar": {
              "outlinewidth": 0,
              "ticks": ""
             }
            },
            "type": "scatter3d"
           }
          ],
          "scattercarpet": [
           {
            "marker": {
             "colorbar": {
              "outlinewidth": 0,
              "ticks": ""
             }
            },
            "type": "scattercarpet"
           }
          ],
          "scattergeo": [
           {
            "marker": {
             "colorbar": {
              "outlinewidth": 0,
              "ticks": ""
             }
            },
            "type": "scattergeo"
           }
          ],
          "scattergl": [
           {
            "marker": {
             "colorbar": {
              "outlinewidth": 0,
              "ticks": ""
             }
            },
            "type": "scattergl"
           }
          ],
          "scattermapbox": [
           {
            "marker": {
             "colorbar": {
              "outlinewidth": 0,
              "ticks": ""
             }
            },
            "type": "scattermapbox"
           }
          ],
          "scatterpolar": [
           {
            "marker": {
             "colorbar": {
              "outlinewidth": 0,
              "ticks": ""
             }
            },
            "type": "scatterpolar"
           }
          ],
          "scatterpolargl": [
           {
            "marker": {
             "colorbar": {
              "outlinewidth": 0,
              "ticks": ""
             }
            },
            "type": "scatterpolargl"
           }
          ],
          "scatterternary": [
           {
            "marker": {
             "colorbar": {
              "outlinewidth": 0,
              "ticks": ""
             }
            },
            "type": "scatterternary"
           }
          ],
          "surface": [
           {
            "colorbar": {
             "outlinewidth": 0,
             "ticks": ""
            },
            "colorscale": [
             [
              0,
              "#0d0887"
             ],
             [
              0.1111111111111111,
              "#46039f"
             ],
             [
              0.2222222222222222,
              "#7201a8"
             ],
             [
              0.3333333333333333,
              "#9c179e"
             ],
             [
              0.4444444444444444,
              "#bd3786"
             ],
             [
              0.5555555555555556,
              "#d8576b"
             ],
             [
              0.6666666666666666,
              "#ed7953"
             ],
             [
              0.7777777777777778,
              "#fb9f3a"
             ],
             [
              0.8888888888888888,
              "#fdca26"
             ],
             [
              1,
              "#f0f921"
             ]
            ],
            "type": "surface"
           }
          ],
          "table": [
           {
            "cells": {
             "fill": {
              "color": "#EBF0F8"
             },
             "line": {
              "color": "white"
             }
            },
            "header": {
             "fill": {
              "color": "#C8D4E3"
             },
             "line": {
              "color": "white"
             }
            },
            "type": "table"
           }
          ]
         },
         "layout": {
          "annotationdefaults": {
           "arrowcolor": "#2a3f5f",
           "arrowhead": 0,
           "arrowwidth": 1
          },
          "autotypenumbers": "strict",
          "coloraxis": {
           "colorbar": {
            "outlinewidth": 0,
            "ticks": ""
           }
          },
          "colorscale": {
           "diverging": [
            [
             0,
             "#8e0152"
            ],
            [
             0.1,
             "#c51b7d"
            ],
            [
             0.2,
             "#de77ae"
            ],
            [
             0.3,
             "#f1b6da"
            ],
            [
             0.4,
             "#fde0ef"
            ],
            [
             0.5,
             "#f7f7f7"
            ],
            [
             0.6,
             "#e6f5d0"
            ],
            [
             0.7,
             "#b8e186"
            ],
            [
             0.8,
             "#7fbc41"
            ],
            [
             0.9,
             "#4d9221"
            ],
            [
             1,
             "#276419"
            ]
           ],
           "sequential": [
            [
             0,
             "#0d0887"
            ],
            [
             0.1111111111111111,
             "#46039f"
            ],
            [
             0.2222222222222222,
             "#7201a8"
            ],
            [
             0.3333333333333333,
             "#9c179e"
            ],
            [
             0.4444444444444444,
             "#bd3786"
            ],
            [
             0.5555555555555556,
             "#d8576b"
            ],
            [
             0.6666666666666666,
             "#ed7953"
            ],
            [
             0.7777777777777778,
             "#fb9f3a"
            ],
            [
             0.8888888888888888,
             "#fdca26"
            ],
            [
             1,
             "#f0f921"
            ]
           ],
           "sequentialminus": [
            [
             0,
             "#0d0887"
            ],
            [
             0.1111111111111111,
             "#46039f"
            ],
            [
             0.2222222222222222,
             "#7201a8"
            ],
            [
             0.3333333333333333,
             "#9c179e"
            ],
            [
             0.4444444444444444,
             "#bd3786"
            ],
            [
             0.5555555555555556,
             "#d8576b"
            ],
            [
             0.6666666666666666,
             "#ed7953"
            ],
            [
             0.7777777777777778,
             "#fb9f3a"
            ],
            [
             0.8888888888888888,
             "#fdca26"
            ],
            [
             1,
             "#f0f921"
            ]
           ]
          },
          "colorway": [
           "#636efa",
           "#EF553B",
           "#00cc96",
           "#ab63fa",
           "#FFA15A",
           "#19d3f3",
           "#FF6692",
           "#B6E880",
           "#FF97FF",
           "#FECB52"
          ],
          "font": {
           "color": "#2a3f5f"
          },
          "geo": {
           "bgcolor": "white",
           "lakecolor": "white",
           "landcolor": "#E5ECF6",
           "showlakes": true,
           "showland": true,
           "subunitcolor": "white"
          },
          "hoverlabel": {
           "align": "left"
          },
          "hovermode": "closest",
          "mapbox": {
           "style": "light"
          },
          "paper_bgcolor": "white",
          "plot_bgcolor": "#E5ECF6",
          "polar": {
           "angularaxis": {
            "gridcolor": "white",
            "linecolor": "white",
            "ticks": ""
           },
           "bgcolor": "#E5ECF6",
           "radialaxis": {
            "gridcolor": "white",
            "linecolor": "white",
            "ticks": ""
           }
          },
          "scene": {
           "xaxis": {
            "backgroundcolor": "#E5ECF6",
            "gridcolor": "white",
            "gridwidth": 2,
            "linecolor": "white",
            "showbackground": true,
            "ticks": "",
            "zerolinecolor": "white"
           },
           "yaxis": {
            "backgroundcolor": "#E5ECF6",
            "gridcolor": "white",
            "gridwidth": 2,
            "linecolor": "white",
            "showbackground": true,
            "ticks": "",
            "zerolinecolor": "white"
           },
           "zaxis": {
            "backgroundcolor": "#E5ECF6",
            "gridcolor": "white",
            "gridwidth": 2,
            "linecolor": "white",
            "showbackground": true,
            "ticks": "",
            "zerolinecolor": "white"
           }
          },
          "shapedefaults": {
           "line": {
            "color": "#2a3f5f"
           }
          },
          "ternary": {
           "aaxis": {
            "gridcolor": "white",
            "linecolor": "white",
            "ticks": ""
           },
           "baxis": {
            "gridcolor": "white",
            "linecolor": "white",
            "ticks": ""
           },
           "bgcolor": "#E5ECF6",
           "caxis": {
            "gridcolor": "white",
            "linecolor": "white",
            "ticks": ""
           }
          },
          "title": {
           "x": 0.05
          },
          "xaxis": {
           "automargin": true,
           "gridcolor": "white",
           "linecolor": "white",
           "ticks": "",
           "title": {
            "standoff": 15
           },
           "zerolinecolor": "white",
           "zerolinewidth": 2
          },
          "yaxis": {
           "automargin": true,
           "gridcolor": "white",
           "linecolor": "white",
           "ticks": "",
           "title": {
            "standoff": 15
           },
           "zerolinecolor": "white",
           "zerolinewidth": 2
          }
         }
        },
        "xaxis": {
         "anchor": "y",
         "domain": [
          0,
          1
         ],
         "title": {
          "text": "index"
         }
        },
        "yaxis": {
         "anchor": "x",
         "domain": [
          0,
          1
         ],
         "title": {
          "text": "value"
         }
        }
       }
      },
      "text/html": [
       "<div>                            <div id=\"9393bbac-9363-46ef-9ff3-4a41fb2f6711\" class=\"plotly-graph-div\" style=\"height:525px; width:100%;\"></div>            <script type=\"text/javascript\">                require([\"plotly\"], function(Plotly) {                    window.PLOTLYENV=window.PLOTLYENV || {};                                    if (document.getElementById(\"9393bbac-9363-46ef-9ff3-4a41fb2f6711\")) {                    Plotly.newPlot(                        \"9393bbac-9363-46ef-9ff3-4a41fb2f6711\",                        [{\"hovertemplate\":\"variable=wide_variable_0<br>index=%{x}<br>value=%{y}<extra></extra>\",\"legendgroup\":\"wide_variable_0\",\"line\":{\"color\":\"#636efa\",\"dash\":\"solid\"},\"marker\":{\"symbol\":\"circle\"},\"mode\":\"lines\",\"name\":\"wide_variable_0\",\"orientation\":\"v\",\"showlegend\":true,\"x\":[0,1,2,3,4,5,6,7,8,9,10,11,12,13,14,15,16,17,18,19,20,21,22,23,24,25,26,27,28,29,30,31,32,33,34,35,36,37,38,39,40,41,42,43,44,45,46,47,48,49,50,51,52,53,54,55,56,57,58,59,60,61,62,63,64,65,66,67,68,69,70,71,72,73,74,75,76,77,78,79,80,81,82,83,84,85,86,87,88,89,90,91,92,93,94,95,96,97,98],\"xaxis\":\"x\",\"y\":[69218.10011080044,72198.8903596964,78935.0768585998,32575.423775897314,73972.12112247622,70216.42717358784,70225.20749895429,77164.84070345524,71755.5246130453,77313.5725042043,64969.98961260057,34516.94409031509,65709.96139941321,59966.12231042517,70659.42140302346,64135.311143809915,50854.01276200679,30978.380508168913,68565.49575387928,78781.64008057196,33885.26837084458,68013.26468963776,70336.44960093047,67720.75611901912,69199.2190777652,67283.07730688408,80240.02073409685,71474.10163785955,29974.318523361235,35849.58050809921,59721.01774314724,70095.70383209095,75726.2523518186,74480.90373805545,72137.23168023158,65745.11656208045,56011.58041407681,69884.94840554787,65433.13294549762,77488.58979716593,36472.41989924573,69175.06288357696,72115.10082930958,76371.76976635453,62769.736285274885,76247.47106171543,69523.07055009951,60026.007744888426,43075.41776114023,70022.09536943688,63140.03957113336,84976.14054555388,57355.926603184,63863.00412261102,85349.82690093215,66558.6984303127,72385.51684814584,76334.91615101969,64597.10642963678,79066.10635964182,65576.00562420563,63176.5394478121,46858.77476171893,63428.989467406114,79815.48779864739,33666.53864659532,76049.26504235469,65583.72346844852,68942.9593289526,61200.48804345634,69959.57046793871,31866.638924154773,65533.02640453252,68004.6229055763,71860.07469706034,74639.11386543051,70822.27385177667,80567.13531047975,53734.26255815817,39443.65557925483,32426.995657184492,64047.14107870283,71607.18586616778,66133.23611801861,63003.806070381244,68232.23343173455,35849.58050809921,65554.4855877304,36963.99976589846,38841.51418866336,35597.38957924753,73686.08868585054,74495.04078989281,64209.03501917402,31227.531075950606,72776.60801220711,83333.57087999934,73186.00412257519,66316.94703564204],\"yaxis\":\"y\",\"type\":\"scatter\"},{\"hovertemplate\":\"variable=wide_variable_1<br>index=%{x}<br>value=%{y}<extra></extra>\",\"legendgroup\":\"wide_variable_1\",\"line\":{\"color\":\"#EF553B\",\"dash\":\"solid\"},\"marker\":{\"symbol\":\"circle\"},\"mode\":\"lines\",\"name\":\"wide_variable_1\",\"orientation\":\"v\",\"showlegend\":true,\"x\":[0,1,2,3,4,5,6,7,8,9,10,11,12,13,14,15,16,17,18,19,20,21,22,23,24,25,26,27,28,29,30,31,32,33,34,35,36,37,38,39,40,41,42,43,44,45,46,47,48,49,50,51,52,53,54,55,56,57,58,59,60,61,62,63,64,65,66,67,68,69,70,71,72,73,74,75,76,77,78,79,80,81,82,83,84,85,86,87,88,89,90,91,92,93,94,95,96,97,98],\"xaxis\":\"x\",\"y\":[88748.0,73831.0,74297.0,28745.0,81720.0,70019.0,71914.0,71069.0,78299.0,71196.0,75382.0,35642.0,75175.0,65704.0,65898.0,77277.0,50511.0,29496.0,72873.0,79836.0,35516.0,70263.0,74304.0,63754.0,74231.0,63670.0,86188.0,74503.0,32894.0,35333.0,61654.0,64157.0,80565.0,74389.0,73439.0,61863.0,58561.0,71069.0,67681.0,76746.0,24888.0,83880.0,69897.0,71528.0,72567.0,88924.0,74817.0,64368.0,56559.0,69154.0,60157.0,79833.0,63042.0,74354.0,87478.0,65466.0,73016.0,81535.0,65418.0,73323.0,62725.0,69211.0,37216.0,69814.0,74830.0,23744.0,76324.0,60861.0,74497.0,69603.0,72067.0,27223.0,69640.0,57104.0,75876.0,84794.0,72243.0,78188.0,53163.0,41390.0,30172.0,60946.0,62141.0,71299.0,69711.0,65763.0,29652.0,66577.0,34375.0,39335.0,39691.0,71437.0,84878.0,64425.0,26401.0,76418.0,71158.0,78602.0,68128.0],\"yaxis\":\"y\",\"type\":\"scatter\"}],                        {\"template\":{\"data\":{\"histogram2dcontour\":[{\"type\":\"histogram2dcontour\",\"colorbar\":{\"outlinewidth\":0,\"ticks\":\"\"},\"colorscale\":[[0.0,\"#0d0887\"],[0.1111111111111111,\"#46039f\"],[0.2222222222222222,\"#7201a8\"],[0.3333333333333333,\"#9c179e\"],[0.4444444444444444,\"#bd3786\"],[0.5555555555555556,\"#d8576b\"],[0.6666666666666666,\"#ed7953\"],[0.7777777777777778,\"#fb9f3a\"],[0.8888888888888888,\"#fdca26\"],[1.0,\"#f0f921\"]]}],\"choropleth\":[{\"type\":\"choropleth\",\"colorbar\":{\"outlinewidth\":0,\"ticks\":\"\"}}],\"histogram2d\":[{\"type\":\"histogram2d\",\"colorbar\":{\"outlinewidth\":0,\"ticks\":\"\"},\"colorscale\":[[0.0,\"#0d0887\"],[0.1111111111111111,\"#46039f\"],[0.2222222222222222,\"#7201a8\"],[0.3333333333333333,\"#9c179e\"],[0.4444444444444444,\"#bd3786\"],[0.5555555555555556,\"#d8576b\"],[0.6666666666666666,\"#ed7953\"],[0.7777777777777778,\"#fb9f3a\"],[0.8888888888888888,\"#fdca26\"],[1.0,\"#f0f921\"]]}],\"heatmap\":[{\"type\":\"heatmap\",\"colorbar\":{\"outlinewidth\":0,\"ticks\":\"\"},\"colorscale\":[[0.0,\"#0d0887\"],[0.1111111111111111,\"#46039f\"],[0.2222222222222222,\"#7201a8\"],[0.3333333333333333,\"#9c179e\"],[0.4444444444444444,\"#bd3786\"],[0.5555555555555556,\"#d8576b\"],[0.6666666666666666,\"#ed7953\"],[0.7777777777777778,\"#fb9f3a\"],[0.8888888888888888,\"#fdca26\"],[1.0,\"#f0f921\"]]}],\"heatmapgl\":[{\"type\":\"heatmapgl\",\"colorbar\":{\"outlinewidth\":0,\"ticks\":\"\"},\"colorscale\":[[0.0,\"#0d0887\"],[0.1111111111111111,\"#46039f\"],[0.2222222222222222,\"#7201a8\"],[0.3333333333333333,\"#9c179e\"],[0.4444444444444444,\"#bd3786\"],[0.5555555555555556,\"#d8576b\"],[0.6666666666666666,\"#ed7953\"],[0.7777777777777778,\"#fb9f3a\"],[0.8888888888888888,\"#fdca26\"],[1.0,\"#f0f921\"]]}],\"contourcarpet\":[{\"type\":\"contourcarpet\",\"colorbar\":{\"outlinewidth\":0,\"ticks\":\"\"}}],\"contour\":[{\"type\":\"contour\",\"colorbar\":{\"outlinewidth\":0,\"ticks\":\"\"},\"colorscale\":[[0.0,\"#0d0887\"],[0.1111111111111111,\"#46039f\"],[0.2222222222222222,\"#7201a8\"],[0.3333333333333333,\"#9c179e\"],[0.4444444444444444,\"#bd3786\"],[0.5555555555555556,\"#d8576b\"],[0.6666666666666666,\"#ed7953\"],[0.7777777777777778,\"#fb9f3a\"],[0.8888888888888888,\"#fdca26\"],[1.0,\"#f0f921\"]]}],\"surface\":[{\"type\":\"surface\",\"colorbar\":{\"outlinewidth\":0,\"ticks\":\"\"},\"colorscale\":[[0.0,\"#0d0887\"],[0.1111111111111111,\"#46039f\"],[0.2222222222222222,\"#7201a8\"],[0.3333333333333333,\"#9c179e\"],[0.4444444444444444,\"#bd3786\"],[0.5555555555555556,\"#d8576b\"],[0.6666666666666666,\"#ed7953\"],[0.7777777777777778,\"#fb9f3a\"],[0.8888888888888888,\"#fdca26\"],[1.0,\"#f0f921\"]]}],\"mesh3d\":[{\"type\":\"mesh3d\",\"colorbar\":{\"outlinewidth\":0,\"ticks\":\"\"}}],\"scatter\":[{\"fillpattern\":{\"fillmode\":\"overlay\",\"size\":10,\"solidity\":0.2},\"type\":\"scatter\"}],\"parcoords\":[{\"type\":\"parcoords\",\"line\":{\"colorbar\":{\"outlinewidth\":0,\"ticks\":\"\"}}}],\"scatterpolargl\":[{\"type\":\"scatterpolargl\",\"marker\":{\"colorbar\":{\"outlinewidth\":0,\"ticks\":\"\"}}}],\"bar\":[{\"error_x\":{\"color\":\"#2a3f5f\"},\"error_y\":{\"color\":\"#2a3f5f\"},\"marker\":{\"line\":{\"color\":\"#E5ECF6\",\"width\":0.5},\"pattern\":{\"fillmode\":\"overlay\",\"size\":10,\"solidity\":0.2}},\"type\":\"bar\"}],\"scattergeo\":[{\"type\":\"scattergeo\",\"marker\":{\"colorbar\":{\"outlinewidth\":0,\"ticks\":\"\"}}}],\"scatterpolar\":[{\"type\":\"scatterpolar\",\"marker\":{\"colorbar\":{\"outlinewidth\":0,\"ticks\":\"\"}}}],\"histogram\":[{\"marker\":{\"pattern\":{\"fillmode\":\"overlay\",\"size\":10,\"solidity\":0.2}},\"type\":\"histogram\"}],\"scattergl\":[{\"type\":\"scattergl\",\"marker\":{\"colorbar\":{\"outlinewidth\":0,\"ticks\":\"\"}}}],\"scatter3d\":[{\"type\":\"scatter3d\",\"line\":{\"colorbar\":{\"outlinewidth\":0,\"ticks\":\"\"}},\"marker\":{\"colorbar\":{\"outlinewidth\":0,\"ticks\":\"\"}}}],\"scattermapbox\":[{\"type\":\"scattermapbox\",\"marker\":{\"colorbar\":{\"outlinewidth\":0,\"ticks\":\"\"}}}],\"scatterternary\":[{\"type\":\"scatterternary\",\"marker\":{\"colorbar\":{\"outlinewidth\":0,\"ticks\":\"\"}}}],\"scattercarpet\":[{\"type\":\"scattercarpet\",\"marker\":{\"colorbar\":{\"outlinewidth\":0,\"ticks\":\"\"}}}],\"carpet\":[{\"aaxis\":{\"endlinecolor\":\"#2a3f5f\",\"gridcolor\":\"white\",\"linecolor\":\"white\",\"minorgridcolor\":\"white\",\"startlinecolor\":\"#2a3f5f\"},\"baxis\":{\"endlinecolor\":\"#2a3f5f\",\"gridcolor\":\"white\",\"linecolor\":\"white\",\"minorgridcolor\":\"white\",\"startlinecolor\":\"#2a3f5f\"},\"type\":\"carpet\"}],\"table\":[{\"cells\":{\"fill\":{\"color\":\"#EBF0F8\"},\"line\":{\"color\":\"white\"}},\"header\":{\"fill\":{\"color\":\"#C8D4E3\"},\"line\":{\"color\":\"white\"}},\"type\":\"table\"}],\"barpolar\":[{\"marker\":{\"line\":{\"color\":\"#E5ECF6\",\"width\":0.5},\"pattern\":{\"fillmode\":\"overlay\",\"size\":10,\"solidity\":0.2}},\"type\":\"barpolar\"}],\"pie\":[{\"automargin\":true,\"type\":\"pie\"}]},\"layout\":{\"autotypenumbers\":\"strict\",\"colorway\":[\"#636efa\",\"#EF553B\",\"#00cc96\",\"#ab63fa\",\"#FFA15A\",\"#19d3f3\",\"#FF6692\",\"#B6E880\",\"#FF97FF\",\"#FECB52\"],\"font\":{\"color\":\"#2a3f5f\"},\"hovermode\":\"closest\",\"hoverlabel\":{\"align\":\"left\"},\"paper_bgcolor\":\"white\",\"plot_bgcolor\":\"#E5ECF6\",\"polar\":{\"bgcolor\":\"#E5ECF6\",\"angularaxis\":{\"gridcolor\":\"white\",\"linecolor\":\"white\",\"ticks\":\"\"},\"radialaxis\":{\"gridcolor\":\"white\",\"linecolor\":\"white\",\"ticks\":\"\"}},\"ternary\":{\"bgcolor\":\"#E5ECF6\",\"aaxis\":{\"gridcolor\":\"white\",\"linecolor\":\"white\",\"ticks\":\"\"},\"baxis\":{\"gridcolor\":\"white\",\"linecolor\":\"white\",\"ticks\":\"\"},\"caxis\":{\"gridcolor\":\"white\",\"linecolor\":\"white\",\"ticks\":\"\"}},\"coloraxis\":{\"colorbar\":{\"outlinewidth\":0,\"ticks\":\"\"}},\"colorscale\":{\"sequential\":[[0.0,\"#0d0887\"],[0.1111111111111111,\"#46039f\"],[0.2222222222222222,\"#7201a8\"],[0.3333333333333333,\"#9c179e\"],[0.4444444444444444,\"#bd3786\"],[0.5555555555555556,\"#d8576b\"],[0.6666666666666666,\"#ed7953\"],[0.7777777777777778,\"#fb9f3a\"],[0.8888888888888888,\"#fdca26\"],[1.0,\"#f0f921\"]],\"sequentialminus\":[[0.0,\"#0d0887\"],[0.1111111111111111,\"#46039f\"],[0.2222222222222222,\"#7201a8\"],[0.3333333333333333,\"#9c179e\"],[0.4444444444444444,\"#bd3786\"],[0.5555555555555556,\"#d8576b\"],[0.6666666666666666,\"#ed7953\"],[0.7777777777777778,\"#fb9f3a\"],[0.8888888888888888,\"#fdca26\"],[1.0,\"#f0f921\"]],\"diverging\":[[0,\"#8e0152\"],[0.1,\"#c51b7d\"],[0.2,\"#de77ae\"],[0.3,\"#f1b6da\"],[0.4,\"#fde0ef\"],[0.5,\"#f7f7f7\"],[0.6,\"#e6f5d0\"],[0.7,\"#b8e186\"],[0.8,\"#7fbc41\"],[0.9,\"#4d9221\"],[1,\"#276419\"]]},\"xaxis\":{\"gridcolor\":\"white\",\"linecolor\":\"white\",\"ticks\":\"\",\"title\":{\"standoff\":15},\"zerolinecolor\":\"white\",\"automargin\":true,\"zerolinewidth\":2},\"yaxis\":{\"gridcolor\":\"white\",\"linecolor\":\"white\",\"ticks\":\"\",\"title\":{\"standoff\":15},\"zerolinecolor\":\"white\",\"automargin\":true,\"zerolinewidth\":2},\"scene\":{\"xaxis\":{\"backgroundcolor\":\"#E5ECF6\",\"gridcolor\":\"white\",\"linecolor\":\"white\",\"showbackground\":true,\"ticks\":\"\",\"zerolinecolor\":\"white\",\"gridwidth\":2},\"yaxis\":{\"backgroundcolor\":\"#E5ECF6\",\"gridcolor\":\"white\",\"linecolor\":\"white\",\"showbackground\":true,\"ticks\":\"\",\"zerolinecolor\":\"white\",\"gridwidth\":2},\"zaxis\":{\"backgroundcolor\":\"#E5ECF6\",\"gridcolor\":\"white\",\"linecolor\":\"white\",\"showbackground\":true,\"ticks\":\"\",\"zerolinecolor\":\"white\",\"gridwidth\":2}},\"shapedefaults\":{\"line\":{\"color\":\"#2a3f5f\"}},\"annotationdefaults\":{\"arrowcolor\":\"#2a3f5f\",\"arrowhead\":0,\"arrowwidth\":1},\"geo\":{\"bgcolor\":\"white\",\"landcolor\":\"#E5ECF6\",\"subunitcolor\":\"white\",\"showland\":true,\"showlakes\":true,\"lakecolor\":\"white\"},\"title\":{\"x\":0.05},\"mapbox\":{\"style\":\"light\"}}},\"xaxis\":{\"anchor\":\"y\",\"domain\":[0.0,1.0],\"title\":{\"text\":\"index\"}},\"yaxis\":{\"anchor\":\"x\",\"domain\":[0.0,1.0],\"title\":{\"text\":\"value\"}},\"legend\":{\"title\":{\"text\":\"variable\"},\"tracegroupgap\":0},\"margin\":{\"t\":60}},                        {\"responsive\": true}                    ).then(function(){\n",
       "                            \n",
       "var gd = document.getElementById('9393bbac-9363-46ef-9ff3-4a41fb2f6711');\n",
       "var x = new MutationObserver(function (mutations, observer) {{\n",
       "        var display = window.getComputedStyle(gd).display;\n",
       "        if (!display || display === 'none') {{\n",
       "            console.log([gd, 'removed!']);\n",
       "            Plotly.purge(gd);\n",
       "            observer.disconnect();\n",
       "        }}\n",
       "}});\n",
       "\n",
       "// Listen for the removal of the full notebook cells\n",
       "var notebookContainer = gd.closest('#notebook-container');\n",
       "if (notebookContainer) {{\n",
       "    x.observe(notebookContainer, {childList: true});\n",
       "}}\n",
       "\n",
       "// Listen for the clearing of the current output cell\n",
       "var outputEl = gd.closest('.output');\n",
       "if (outputEl) {{\n",
       "    x.observe(outputEl, {childList: true});\n",
       "}}\n",
       "\n",
       "                        })                };                });            </script>        </div>"
      ]
     },
     "metadata": {},
     "output_type": "display_data"
    }
   ],
   "source": [
    "#Visualizing Results\n",
    "fig = px.line( y=[y_pred,y_test])\n",
    "fig.show()"
   ]
  },
  {
   "cell_type": "code",
   "execution_count": null,
   "id": "c375b83c",
   "metadata": {},
   "outputs": [],
   "source": []
  },
  {
   "cell_type": "markdown",
   "id": "1e98c6ab",
   "metadata": {},
   "source": [
    "## Linear Regression : ##"
   ]
  },
  {
   "cell_type": "code",
   "execution_count": 109,
   "id": "a22404da",
   "metadata": {},
   "outputs": [],
   "source": [
    "from sklearn.linear_model import LinearRegression"
   ]
  },
  {
   "cell_type": "code",
   "execution_count": 114,
   "id": "ee8cc47d",
   "metadata": {},
   "outputs": [],
   "source": [
    "x_train,x_test,y_train,y_test=train_test_split(data[['Week_day','Temperature','Tirupati',\n",
    "       'Tirumala','Review','VIP darshan','Timestamp','tirumala darshan']],data['Piligrims'],test_size=0.27,random_state=3)"
   ]
  },
  {
   "cell_type": "code",
   "execution_count": 115,
   "id": "2dbdfbf0",
   "metadata": {},
   "outputs": [
    {
     "data": {
      "text/plain": [
       "LinearRegression()"
      ]
     },
     "execution_count": 115,
     "metadata": {},
     "output_type": "execute_result"
    }
   ],
   "source": [
    "#Model Training\n",
    "model2=LinearRegression()\n",
    "model2.fit(x_train,y_train)\n"
   ]
  },
  {
   "cell_type": "code",
   "execution_count": 116,
   "id": "3879a4c7",
   "metadata": {},
   "outputs": [
    {
     "data": {
      "text/plain": [
       "0.7625435135074452"
      ]
     },
     "execution_count": 116,
     "metadata": {},
     "output_type": "execute_result"
    }
   ],
   "source": [
    "model2.score(x_test,y_test)"
   ]
  },
  {
   "cell_type": "code",
   "execution_count": 117,
   "id": "a43eebed",
   "metadata": {},
   "outputs": [
    {
     "name": "stdout",
     "output_type": "stream",
     "text": [
      "R2_Score: 0.7625435135074452\n",
      "Mean_Squared_Error: 64338423.03845048\n",
      "Mean Absolute Error: 6389.992184189226\n"
     ]
    }
   ],
   "source": [
    "#Modle Evaluation\n",
    "y_pred=model2.predict(x_test)\n",
    "print('R2_Score:',r2_score(y_test,y_pred))\n",
    "print('Mean_Squared_Error:',mean_squared_error(y_test,y_pred))\n",
    "print('Mean Absolute Error:',mean_absolute_error(y_test,y_pred))"
   ]
  },
  {
   "cell_type": "code",
   "execution_count": 93,
   "id": "c42d0d7d",
   "metadata": {},
   "outputs": [
    {
     "data": {
      "application/vnd.plotly.v1+json": {
       "config": {
        "plotlyServerURL": "https://plot.ly"
       },
       "data": [
        {
         "hovertemplate": "variable=wide_variable_0<br>index=%{x}<br>value=%{y}<extra></extra>",
         "legendgroup": "wide_variable_0",
         "line": {
          "color": "#636efa",
          "dash": "solid"
         },
         "marker": {
          "symbol": "circle"
         },
         "mode": "lines",
         "name": "wide_variable_0",
         "orientation": "v",
         "showlegend": true,
         "type": "scatter",
         "x": [
          0,
          1,
          2,
          3,
          4,
          5,
          6,
          7,
          8,
          9,
          10,
          11,
          12,
          13,
          14,
          15,
          16,
          17,
          18,
          19,
          20,
          21,
          22,
          23,
          24,
          25,
          26,
          27,
          28,
          29,
          30,
          31,
          32,
          33,
          34,
          35,
          36,
          37,
          38,
          39,
          40,
          41,
          42,
          43,
          44,
          45,
          46,
          47,
          48,
          49,
          50,
          51,
          52,
          53,
          54,
          55,
          56,
          57,
          58,
          59,
          60,
          61,
          62,
          63,
          64,
          65,
          66,
          67,
          68,
          69,
          70,
          71,
          72,
          73,
          74,
          75,
          76,
          77,
          78,
          79,
          80,
          81,
          82,
          83,
          84,
          85,
          86,
          87,
          88,
          89,
          90,
          91,
          92,
          93,
          94,
          95,
          96,
          97,
          98
         ],
         "xaxis": "x",
         "y": [
          63113.29932497931,
          74177.95796091203,
          74071.4047920939,
          36921.564326100284,
          68269.82013083529,
          64217.40317317494,
          64110.35159128695,
          77091.05309217493,
          71837.97367015504,
          72537.83642774355,
          60454.98801826453,
          36514.76785947662,
          72373.2786438549,
          57749.627044474706,
          69360.93385494081,
          73354.64779957873,
          48950.44051886606,
          41238.552828052314,
          74698.55747678434,
          86215.59760817722,
          41515.14207657194,
          68377.70037668734,
          67743.14333542297,
          70673.98461948638,
          70996.77910578926,
          69246.8543911567,
          68235.58818235621,
          70465.89147684397,
          38165.773530029925,
          31549.14765235083,
          58065.0404510519,
          69085.97515584202,
          71801.649243742,
          58151.64956036606,
          68809.71885374282,
          56272.443734352244,
          56774.52141438355,
          78425.77236874378,
          67132.81859390833,
          78537.12116076122,
          38089.36962645594,
          76251.48113690689,
          69165.27736083069,
          77044.62754459912,
          64423.46801347798,
          77280.07790629519,
          64519.47467236663,
          61179.93305593752,
          56742.6139720818,
          67393.6268978368,
          64304.99896563869,
          73836.36685012351,
          62873.312839622144,
          58994.426303257234,
          71994.38716425863,
          65201.30433582864,
          63126.46515584085,
          73404.25184121192,
          63696.15897454717,
          72934.2099504557,
          71731.45049659046,
          70535.43055658578,
          52603.75650377991,
          73613.25241900841,
          76600.44094793056,
          37847.291381034534,
          80246.89835901512,
          68552.3209123686,
          68892.0653678996,
          63865.43783995835,
          66482.70434265118,
          38891.998145955615,
          61567.774666396435,
          61916.33540711482,
          65162.71998749394,
          71553.31928134128,
          67398.44326735428,
          81628.30593450344,
          51366.97978810454,
          54609.54140229453,
          41622.71114873304,
          63531.52616188652,
          69151.58590046293,
          73403.61625831388,
          64921.9495140966,
          70903.38564591343,
          36376.4755155372,
          63186.48464320833,
          38478.54910803842,
          44050.34203626681,
          42241.45807933947,
          73312.56934782257,
          78275.1995688742,
          60435.93353321636,
          42416.50289653777,
          60599.55535521591,
          73559.81812070962,
          71392.44912756793,
          75515.17413399857
         ],
         "yaxis": "y"
        },
        {
         "hovertemplate": "variable=wide_variable_1<br>index=%{x}<br>value=%{y}<extra></extra>",
         "legendgroup": "wide_variable_1",
         "line": {
          "color": "#EF553B",
          "dash": "solid"
         },
         "marker": {
          "symbol": "circle"
         },
         "mode": "lines",
         "name": "wide_variable_1",
         "orientation": "v",
         "showlegend": true,
         "type": "scatter",
         "x": [
          0,
          1,
          2,
          3,
          4,
          5,
          6,
          7,
          8,
          9,
          10,
          11,
          12,
          13,
          14,
          15,
          16,
          17,
          18,
          19,
          20,
          21,
          22,
          23,
          24,
          25,
          26,
          27,
          28,
          29,
          30,
          31,
          32,
          33,
          34,
          35,
          36,
          37,
          38,
          39,
          40,
          41,
          42,
          43,
          44,
          45,
          46,
          47,
          48,
          49,
          50,
          51,
          52,
          53,
          54,
          55,
          56,
          57,
          58,
          59,
          60,
          61,
          62,
          63,
          64,
          65,
          66,
          67,
          68,
          69,
          70,
          71,
          72,
          73,
          74,
          75,
          76,
          77,
          78,
          79,
          80,
          81,
          82,
          83,
          84,
          85,
          86,
          87,
          88,
          89,
          90,
          91,
          92,
          93,
          94,
          95,
          96,
          97,
          98
         ],
         "xaxis": "x",
         "y": [
          88748,
          73831,
          74297,
          28745,
          81720,
          70019,
          71914,
          71069,
          78299,
          71196,
          75382,
          35642,
          75175,
          65704,
          65898,
          77277,
          50511,
          29496,
          72873,
          79836,
          35516,
          70263,
          74304,
          63754,
          74231,
          63670,
          86188,
          74503,
          32894,
          35333,
          61654,
          64157,
          80565,
          74389,
          73439,
          61863,
          58561,
          71069,
          67681,
          76746,
          24888,
          83880,
          69897,
          71528,
          72567,
          88924,
          74817,
          64368,
          56559,
          69154,
          60157,
          79833,
          63042,
          74354,
          87478,
          65466,
          73016,
          81535,
          65418,
          73323,
          62725,
          69211,
          37216,
          69814,
          74830,
          23744,
          76324,
          60861,
          74497,
          69603,
          72067,
          27223,
          69640,
          57104,
          75876,
          84794,
          72243,
          78188,
          53163,
          41390,
          30172,
          60946,
          62141,
          71299,
          69711,
          65763,
          29652,
          66577,
          34375,
          39335,
          39691,
          71437,
          84878,
          64425,
          26401,
          76418,
          71158,
          78602,
          68128
         ],
         "yaxis": "y"
        }
       ],
       "layout": {
        "legend": {
         "title": {
          "text": "variable"
         },
         "tracegroupgap": 0
        },
        "margin": {
         "t": 60
        },
        "template": {
         "data": {
          "bar": [
           {
            "error_x": {
             "color": "#2a3f5f"
            },
            "error_y": {
             "color": "#2a3f5f"
            },
            "marker": {
             "line": {
              "color": "#E5ECF6",
              "width": 0.5
             },
             "pattern": {
              "fillmode": "overlay",
              "size": 10,
              "solidity": 0.2
             }
            },
            "type": "bar"
           }
          ],
          "barpolar": [
           {
            "marker": {
             "line": {
              "color": "#E5ECF6",
              "width": 0.5
             },
             "pattern": {
              "fillmode": "overlay",
              "size": 10,
              "solidity": 0.2
             }
            },
            "type": "barpolar"
           }
          ],
          "carpet": [
           {
            "aaxis": {
             "endlinecolor": "#2a3f5f",
             "gridcolor": "white",
             "linecolor": "white",
             "minorgridcolor": "white",
             "startlinecolor": "#2a3f5f"
            },
            "baxis": {
             "endlinecolor": "#2a3f5f",
             "gridcolor": "white",
             "linecolor": "white",
             "minorgridcolor": "white",
             "startlinecolor": "#2a3f5f"
            },
            "type": "carpet"
           }
          ],
          "choropleth": [
           {
            "colorbar": {
             "outlinewidth": 0,
             "ticks": ""
            },
            "type": "choropleth"
           }
          ],
          "contour": [
           {
            "colorbar": {
             "outlinewidth": 0,
             "ticks": ""
            },
            "colorscale": [
             [
              0,
              "#0d0887"
             ],
             [
              0.1111111111111111,
              "#46039f"
             ],
             [
              0.2222222222222222,
              "#7201a8"
             ],
             [
              0.3333333333333333,
              "#9c179e"
             ],
             [
              0.4444444444444444,
              "#bd3786"
             ],
             [
              0.5555555555555556,
              "#d8576b"
             ],
             [
              0.6666666666666666,
              "#ed7953"
             ],
             [
              0.7777777777777778,
              "#fb9f3a"
             ],
             [
              0.8888888888888888,
              "#fdca26"
             ],
             [
              1,
              "#f0f921"
             ]
            ],
            "type": "contour"
           }
          ],
          "contourcarpet": [
           {
            "colorbar": {
             "outlinewidth": 0,
             "ticks": ""
            },
            "type": "contourcarpet"
           }
          ],
          "heatmap": [
           {
            "colorbar": {
             "outlinewidth": 0,
             "ticks": ""
            },
            "colorscale": [
             [
              0,
              "#0d0887"
             ],
             [
              0.1111111111111111,
              "#46039f"
             ],
             [
              0.2222222222222222,
              "#7201a8"
             ],
             [
              0.3333333333333333,
              "#9c179e"
             ],
             [
              0.4444444444444444,
              "#bd3786"
             ],
             [
              0.5555555555555556,
              "#d8576b"
             ],
             [
              0.6666666666666666,
              "#ed7953"
             ],
             [
              0.7777777777777778,
              "#fb9f3a"
             ],
             [
              0.8888888888888888,
              "#fdca26"
             ],
             [
              1,
              "#f0f921"
             ]
            ],
            "type": "heatmap"
           }
          ],
          "heatmapgl": [
           {
            "colorbar": {
             "outlinewidth": 0,
             "ticks": ""
            },
            "colorscale": [
             [
              0,
              "#0d0887"
             ],
             [
              0.1111111111111111,
              "#46039f"
             ],
             [
              0.2222222222222222,
              "#7201a8"
             ],
             [
              0.3333333333333333,
              "#9c179e"
             ],
             [
              0.4444444444444444,
              "#bd3786"
             ],
             [
              0.5555555555555556,
              "#d8576b"
             ],
             [
              0.6666666666666666,
              "#ed7953"
             ],
             [
              0.7777777777777778,
              "#fb9f3a"
             ],
             [
              0.8888888888888888,
              "#fdca26"
             ],
             [
              1,
              "#f0f921"
             ]
            ],
            "type": "heatmapgl"
           }
          ],
          "histogram": [
           {
            "marker": {
             "pattern": {
              "fillmode": "overlay",
              "size": 10,
              "solidity": 0.2
             }
            },
            "type": "histogram"
           }
          ],
          "histogram2d": [
           {
            "colorbar": {
             "outlinewidth": 0,
             "ticks": ""
            },
            "colorscale": [
             [
              0,
              "#0d0887"
             ],
             [
              0.1111111111111111,
              "#46039f"
             ],
             [
              0.2222222222222222,
              "#7201a8"
             ],
             [
              0.3333333333333333,
              "#9c179e"
             ],
             [
              0.4444444444444444,
              "#bd3786"
             ],
             [
              0.5555555555555556,
              "#d8576b"
             ],
             [
              0.6666666666666666,
              "#ed7953"
             ],
             [
              0.7777777777777778,
              "#fb9f3a"
             ],
             [
              0.8888888888888888,
              "#fdca26"
             ],
             [
              1,
              "#f0f921"
             ]
            ],
            "type": "histogram2d"
           }
          ],
          "histogram2dcontour": [
           {
            "colorbar": {
             "outlinewidth": 0,
             "ticks": ""
            },
            "colorscale": [
             [
              0,
              "#0d0887"
             ],
             [
              0.1111111111111111,
              "#46039f"
             ],
             [
              0.2222222222222222,
              "#7201a8"
             ],
             [
              0.3333333333333333,
              "#9c179e"
             ],
             [
              0.4444444444444444,
              "#bd3786"
             ],
             [
              0.5555555555555556,
              "#d8576b"
             ],
             [
              0.6666666666666666,
              "#ed7953"
             ],
             [
              0.7777777777777778,
              "#fb9f3a"
             ],
             [
              0.8888888888888888,
              "#fdca26"
             ],
             [
              1,
              "#f0f921"
             ]
            ],
            "type": "histogram2dcontour"
           }
          ],
          "mesh3d": [
           {
            "colorbar": {
             "outlinewidth": 0,
             "ticks": ""
            },
            "type": "mesh3d"
           }
          ],
          "parcoords": [
           {
            "line": {
             "colorbar": {
              "outlinewidth": 0,
              "ticks": ""
             }
            },
            "type": "parcoords"
           }
          ],
          "pie": [
           {
            "automargin": true,
            "type": "pie"
           }
          ],
          "scatter": [
           {
            "fillpattern": {
             "fillmode": "overlay",
             "size": 10,
             "solidity": 0.2
            },
            "type": "scatter"
           }
          ],
          "scatter3d": [
           {
            "line": {
             "colorbar": {
              "outlinewidth": 0,
              "ticks": ""
             }
            },
            "marker": {
             "colorbar": {
              "outlinewidth": 0,
              "ticks": ""
             }
            },
            "type": "scatter3d"
           }
          ],
          "scattercarpet": [
           {
            "marker": {
             "colorbar": {
              "outlinewidth": 0,
              "ticks": ""
             }
            },
            "type": "scattercarpet"
           }
          ],
          "scattergeo": [
           {
            "marker": {
             "colorbar": {
              "outlinewidth": 0,
              "ticks": ""
             }
            },
            "type": "scattergeo"
           }
          ],
          "scattergl": [
           {
            "marker": {
             "colorbar": {
              "outlinewidth": 0,
              "ticks": ""
             }
            },
            "type": "scattergl"
           }
          ],
          "scattermapbox": [
           {
            "marker": {
             "colorbar": {
              "outlinewidth": 0,
              "ticks": ""
             }
            },
            "type": "scattermapbox"
           }
          ],
          "scatterpolar": [
           {
            "marker": {
             "colorbar": {
              "outlinewidth": 0,
              "ticks": ""
             }
            },
            "type": "scatterpolar"
           }
          ],
          "scatterpolargl": [
           {
            "marker": {
             "colorbar": {
              "outlinewidth": 0,
              "ticks": ""
             }
            },
            "type": "scatterpolargl"
           }
          ],
          "scatterternary": [
           {
            "marker": {
             "colorbar": {
              "outlinewidth": 0,
              "ticks": ""
             }
            },
            "type": "scatterternary"
           }
          ],
          "surface": [
           {
            "colorbar": {
             "outlinewidth": 0,
             "ticks": ""
            },
            "colorscale": [
             [
              0,
              "#0d0887"
             ],
             [
              0.1111111111111111,
              "#46039f"
             ],
             [
              0.2222222222222222,
              "#7201a8"
             ],
             [
              0.3333333333333333,
              "#9c179e"
             ],
             [
              0.4444444444444444,
              "#bd3786"
             ],
             [
              0.5555555555555556,
              "#d8576b"
             ],
             [
              0.6666666666666666,
              "#ed7953"
             ],
             [
              0.7777777777777778,
              "#fb9f3a"
             ],
             [
              0.8888888888888888,
              "#fdca26"
             ],
             [
              1,
              "#f0f921"
             ]
            ],
            "type": "surface"
           }
          ],
          "table": [
           {
            "cells": {
             "fill": {
              "color": "#EBF0F8"
             },
             "line": {
              "color": "white"
             }
            },
            "header": {
             "fill": {
              "color": "#C8D4E3"
             },
             "line": {
              "color": "white"
             }
            },
            "type": "table"
           }
          ]
         },
         "layout": {
          "annotationdefaults": {
           "arrowcolor": "#2a3f5f",
           "arrowhead": 0,
           "arrowwidth": 1
          },
          "autotypenumbers": "strict",
          "coloraxis": {
           "colorbar": {
            "outlinewidth": 0,
            "ticks": ""
           }
          },
          "colorscale": {
           "diverging": [
            [
             0,
             "#8e0152"
            ],
            [
             0.1,
             "#c51b7d"
            ],
            [
             0.2,
             "#de77ae"
            ],
            [
             0.3,
             "#f1b6da"
            ],
            [
             0.4,
             "#fde0ef"
            ],
            [
             0.5,
             "#f7f7f7"
            ],
            [
             0.6,
             "#e6f5d0"
            ],
            [
             0.7,
             "#b8e186"
            ],
            [
             0.8,
             "#7fbc41"
            ],
            [
             0.9,
             "#4d9221"
            ],
            [
             1,
             "#276419"
            ]
           ],
           "sequential": [
            [
             0,
             "#0d0887"
            ],
            [
             0.1111111111111111,
             "#46039f"
            ],
            [
             0.2222222222222222,
             "#7201a8"
            ],
            [
             0.3333333333333333,
             "#9c179e"
            ],
            [
             0.4444444444444444,
             "#bd3786"
            ],
            [
             0.5555555555555556,
             "#d8576b"
            ],
            [
             0.6666666666666666,
             "#ed7953"
            ],
            [
             0.7777777777777778,
             "#fb9f3a"
            ],
            [
             0.8888888888888888,
             "#fdca26"
            ],
            [
             1,
             "#f0f921"
            ]
           ],
           "sequentialminus": [
            [
             0,
             "#0d0887"
            ],
            [
             0.1111111111111111,
             "#46039f"
            ],
            [
             0.2222222222222222,
             "#7201a8"
            ],
            [
             0.3333333333333333,
             "#9c179e"
            ],
            [
             0.4444444444444444,
             "#bd3786"
            ],
            [
             0.5555555555555556,
             "#d8576b"
            ],
            [
             0.6666666666666666,
             "#ed7953"
            ],
            [
             0.7777777777777778,
             "#fb9f3a"
            ],
            [
             0.8888888888888888,
             "#fdca26"
            ],
            [
             1,
             "#f0f921"
            ]
           ]
          },
          "colorway": [
           "#636efa",
           "#EF553B",
           "#00cc96",
           "#ab63fa",
           "#FFA15A",
           "#19d3f3",
           "#FF6692",
           "#B6E880",
           "#FF97FF",
           "#FECB52"
          ],
          "font": {
           "color": "#2a3f5f"
          },
          "geo": {
           "bgcolor": "white",
           "lakecolor": "white",
           "landcolor": "#E5ECF6",
           "showlakes": true,
           "showland": true,
           "subunitcolor": "white"
          },
          "hoverlabel": {
           "align": "left"
          },
          "hovermode": "closest",
          "mapbox": {
           "style": "light"
          },
          "paper_bgcolor": "white",
          "plot_bgcolor": "#E5ECF6",
          "polar": {
           "angularaxis": {
            "gridcolor": "white",
            "linecolor": "white",
            "ticks": ""
           },
           "bgcolor": "#E5ECF6",
           "radialaxis": {
            "gridcolor": "white",
            "linecolor": "white",
            "ticks": ""
           }
          },
          "scene": {
           "xaxis": {
            "backgroundcolor": "#E5ECF6",
            "gridcolor": "white",
            "gridwidth": 2,
            "linecolor": "white",
            "showbackground": true,
            "ticks": "",
            "zerolinecolor": "white"
           },
           "yaxis": {
            "backgroundcolor": "#E5ECF6",
            "gridcolor": "white",
            "gridwidth": 2,
            "linecolor": "white",
            "showbackground": true,
            "ticks": "",
            "zerolinecolor": "white"
           },
           "zaxis": {
            "backgroundcolor": "#E5ECF6",
            "gridcolor": "white",
            "gridwidth": 2,
            "linecolor": "white",
            "showbackground": true,
            "ticks": "",
            "zerolinecolor": "white"
           }
          },
          "shapedefaults": {
           "line": {
            "color": "#2a3f5f"
           }
          },
          "ternary": {
           "aaxis": {
            "gridcolor": "white",
            "linecolor": "white",
            "ticks": ""
           },
           "baxis": {
            "gridcolor": "white",
            "linecolor": "white",
            "ticks": ""
           },
           "bgcolor": "#E5ECF6",
           "caxis": {
            "gridcolor": "white",
            "linecolor": "white",
            "ticks": ""
           }
          },
          "title": {
           "x": 0.05
          },
          "xaxis": {
           "automargin": true,
           "gridcolor": "white",
           "linecolor": "white",
           "ticks": "",
           "title": {
            "standoff": 15
           },
           "zerolinecolor": "white",
           "zerolinewidth": 2
          },
          "yaxis": {
           "automargin": true,
           "gridcolor": "white",
           "linecolor": "white",
           "ticks": "",
           "title": {
            "standoff": 15
           },
           "zerolinecolor": "white",
           "zerolinewidth": 2
          }
         }
        },
        "xaxis": {
         "anchor": "y",
         "domain": [
          0,
          1
         ],
         "title": {
          "text": "index"
         }
        },
        "yaxis": {
         "anchor": "x",
         "domain": [
          0,
          1
         ],
         "title": {
          "text": "value"
         }
        }
       }
      },
      "text/html": [
       "<div>                            <div id=\"354c61ef-ab13-4bf2-93b2-883825c4f522\" class=\"plotly-graph-div\" style=\"height:525px; width:100%;\"></div>            <script type=\"text/javascript\">                require([\"plotly\"], function(Plotly) {                    window.PLOTLYENV=window.PLOTLYENV || {};                                    if (document.getElementById(\"354c61ef-ab13-4bf2-93b2-883825c4f522\")) {                    Plotly.newPlot(                        \"354c61ef-ab13-4bf2-93b2-883825c4f522\",                        [{\"hovertemplate\":\"variable=wide_variable_0<br>index=%{x}<br>value=%{y}<extra></extra>\",\"legendgroup\":\"wide_variable_0\",\"line\":{\"color\":\"#636efa\",\"dash\":\"solid\"},\"marker\":{\"symbol\":\"circle\"},\"mode\":\"lines\",\"name\":\"wide_variable_0\",\"orientation\":\"v\",\"showlegend\":true,\"x\":[0,1,2,3,4,5,6,7,8,9,10,11,12,13,14,15,16,17,18,19,20,21,22,23,24,25,26,27,28,29,30,31,32,33,34,35,36,37,38,39,40,41,42,43,44,45,46,47,48,49,50,51,52,53,54,55,56,57,58,59,60,61,62,63,64,65,66,67,68,69,70,71,72,73,74,75,76,77,78,79,80,81,82,83,84,85,86,87,88,89,90,91,92,93,94,95,96,97,98],\"xaxis\":\"x\",\"y\":[63113.29932497931,74177.95796091203,74071.4047920939,36921.564326100284,68269.82013083529,64217.40317317494,64110.35159128695,77091.05309217493,71837.97367015504,72537.83642774355,60454.98801826453,36514.76785947662,72373.2786438549,57749.627044474706,69360.93385494081,73354.64779957873,48950.44051886606,41238.552828052314,74698.55747678434,86215.59760817722,41515.14207657194,68377.70037668734,67743.14333542297,70673.98461948638,70996.77910578926,69246.8543911567,68235.58818235621,70465.89147684397,38165.773530029925,31549.14765235083,58065.0404510519,69085.97515584202,71801.649243742,58151.64956036606,68809.71885374282,56272.443734352244,56774.52141438355,78425.77236874378,67132.81859390833,78537.12116076122,38089.36962645594,76251.48113690689,69165.27736083069,77044.62754459912,64423.46801347798,77280.07790629519,64519.47467236663,61179.93305593752,56742.6139720818,67393.6268978368,64304.99896563869,73836.36685012351,62873.312839622144,58994.426303257234,71994.38716425863,65201.30433582864,63126.46515584085,73404.25184121192,63696.15897454717,72934.2099504557,71731.45049659046,70535.43055658578,52603.75650377991,73613.25241900841,76600.44094793056,37847.291381034534,80246.89835901512,68552.3209123686,68892.0653678996,63865.43783995835,66482.70434265118,38891.998145955615,61567.774666396435,61916.33540711482,65162.71998749394,71553.31928134128,67398.44326735428,81628.30593450344,51366.97978810454,54609.54140229453,41622.71114873304,63531.52616188652,69151.58590046293,73403.61625831388,64921.9495140966,70903.38564591343,36376.4755155372,63186.48464320833,38478.54910803842,44050.34203626681,42241.45807933947,73312.56934782257,78275.1995688742,60435.93353321636,42416.50289653777,60599.55535521591,73559.81812070962,71392.44912756793,75515.17413399857],\"yaxis\":\"y\",\"type\":\"scatter\"},{\"hovertemplate\":\"variable=wide_variable_1<br>index=%{x}<br>value=%{y}<extra></extra>\",\"legendgroup\":\"wide_variable_1\",\"line\":{\"color\":\"#EF553B\",\"dash\":\"solid\"},\"marker\":{\"symbol\":\"circle\"},\"mode\":\"lines\",\"name\":\"wide_variable_1\",\"orientation\":\"v\",\"showlegend\":true,\"x\":[0,1,2,3,4,5,6,7,8,9,10,11,12,13,14,15,16,17,18,19,20,21,22,23,24,25,26,27,28,29,30,31,32,33,34,35,36,37,38,39,40,41,42,43,44,45,46,47,48,49,50,51,52,53,54,55,56,57,58,59,60,61,62,63,64,65,66,67,68,69,70,71,72,73,74,75,76,77,78,79,80,81,82,83,84,85,86,87,88,89,90,91,92,93,94,95,96,97,98],\"xaxis\":\"x\",\"y\":[88748.0,73831.0,74297.0,28745.0,81720.0,70019.0,71914.0,71069.0,78299.0,71196.0,75382.0,35642.0,75175.0,65704.0,65898.0,77277.0,50511.0,29496.0,72873.0,79836.0,35516.0,70263.0,74304.0,63754.0,74231.0,63670.0,86188.0,74503.0,32894.0,35333.0,61654.0,64157.0,80565.0,74389.0,73439.0,61863.0,58561.0,71069.0,67681.0,76746.0,24888.0,83880.0,69897.0,71528.0,72567.0,88924.0,74817.0,64368.0,56559.0,69154.0,60157.0,79833.0,63042.0,74354.0,87478.0,65466.0,73016.0,81535.0,65418.0,73323.0,62725.0,69211.0,37216.0,69814.0,74830.0,23744.0,76324.0,60861.0,74497.0,69603.0,72067.0,27223.0,69640.0,57104.0,75876.0,84794.0,72243.0,78188.0,53163.0,41390.0,30172.0,60946.0,62141.0,71299.0,69711.0,65763.0,29652.0,66577.0,34375.0,39335.0,39691.0,71437.0,84878.0,64425.0,26401.0,76418.0,71158.0,78602.0,68128.0],\"yaxis\":\"y\",\"type\":\"scatter\"}],                        {\"template\":{\"data\":{\"histogram2dcontour\":[{\"type\":\"histogram2dcontour\",\"colorbar\":{\"outlinewidth\":0,\"ticks\":\"\"},\"colorscale\":[[0.0,\"#0d0887\"],[0.1111111111111111,\"#46039f\"],[0.2222222222222222,\"#7201a8\"],[0.3333333333333333,\"#9c179e\"],[0.4444444444444444,\"#bd3786\"],[0.5555555555555556,\"#d8576b\"],[0.6666666666666666,\"#ed7953\"],[0.7777777777777778,\"#fb9f3a\"],[0.8888888888888888,\"#fdca26\"],[1.0,\"#f0f921\"]]}],\"choropleth\":[{\"type\":\"choropleth\",\"colorbar\":{\"outlinewidth\":0,\"ticks\":\"\"}}],\"histogram2d\":[{\"type\":\"histogram2d\",\"colorbar\":{\"outlinewidth\":0,\"ticks\":\"\"},\"colorscale\":[[0.0,\"#0d0887\"],[0.1111111111111111,\"#46039f\"],[0.2222222222222222,\"#7201a8\"],[0.3333333333333333,\"#9c179e\"],[0.4444444444444444,\"#bd3786\"],[0.5555555555555556,\"#d8576b\"],[0.6666666666666666,\"#ed7953\"],[0.7777777777777778,\"#fb9f3a\"],[0.8888888888888888,\"#fdca26\"],[1.0,\"#f0f921\"]]}],\"heatmap\":[{\"type\":\"heatmap\",\"colorbar\":{\"outlinewidth\":0,\"ticks\":\"\"},\"colorscale\":[[0.0,\"#0d0887\"],[0.1111111111111111,\"#46039f\"],[0.2222222222222222,\"#7201a8\"],[0.3333333333333333,\"#9c179e\"],[0.4444444444444444,\"#bd3786\"],[0.5555555555555556,\"#d8576b\"],[0.6666666666666666,\"#ed7953\"],[0.7777777777777778,\"#fb9f3a\"],[0.8888888888888888,\"#fdca26\"],[1.0,\"#f0f921\"]]}],\"heatmapgl\":[{\"type\":\"heatmapgl\",\"colorbar\":{\"outlinewidth\":0,\"ticks\":\"\"},\"colorscale\":[[0.0,\"#0d0887\"],[0.1111111111111111,\"#46039f\"],[0.2222222222222222,\"#7201a8\"],[0.3333333333333333,\"#9c179e\"],[0.4444444444444444,\"#bd3786\"],[0.5555555555555556,\"#d8576b\"],[0.6666666666666666,\"#ed7953\"],[0.7777777777777778,\"#fb9f3a\"],[0.8888888888888888,\"#fdca26\"],[1.0,\"#f0f921\"]]}],\"contourcarpet\":[{\"type\":\"contourcarpet\",\"colorbar\":{\"outlinewidth\":0,\"ticks\":\"\"}}],\"contour\":[{\"type\":\"contour\",\"colorbar\":{\"outlinewidth\":0,\"ticks\":\"\"},\"colorscale\":[[0.0,\"#0d0887\"],[0.1111111111111111,\"#46039f\"],[0.2222222222222222,\"#7201a8\"],[0.3333333333333333,\"#9c179e\"],[0.4444444444444444,\"#bd3786\"],[0.5555555555555556,\"#d8576b\"],[0.6666666666666666,\"#ed7953\"],[0.7777777777777778,\"#fb9f3a\"],[0.8888888888888888,\"#fdca26\"],[1.0,\"#f0f921\"]]}],\"surface\":[{\"type\":\"surface\",\"colorbar\":{\"outlinewidth\":0,\"ticks\":\"\"},\"colorscale\":[[0.0,\"#0d0887\"],[0.1111111111111111,\"#46039f\"],[0.2222222222222222,\"#7201a8\"],[0.3333333333333333,\"#9c179e\"],[0.4444444444444444,\"#bd3786\"],[0.5555555555555556,\"#d8576b\"],[0.6666666666666666,\"#ed7953\"],[0.7777777777777778,\"#fb9f3a\"],[0.8888888888888888,\"#fdca26\"],[1.0,\"#f0f921\"]]}],\"mesh3d\":[{\"type\":\"mesh3d\",\"colorbar\":{\"outlinewidth\":0,\"ticks\":\"\"}}],\"scatter\":[{\"fillpattern\":{\"fillmode\":\"overlay\",\"size\":10,\"solidity\":0.2},\"type\":\"scatter\"}],\"parcoords\":[{\"type\":\"parcoords\",\"line\":{\"colorbar\":{\"outlinewidth\":0,\"ticks\":\"\"}}}],\"scatterpolargl\":[{\"type\":\"scatterpolargl\",\"marker\":{\"colorbar\":{\"outlinewidth\":0,\"ticks\":\"\"}}}],\"bar\":[{\"error_x\":{\"color\":\"#2a3f5f\"},\"error_y\":{\"color\":\"#2a3f5f\"},\"marker\":{\"line\":{\"color\":\"#E5ECF6\",\"width\":0.5},\"pattern\":{\"fillmode\":\"overlay\",\"size\":10,\"solidity\":0.2}},\"type\":\"bar\"}],\"scattergeo\":[{\"type\":\"scattergeo\",\"marker\":{\"colorbar\":{\"outlinewidth\":0,\"ticks\":\"\"}}}],\"scatterpolar\":[{\"type\":\"scatterpolar\",\"marker\":{\"colorbar\":{\"outlinewidth\":0,\"ticks\":\"\"}}}],\"histogram\":[{\"marker\":{\"pattern\":{\"fillmode\":\"overlay\",\"size\":10,\"solidity\":0.2}},\"type\":\"histogram\"}],\"scattergl\":[{\"type\":\"scattergl\",\"marker\":{\"colorbar\":{\"outlinewidth\":0,\"ticks\":\"\"}}}],\"scatter3d\":[{\"type\":\"scatter3d\",\"line\":{\"colorbar\":{\"outlinewidth\":0,\"ticks\":\"\"}},\"marker\":{\"colorbar\":{\"outlinewidth\":0,\"ticks\":\"\"}}}],\"scattermapbox\":[{\"type\":\"scattermapbox\",\"marker\":{\"colorbar\":{\"outlinewidth\":0,\"ticks\":\"\"}}}],\"scatterternary\":[{\"type\":\"scatterternary\",\"marker\":{\"colorbar\":{\"outlinewidth\":0,\"ticks\":\"\"}}}],\"scattercarpet\":[{\"type\":\"scattercarpet\",\"marker\":{\"colorbar\":{\"outlinewidth\":0,\"ticks\":\"\"}}}],\"carpet\":[{\"aaxis\":{\"endlinecolor\":\"#2a3f5f\",\"gridcolor\":\"white\",\"linecolor\":\"white\",\"minorgridcolor\":\"white\",\"startlinecolor\":\"#2a3f5f\"},\"baxis\":{\"endlinecolor\":\"#2a3f5f\",\"gridcolor\":\"white\",\"linecolor\":\"white\",\"minorgridcolor\":\"white\",\"startlinecolor\":\"#2a3f5f\"},\"type\":\"carpet\"}],\"table\":[{\"cells\":{\"fill\":{\"color\":\"#EBF0F8\"},\"line\":{\"color\":\"white\"}},\"header\":{\"fill\":{\"color\":\"#C8D4E3\"},\"line\":{\"color\":\"white\"}},\"type\":\"table\"}],\"barpolar\":[{\"marker\":{\"line\":{\"color\":\"#E5ECF6\",\"width\":0.5},\"pattern\":{\"fillmode\":\"overlay\",\"size\":10,\"solidity\":0.2}},\"type\":\"barpolar\"}],\"pie\":[{\"automargin\":true,\"type\":\"pie\"}]},\"layout\":{\"autotypenumbers\":\"strict\",\"colorway\":[\"#636efa\",\"#EF553B\",\"#00cc96\",\"#ab63fa\",\"#FFA15A\",\"#19d3f3\",\"#FF6692\",\"#B6E880\",\"#FF97FF\",\"#FECB52\"],\"font\":{\"color\":\"#2a3f5f\"},\"hovermode\":\"closest\",\"hoverlabel\":{\"align\":\"left\"},\"paper_bgcolor\":\"white\",\"plot_bgcolor\":\"#E5ECF6\",\"polar\":{\"bgcolor\":\"#E5ECF6\",\"angularaxis\":{\"gridcolor\":\"white\",\"linecolor\":\"white\",\"ticks\":\"\"},\"radialaxis\":{\"gridcolor\":\"white\",\"linecolor\":\"white\",\"ticks\":\"\"}},\"ternary\":{\"bgcolor\":\"#E5ECF6\",\"aaxis\":{\"gridcolor\":\"white\",\"linecolor\":\"white\",\"ticks\":\"\"},\"baxis\":{\"gridcolor\":\"white\",\"linecolor\":\"white\",\"ticks\":\"\"},\"caxis\":{\"gridcolor\":\"white\",\"linecolor\":\"white\",\"ticks\":\"\"}},\"coloraxis\":{\"colorbar\":{\"outlinewidth\":0,\"ticks\":\"\"}},\"colorscale\":{\"sequential\":[[0.0,\"#0d0887\"],[0.1111111111111111,\"#46039f\"],[0.2222222222222222,\"#7201a8\"],[0.3333333333333333,\"#9c179e\"],[0.4444444444444444,\"#bd3786\"],[0.5555555555555556,\"#d8576b\"],[0.6666666666666666,\"#ed7953\"],[0.7777777777777778,\"#fb9f3a\"],[0.8888888888888888,\"#fdca26\"],[1.0,\"#f0f921\"]],\"sequentialminus\":[[0.0,\"#0d0887\"],[0.1111111111111111,\"#46039f\"],[0.2222222222222222,\"#7201a8\"],[0.3333333333333333,\"#9c179e\"],[0.4444444444444444,\"#bd3786\"],[0.5555555555555556,\"#d8576b\"],[0.6666666666666666,\"#ed7953\"],[0.7777777777777778,\"#fb9f3a\"],[0.8888888888888888,\"#fdca26\"],[1.0,\"#f0f921\"]],\"diverging\":[[0,\"#8e0152\"],[0.1,\"#c51b7d\"],[0.2,\"#de77ae\"],[0.3,\"#f1b6da\"],[0.4,\"#fde0ef\"],[0.5,\"#f7f7f7\"],[0.6,\"#e6f5d0\"],[0.7,\"#b8e186\"],[0.8,\"#7fbc41\"],[0.9,\"#4d9221\"],[1,\"#276419\"]]},\"xaxis\":{\"gridcolor\":\"white\",\"linecolor\":\"white\",\"ticks\":\"\",\"title\":{\"standoff\":15},\"zerolinecolor\":\"white\",\"automargin\":true,\"zerolinewidth\":2},\"yaxis\":{\"gridcolor\":\"white\",\"linecolor\":\"white\",\"ticks\":\"\",\"title\":{\"standoff\":15},\"zerolinecolor\":\"white\",\"automargin\":true,\"zerolinewidth\":2},\"scene\":{\"xaxis\":{\"backgroundcolor\":\"#E5ECF6\",\"gridcolor\":\"white\",\"linecolor\":\"white\",\"showbackground\":true,\"ticks\":\"\",\"zerolinecolor\":\"white\",\"gridwidth\":2},\"yaxis\":{\"backgroundcolor\":\"#E5ECF6\",\"gridcolor\":\"white\",\"linecolor\":\"white\",\"showbackground\":true,\"ticks\":\"\",\"zerolinecolor\":\"white\",\"gridwidth\":2},\"zaxis\":{\"backgroundcolor\":\"#E5ECF6\",\"gridcolor\":\"white\",\"linecolor\":\"white\",\"showbackground\":true,\"ticks\":\"\",\"zerolinecolor\":\"white\",\"gridwidth\":2}},\"shapedefaults\":{\"line\":{\"color\":\"#2a3f5f\"}},\"annotationdefaults\":{\"arrowcolor\":\"#2a3f5f\",\"arrowhead\":0,\"arrowwidth\":1},\"geo\":{\"bgcolor\":\"white\",\"landcolor\":\"#E5ECF6\",\"subunitcolor\":\"white\",\"showland\":true,\"showlakes\":true,\"lakecolor\":\"white\"},\"title\":{\"x\":0.05},\"mapbox\":{\"style\":\"light\"}}},\"xaxis\":{\"anchor\":\"y\",\"domain\":[0.0,1.0],\"title\":{\"text\":\"index\"}},\"yaxis\":{\"anchor\":\"x\",\"domain\":[0.0,1.0],\"title\":{\"text\":\"value\"}},\"legend\":{\"title\":{\"text\":\"variable\"},\"tracegroupgap\":0},\"margin\":{\"t\":60}},                        {\"responsive\": true}                    ).then(function(){\n",
       "                            \n",
       "var gd = document.getElementById('354c61ef-ab13-4bf2-93b2-883825c4f522');\n",
       "var x = new MutationObserver(function (mutations, observer) {{\n",
       "        var display = window.getComputedStyle(gd).display;\n",
       "        if (!display || display === 'none') {{\n",
       "            console.log([gd, 'removed!']);\n",
       "            Plotly.purge(gd);\n",
       "            observer.disconnect();\n",
       "        }}\n",
       "}});\n",
       "\n",
       "// Listen for the removal of the full notebook cells\n",
       "var notebookContainer = gd.closest('#notebook-container');\n",
       "if (notebookContainer) {{\n",
       "    x.observe(notebookContainer, {childList: true});\n",
       "}}\n",
       "\n",
       "// Listen for the clearing of the current output cell\n",
       "var outputEl = gd.closest('.output');\n",
       "if (outputEl) {{\n",
       "    x.observe(outputEl, {childList: true});\n",
       "}}\n",
       "\n",
       "                        })                };                });            </script>        </div>"
      ]
     },
     "metadata": {},
     "output_type": "display_data"
    }
   ],
   "source": [
    "#Visualing Results\n",
    "fig = px.line( y=[y_pred,y_test])\n",
    "fig.show()"
   ]
  },
  {
   "cell_type": "markdown",
   "id": "2f3769ba",
   "metadata": {},
   "source": [
    "## Decision Tree Regression ##"
   ]
  },
  {
   "cell_type": "code",
   "execution_count": 118,
   "id": "00bb819e",
   "metadata": {},
   "outputs": [],
   "source": [
    "from sklearn.tree import DecisionTreeRegressor"
   ]
  },
  {
   "cell_type": "code",
   "execution_count": 119,
   "id": "e3653dd8",
   "metadata": {},
   "outputs": [],
   "source": [
    "x_train,x_test,y_train,y_test=train_test_split(data[['Week_day','Temperature','Tirupati',\n",
    "       'Tirumala','Review','VIP darshan','Timestamp','tirumala darshan','Festivals',]],data['Piligrims'],test_size=0.27,random_state=3)"
   ]
  },
  {
   "cell_type": "code",
   "execution_count": 120,
   "id": "288c5741",
   "metadata": {},
   "outputs": [
    {
     "data": {
      "text/plain": [
       "DecisionTreeRegressor()"
      ]
     },
     "execution_count": 120,
     "metadata": {},
     "output_type": "execute_result"
    }
   ],
   "source": [
    "#Training Model\n",
    "model3=DecisionTreeRegressor()\n",
    "model3.fit(x_train,y_train)"
   ]
  },
  {
   "cell_type": "code",
   "execution_count": 121,
   "id": "be949469",
   "metadata": {},
   "outputs": [
    {
     "data": {
      "text/plain": [
       "0.7825208179086272"
      ]
     },
     "execution_count": 121,
     "metadata": {},
     "output_type": "execute_result"
    }
   ],
   "source": [
    "model3.score(x_test,y_test)"
   ]
  },
  {
   "cell_type": "code",
   "execution_count": 122,
   "id": "53af3c65",
   "metadata": {},
   "outputs": [
    {
     "name": "stdout",
     "output_type": "stream",
     "text": [
      "R2_Score: 0.7825208179086272\n",
      "Mean_Squared_Error: 58925607.07070707\n",
      "Mean Absolute Error: 5357.292929292929\n"
     ]
    }
   ],
   "source": [
    "#Model Evalution\n",
    "y_pred=model3.predict(x_test)\n",
    "print('R2_Score:',r2_score(y_test,y_pred))\n",
    "print('Mean_Squared_Error:',mean_squared_error(y_test,y_pred))\n",
    "print('Mean Absolute Error:',mean_absolute_error(y_test,y_pred))  "
   ]
  },
  {
   "cell_type": "code",
   "execution_count": 123,
   "id": "d8e961eb",
   "metadata": {},
   "outputs": [
    {
     "data": {
      "application/vnd.plotly.v1+json": {
       "config": {
        "plotlyServerURL": "https://plot.ly"
       },
       "data": [
        {
         "hovertemplate": "variable=wide_variable_0<br>index=%{x}<br>value=%{y}<extra></extra>",
         "legendgroup": "wide_variable_0",
         "line": {
          "color": "#636efa",
          "dash": "solid"
         },
         "marker": {
          "symbol": "circle"
         },
         "mode": "lines",
         "name": "wide_variable_0",
         "orientation": "v",
         "showlegend": true,
         "type": "scatter",
         "x": [
          0,
          1,
          2,
          3,
          4,
          5,
          6,
          7,
          8,
          9,
          10,
          11,
          12,
          13,
          14,
          15,
          16,
          17,
          18,
          19,
          20,
          21,
          22,
          23,
          24,
          25,
          26,
          27,
          28,
          29,
          30,
          31,
          32,
          33,
          34,
          35,
          36,
          37,
          38,
          39,
          40,
          41,
          42,
          43,
          44,
          45,
          46,
          47,
          48,
          49,
          50,
          51,
          52,
          53,
          54,
          55,
          56,
          57,
          58,
          59,
          60,
          61,
          62,
          63,
          64,
          65,
          66,
          67,
          68,
          69,
          70,
          71,
          72,
          73,
          74,
          75,
          76,
          77,
          78,
          79,
          80,
          81,
          82,
          83,
          84,
          85,
          86,
          87,
          88,
          89,
          90,
          91,
          92,
          93,
          94,
          95,
          96,
          97,
          98
         ],
         "xaxis": "x",
         "y": [
          82722,
          70848,
          81287,
          27446,
          84885,
          75400,
          75345,
          71069,
          84211,
          76425,
          60946,
          37304,
          68467,
          62925,
          72195,
          58747,
          46172,
          29026,
          68873,
          83422,
          32894,
          61304,
          72195,
          67950,
          67425,
          74094,
          70848,
          71589,
          33737,
          33971,
          61982,
          67858,
          80294,
          75759,
          71589,
          61654,
          59086,
          80001,
          82722,
          75438,
          27536,
          71450,
          72265,
          72466,
          65725,
          86793,
          51308,
          61620,
          55532,
          62001,
          66946,
          79525,
          61620,
          68995,
          90165,
          61731,
          72758,
          79471,
          61620,
          79471,
          25549,
          66946,
          38000,
          61304,
          80815,
          32044,
          71167,
          74094,
          68467,
          61087,
          72851,
          27446,
          65568,
          74412,
          84885,
          70848,
          72216,
          84885,
          46172,
          41463,
          32894,
          65470,
          68982,
          63253,
          64986,
          60790,
          32242,
          61620,
          37304,
          35584,
          31794,
          72195,
          81130,
          61224,
          27536,
          68873,
          79525,
          79103,
          58747
         ],
         "yaxis": "y"
        },
        {
         "hovertemplate": "variable=wide_variable_1<br>index=%{x}<br>value=%{y}<extra></extra>",
         "legendgroup": "wide_variable_1",
         "line": {
          "color": "#EF553B",
          "dash": "solid"
         },
         "marker": {
          "symbol": "circle"
         },
         "mode": "lines",
         "name": "wide_variable_1",
         "orientation": "v",
         "showlegend": true,
         "type": "scatter",
         "x": [
          0,
          1,
          2,
          3,
          4,
          5,
          6,
          7,
          8,
          9,
          10,
          11,
          12,
          13,
          14,
          15,
          16,
          17,
          18,
          19,
          20,
          21,
          22,
          23,
          24,
          25,
          26,
          27,
          28,
          29,
          30,
          31,
          32,
          33,
          34,
          35,
          36,
          37,
          38,
          39,
          40,
          41,
          42,
          43,
          44,
          45,
          46,
          47,
          48,
          49,
          50,
          51,
          52,
          53,
          54,
          55,
          56,
          57,
          58,
          59,
          60,
          61,
          62,
          63,
          64,
          65,
          66,
          67,
          68,
          69,
          70,
          71,
          72,
          73,
          74,
          75,
          76,
          77,
          78,
          79,
          80,
          81,
          82,
          83,
          84,
          85,
          86,
          87,
          88,
          89,
          90,
          91,
          92,
          93,
          94,
          95,
          96,
          97,
          98
         ],
         "xaxis": "x",
         "y": [
          88748,
          73831,
          74297,
          28745,
          81720,
          70019,
          71914,
          71069,
          78299,
          71196,
          75382,
          35642,
          75175,
          65704,
          65898,
          77277,
          50511,
          29496,
          72873,
          79836,
          35516,
          70263,
          74304,
          63754,
          74231,
          63670,
          86188,
          74503,
          32894,
          35333,
          61654,
          64157,
          80565,
          74389,
          73439,
          61863,
          58561,
          71069,
          67681,
          76746,
          24888,
          83880,
          69897,
          71528,
          72567,
          88924,
          74817,
          64368,
          56559,
          69154,
          60157,
          79833,
          63042,
          74354,
          87478,
          65466,
          73016,
          81535,
          65418,
          73323,
          62725,
          69211,
          37216,
          69814,
          74830,
          23744,
          76324,
          60861,
          74497,
          69603,
          72067,
          27223,
          69640,
          57104,
          75876,
          84794,
          72243,
          78188,
          53163,
          41390,
          30172,
          60946,
          62141,
          71299,
          69711,
          65763,
          29652,
          66577,
          34375,
          39335,
          39691,
          71437,
          84878,
          64425,
          26401,
          76418,
          71158,
          78602,
          68128
         ],
         "yaxis": "y"
        }
       ],
       "layout": {
        "legend": {
         "title": {
          "text": "variable"
         },
         "tracegroupgap": 0
        },
        "margin": {
         "t": 60
        },
        "template": {
         "data": {
          "bar": [
           {
            "error_x": {
             "color": "#2a3f5f"
            },
            "error_y": {
             "color": "#2a3f5f"
            },
            "marker": {
             "line": {
              "color": "#E5ECF6",
              "width": 0.5
             },
             "pattern": {
              "fillmode": "overlay",
              "size": 10,
              "solidity": 0.2
             }
            },
            "type": "bar"
           }
          ],
          "barpolar": [
           {
            "marker": {
             "line": {
              "color": "#E5ECF6",
              "width": 0.5
             },
             "pattern": {
              "fillmode": "overlay",
              "size": 10,
              "solidity": 0.2
             }
            },
            "type": "barpolar"
           }
          ],
          "carpet": [
           {
            "aaxis": {
             "endlinecolor": "#2a3f5f",
             "gridcolor": "white",
             "linecolor": "white",
             "minorgridcolor": "white",
             "startlinecolor": "#2a3f5f"
            },
            "baxis": {
             "endlinecolor": "#2a3f5f",
             "gridcolor": "white",
             "linecolor": "white",
             "minorgridcolor": "white",
             "startlinecolor": "#2a3f5f"
            },
            "type": "carpet"
           }
          ],
          "choropleth": [
           {
            "colorbar": {
             "outlinewidth": 0,
             "ticks": ""
            },
            "type": "choropleth"
           }
          ],
          "contour": [
           {
            "colorbar": {
             "outlinewidth": 0,
             "ticks": ""
            },
            "colorscale": [
             [
              0,
              "#0d0887"
             ],
             [
              0.1111111111111111,
              "#46039f"
             ],
             [
              0.2222222222222222,
              "#7201a8"
             ],
             [
              0.3333333333333333,
              "#9c179e"
             ],
             [
              0.4444444444444444,
              "#bd3786"
             ],
             [
              0.5555555555555556,
              "#d8576b"
             ],
             [
              0.6666666666666666,
              "#ed7953"
             ],
             [
              0.7777777777777778,
              "#fb9f3a"
             ],
             [
              0.8888888888888888,
              "#fdca26"
             ],
             [
              1,
              "#f0f921"
             ]
            ],
            "type": "contour"
           }
          ],
          "contourcarpet": [
           {
            "colorbar": {
             "outlinewidth": 0,
             "ticks": ""
            },
            "type": "contourcarpet"
           }
          ],
          "heatmap": [
           {
            "colorbar": {
             "outlinewidth": 0,
             "ticks": ""
            },
            "colorscale": [
             [
              0,
              "#0d0887"
             ],
             [
              0.1111111111111111,
              "#46039f"
             ],
             [
              0.2222222222222222,
              "#7201a8"
             ],
             [
              0.3333333333333333,
              "#9c179e"
             ],
             [
              0.4444444444444444,
              "#bd3786"
             ],
             [
              0.5555555555555556,
              "#d8576b"
             ],
             [
              0.6666666666666666,
              "#ed7953"
             ],
             [
              0.7777777777777778,
              "#fb9f3a"
             ],
             [
              0.8888888888888888,
              "#fdca26"
             ],
             [
              1,
              "#f0f921"
             ]
            ],
            "type": "heatmap"
           }
          ],
          "heatmapgl": [
           {
            "colorbar": {
             "outlinewidth": 0,
             "ticks": ""
            },
            "colorscale": [
             [
              0,
              "#0d0887"
             ],
             [
              0.1111111111111111,
              "#46039f"
             ],
             [
              0.2222222222222222,
              "#7201a8"
             ],
             [
              0.3333333333333333,
              "#9c179e"
             ],
             [
              0.4444444444444444,
              "#bd3786"
             ],
             [
              0.5555555555555556,
              "#d8576b"
             ],
             [
              0.6666666666666666,
              "#ed7953"
             ],
             [
              0.7777777777777778,
              "#fb9f3a"
             ],
             [
              0.8888888888888888,
              "#fdca26"
             ],
             [
              1,
              "#f0f921"
             ]
            ],
            "type": "heatmapgl"
           }
          ],
          "histogram": [
           {
            "marker": {
             "pattern": {
              "fillmode": "overlay",
              "size": 10,
              "solidity": 0.2
             }
            },
            "type": "histogram"
           }
          ],
          "histogram2d": [
           {
            "colorbar": {
             "outlinewidth": 0,
             "ticks": ""
            },
            "colorscale": [
             [
              0,
              "#0d0887"
             ],
             [
              0.1111111111111111,
              "#46039f"
             ],
             [
              0.2222222222222222,
              "#7201a8"
             ],
             [
              0.3333333333333333,
              "#9c179e"
             ],
             [
              0.4444444444444444,
              "#bd3786"
             ],
             [
              0.5555555555555556,
              "#d8576b"
             ],
             [
              0.6666666666666666,
              "#ed7953"
             ],
             [
              0.7777777777777778,
              "#fb9f3a"
             ],
             [
              0.8888888888888888,
              "#fdca26"
             ],
             [
              1,
              "#f0f921"
             ]
            ],
            "type": "histogram2d"
           }
          ],
          "histogram2dcontour": [
           {
            "colorbar": {
             "outlinewidth": 0,
             "ticks": ""
            },
            "colorscale": [
             [
              0,
              "#0d0887"
             ],
             [
              0.1111111111111111,
              "#46039f"
             ],
             [
              0.2222222222222222,
              "#7201a8"
             ],
             [
              0.3333333333333333,
              "#9c179e"
             ],
             [
              0.4444444444444444,
              "#bd3786"
             ],
             [
              0.5555555555555556,
              "#d8576b"
             ],
             [
              0.6666666666666666,
              "#ed7953"
             ],
             [
              0.7777777777777778,
              "#fb9f3a"
             ],
             [
              0.8888888888888888,
              "#fdca26"
             ],
             [
              1,
              "#f0f921"
             ]
            ],
            "type": "histogram2dcontour"
           }
          ],
          "mesh3d": [
           {
            "colorbar": {
             "outlinewidth": 0,
             "ticks": ""
            },
            "type": "mesh3d"
           }
          ],
          "parcoords": [
           {
            "line": {
             "colorbar": {
              "outlinewidth": 0,
              "ticks": ""
             }
            },
            "type": "parcoords"
           }
          ],
          "pie": [
           {
            "automargin": true,
            "type": "pie"
           }
          ],
          "scatter": [
           {
            "fillpattern": {
             "fillmode": "overlay",
             "size": 10,
             "solidity": 0.2
            },
            "type": "scatter"
           }
          ],
          "scatter3d": [
           {
            "line": {
             "colorbar": {
              "outlinewidth": 0,
              "ticks": ""
             }
            },
            "marker": {
             "colorbar": {
              "outlinewidth": 0,
              "ticks": ""
             }
            },
            "type": "scatter3d"
           }
          ],
          "scattercarpet": [
           {
            "marker": {
             "colorbar": {
              "outlinewidth": 0,
              "ticks": ""
             }
            },
            "type": "scattercarpet"
           }
          ],
          "scattergeo": [
           {
            "marker": {
             "colorbar": {
              "outlinewidth": 0,
              "ticks": ""
             }
            },
            "type": "scattergeo"
           }
          ],
          "scattergl": [
           {
            "marker": {
             "colorbar": {
              "outlinewidth": 0,
              "ticks": ""
             }
            },
            "type": "scattergl"
           }
          ],
          "scattermapbox": [
           {
            "marker": {
             "colorbar": {
              "outlinewidth": 0,
              "ticks": ""
             }
            },
            "type": "scattermapbox"
           }
          ],
          "scatterpolar": [
           {
            "marker": {
             "colorbar": {
              "outlinewidth": 0,
              "ticks": ""
             }
            },
            "type": "scatterpolar"
           }
          ],
          "scatterpolargl": [
           {
            "marker": {
             "colorbar": {
              "outlinewidth": 0,
              "ticks": ""
             }
            },
            "type": "scatterpolargl"
           }
          ],
          "scatterternary": [
           {
            "marker": {
             "colorbar": {
              "outlinewidth": 0,
              "ticks": ""
             }
            },
            "type": "scatterternary"
           }
          ],
          "surface": [
           {
            "colorbar": {
             "outlinewidth": 0,
             "ticks": ""
            },
            "colorscale": [
             [
              0,
              "#0d0887"
             ],
             [
              0.1111111111111111,
              "#46039f"
             ],
             [
              0.2222222222222222,
              "#7201a8"
             ],
             [
              0.3333333333333333,
              "#9c179e"
             ],
             [
              0.4444444444444444,
              "#bd3786"
             ],
             [
              0.5555555555555556,
              "#d8576b"
             ],
             [
              0.6666666666666666,
              "#ed7953"
             ],
             [
              0.7777777777777778,
              "#fb9f3a"
             ],
             [
              0.8888888888888888,
              "#fdca26"
             ],
             [
              1,
              "#f0f921"
             ]
            ],
            "type": "surface"
           }
          ],
          "table": [
           {
            "cells": {
             "fill": {
              "color": "#EBF0F8"
             },
             "line": {
              "color": "white"
             }
            },
            "header": {
             "fill": {
              "color": "#C8D4E3"
             },
             "line": {
              "color": "white"
             }
            },
            "type": "table"
           }
          ]
         },
         "layout": {
          "annotationdefaults": {
           "arrowcolor": "#2a3f5f",
           "arrowhead": 0,
           "arrowwidth": 1
          },
          "autotypenumbers": "strict",
          "coloraxis": {
           "colorbar": {
            "outlinewidth": 0,
            "ticks": ""
           }
          },
          "colorscale": {
           "diverging": [
            [
             0,
             "#8e0152"
            ],
            [
             0.1,
             "#c51b7d"
            ],
            [
             0.2,
             "#de77ae"
            ],
            [
             0.3,
             "#f1b6da"
            ],
            [
             0.4,
             "#fde0ef"
            ],
            [
             0.5,
             "#f7f7f7"
            ],
            [
             0.6,
             "#e6f5d0"
            ],
            [
             0.7,
             "#b8e186"
            ],
            [
             0.8,
             "#7fbc41"
            ],
            [
             0.9,
             "#4d9221"
            ],
            [
             1,
             "#276419"
            ]
           ],
           "sequential": [
            [
             0,
             "#0d0887"
            ],
            [
             0.1111111111111111,
             "#46039f"
            ],
            [
             0.2222222222222222,
             "#7201a8"
            ],
            [
             0.3333333333333333,
             "#9c179e"
            ],
            [
             0.4444444444444444,
             "#bd3786"
            ],
            [
             0.5555555555555556,
             "#d8576b"
            ],
            [
             0.6666666666666666,
             "#ed7953"
            ],
            [
             0.7777777777777778,
             "#fb9f3a"
            ],
            [
             0.8888888888888888,
             "#fdca26"
            ],
            [
             1,
             "#f0f921"
            ]
           ],
           "sequentialminus": [
            [
             0,
             "#0d0887"
            ],
            [
             0.1111111111111111,
             "#46039f"
            ],
            [
             0.2222222222222222,
             "#7201a8"
            ],
            [
             0.3333333333333333,
             "#9c179e"
            ],
            [
             0.4444444444444444,
             "#bd3786"
            ],
            [
             0.5555555555555556,
             "#d8576b"
            ],
            [
             0.6666666666666666,
             "#ed7953"
            ],
            [
             0.7777777777777778,
             "#fb9f3a"
            ],
            [
             0.8888888888888888,
             "#fdca26"
            ],
            [
             1,
             "#f0f921"
            ]
           ]
          },
          "colorway": [
           "#636efa",
           "#EF553B",
           "#00cc96",
           "#ab63fa",
           "#FFA15A",
           "#19d3f3",
           "#FF6692",
           "#B6E880",
           "#FF97FF",
           "#FECB52"
          ],
          "font": {
           "color": "#2a3f5f"
          },
          "geo": {
           "bgcolor": "white",
           "lakecolor": "white",
           "landcolor": "#E5ECF6",
           "showlakes": true,
           "showland": true,
           "subunitcolor": "white"
          },
          "hoverlabel": {
           "align": "left"
          },
          "hovermode": "closest",
          "mapbox": {
           "style": "light"
          },
          "paper_bgcolor": "white",
          "plot_bgcolor": "#E5ECF6",
          "polar": {
           "angularaxis": {
            "gridcolor": "white",
            "linecolor": "white",
            "ticks": ""
           },
           "bgcolor": "#E5ECF6",
           "radialaxis": {
            "gridcolor": "white",
            "linecolor": "white",
            "ticks": ""
           }
          },
          "scene": {
           "xaxis": {
            "backgroundcolor": "#E5ECF6",
            "gridcolor": "white",
            "gridwidth": 2,
            "linecolor": "white",
            "showbackground": true,
            "ticks": "",
            "zerolinecolor": "white"
           },
           "yaxis": {
            "backgroundcolor": "#E5ECF6",
            "gridcolor": "white",
            "gridwidth": 2,
            "linecolor": "white",
            "showbackground": true,
            "ticks": "",
            "zerolinecolor": "white"
           },
           "zaxis": {
            "backgroundcolor": "#E5ECF6",
            "gridcolor": "white",
            "gridwidth": 2,
            "linecolor": "white",
            "showbackground": true,
            "ticks": "",
            "zerolinecolor": "white"
           }
          },
          "shapedefaults": {
           "line": {
            "color": "#2a3f5f"
           }
          },
          "ternary": {
           "aaxis": {
            "gridcolor": "white",
            "linecolor": "white",
            "ticks": ""
           },
           "baxis": {
            "gridcolor": "white",
            "linecolor": "white",
            "ticks": ""
           },
           "bgcolor": "#E5ECF6",
           "caxis": {
            "gridcolor": "white",
            "linecolor": "white",
            "ticks": ""
           }
          },
          "title": {
           "x": 0.05
          },
          "xaxis": {
           "automargin": true,
           "gridcolor": "white",
           "linecolor": "white",
           "ticks": "",
           "title": {
            "standoff": 15
           },
           "zerolinecolor": "white",
           "zerolinewidth": 2
          },
          "yaxis": {
           "automargin": true,
           "gridcolor": "white",
           "linecolor": "white",
           "ticks": "",
           "title": {
            "standoff": 15
           },
           "zerolinecolor": "white",
           "zerolinewidth": 2
          }
         }
        },
        "xaxis": {
         "anchor": "y",
         "domain": [
          0,
          1
         ],
         "title": {
          "text": "index"
         }
        },
        "yaxis": {
         "anchor": "x",
         "domain": [
          0,
          1
         ],
         "title": {
          "text": "value"
         }
        }
       }
      },
      "text/html": [
       "<div>                            <div id=\"73513bb8-2b0c-4f4d-9a95-0f5335a8b431\" class=\"plotly-graph-div\" style=\"height:525px; width:100%;\"></div>            <script type=\"text/javascript\">                require([\"plotly\"], function(Plotly) {                    window.PLOTLYENV=window.PLOTLYENV || {};                                    if (document.getElementById(\"73513bb8-2b0c-4f4d-9a95-0f5335a8b431\")) {                    Plotly.newPlot(                        \"73513bb8-2b0c-4f4d-9a95-0f5335a8b431\",                        [{\"hovertemplate\":\"variable=wide_variable_0<br>index=%{x}<br>value=%{y}<extra></extra>\",\"legendgroup\":\"wide_variable_0\",\"line\":{\"color\":\"#636efa\",\"dash\":\"solid\"},\"marker\":{\"symbol\":\"circle\"},\"mode\":\"lines\",\"name\":\"wide_variable_0\",\"orientation\":\"v\",\"showlegend\":true,\"x\":[0,1,2,3,4,5,6,7,8,9,10,11,12,13,14,15,16,17,18,19,20,21,22,23,24,25,26,27,28,29,30,31,32,33,34,35,36,37,38,39,40,41,42,43,44,45,46,47,48,49,50,51,52,53,54,55,56,57,58,59,60,61,62,63,64,65,66,67,68,69,70,71,72,73,74,75,76,77,78,79,80,81,82,83,84,85,86,87,88,89,90,91,92,93,94,95,96,97,98],\"xaxis\":\"x\",\"y\":[82722.0,70848.0,81287.0,27446.0,84885.0,75400.0,75345.0,71069.0,84211.0,76425.0,60946.0,37304.0,68467.0,62925.0,72195.0,58747.0,46172.0,29026.0,68873.0,83422.0,32894.0,61304.0,72195.0,67950.0,67425.0,74094.0,70848.0,71589.0,33737.0,33971.0,61982.0,67858.0,80294.0,75759.0,71589.0,61654.0,59086.0,80001.0,82722.0,75438.0,27536.0,71450.0,72265.0,72466.0,65725.0,86793.0,51308.0,61620.0,55532.0,62001.0,66946.0,79525.0,61620.0,68995.0,90165.0,61731.0,72758.0,79471.0,61620.0,79471.0,25549.0,66946.0,38000.0,61304.0,80815.0,32044.0,71167.0,74094.0,68467.0,61087.0,72851.0,27446.0,65568.0,74412.0,84885.0,70848.0,72216.0,84885.0,46172.0,41463.0,32894.0,65470.0,68982.0,63253.0,64986.0,60790.0,32242.0,61620.0,37304.0,35584.0,31794.0,72195.0,81130.0,61224.0,27536.0,68873.0,79525.0,79103.0,58747.0],\"yaxis\":\"y\",\"type\":\"scatter\"},{\"hovertemplate\":\"variable=wide_variable_1<br>index=%{x}<br>value=%{y}<extra></extra>\",\"legendgroup\":\"wide_variable_1\",\"line\":{\"color\":\"#EF553B\",\"dash\":\"solid\"},\"marker\":{\"symbol\":\"circle\"},\"mode\":\"lines\",\"name\":\"wide_variable_1\",\"orientation\":\"v\",\"showlegend\":true,\"x\":[0,1,2,3,4,5,6,7,8,9,10,11,12,13,14,15,16,17,18,19,20,21,22,23,24,25,26,27,28,29,30,31,32,33,34,35,36,37,38,39,40,41,42,43,44,45,46,47,48,49,50,51,52,53,54,55,56,57,58,59,60,61,62,63,64,65,66,67,68,69,70,71,72,73,74,75,76,77,78,79,80,81,82,83,84,85,86,87,88,89,90,91,92,93,94,95,96,97,98],\"xaxis\":\"x\",\"y\":[88748.0,73831.0,74297.0,28745.0,81720.0,70019.0,71914.0,71069.0,78299.0,71196.0,75382.0,35642.0,75175.0,65704.0,65898.0,77277.0,50511.0,29496.0,72873.0,79836.0,35516.0,70263.0,74304.0,63754.0,74231.0,63670.0,86188.0,74503.0,32894.0,35333.0,61654.0,64157.0,80565.0,74389.0,73439.0,61863.0,58561.0,71069.0,67681.0,76746.0,24888.0,83880.0,69897.0,71528.0,72567.0,88924.0,74817.0,64368.0,56559.0,69154.0,60157.0,79833.0,63042.0,74354.0,87478.0,65466.0,73016.0,81535.0,65418.0,73323.0,62725.0,69211.0,37216.0,69814.0,74830.0,23744.0,76324.0,60861.0,74497.0,69603.0,72067.0,27223.0,69640.0,57104.0,75876.0,84794.0,72243.0,78188.0,53163.0,41390.0,30172.0,60946.0,62141.0,71299.0,69711.0,65763.0,29652.0,66577.0,34375.0,39335.0,39691.0,71437.0,84878.0,64425.0,26401.0,76418.0,71158.0,78602.0,68128.0],\"yaxis\":\"y\",\"type\":\"scatter\"}],                        {\"template\":{\"data\":{\"histogram2dcontour\":[{\"type\":\"histogram2dcontour\",\"colorbar\":{\"outlinewidth\":0,\"ticks\":\"\"},\"colorscale\":[[0.0,\"#0d0887\"],[0.1111111111111111,\"#46039f\"],[0.2222222222222222,\"#7201a8\"],[0.3333333333333333,\"#9c179e\"],[0.4444444444444444,\"#bd3786\"],[0.5555555555555556,\"#d8576b\"],[0.6666666666666666,\"#ed7953\"],[0.7777777777777778,\"#fb9f3a\"],[0.8888888888888888,\"#fdca26\"],[1.0,\"#f0f921\"]]}],\"choropleth\":[{\"type\":\"choropleth\",\"colorbar\":{\"outlinewidth\":0,\"ticks\":\"\"}}],\"histogram2d\":[{\"type\":\"histogram2d\",\"colorbar\":{\"outlinewidth\":0,\"ticks\":\"\"},\"colorscale\":[[0.0,\"#0d0887\"],[0.1111111111111111,\"#46039f\"],[0.2222222222222222,\"#7201a8\"],[0.3333333333333333,\"#9c179e\"],[0.4444444444444444,\"#bd3786\"],[0.5555555555555556,\"#d8576b\"],[0.6666666666666666,\"#ed7953\"],[0.7777777777777778,\"#fb9f3a\"],[0.8888888888888888,\"#fdca26\"],[1.0,\"#f0f921\"]]}],\"heatmap\":[{\"type\":\"heatmap\",\"colorbar\":{\"outlinewidth\":0,\"ticks\":\"\"},\"colorscale\":[[0.0,\"#0d0887\"],[0.1111111111111111,\"#46039f\"],[0.2222222222222222,\"#7201a8\"],[0.3333333333333333,\"#9c179e\"],[0.4444444444444444,\"#bd3786\"],[0.5555555555555556,\"#d8576b\"],[0.6666666666666666,\"#ed7953\"],[0.7777777777777778,\"#fb9f3a\"],[0.8888888888888888,\"#fdca26\"],[1.0,\"#f0f921\"]]}],\"heatmapgl\":[{\"type\":\"heatmapgl\",\"colorbar\":{\"outlinewidth\":0,\"ticks\":\"\"},\"colorscale\":[[0.0,\"#0d0887\"],[0.1111111111111111,\"#46039f\"],[0.2222222222222222,\"#7201a8\"],[0.3333333333333333,\"#9c179e\"],[0.4444444444444444,\"#bd3786\"],[0.5555555555555556,\"#d8576b\"],[0.6666666666666666,\"#ed7953\"],[0.7777777777777778,\"#fb9f3a\"],[0.8888888888888888,\"#fdca26\"],[1.0,\"#f0f921\"]]}],\"contourcarpet\":[{\"type\":\"contourcarpet\",\"colorbar\":{\"outlinewidth\":0,\"ticks\":\"\"}}],\"contour\":[{\"type\":\"contour\",\"colorbar\":{\"outlinewidth\":0,\"ticks\":\"\"},\"colorscale\":[[0.0,\"#0d0887\"],[0.1111111111111111,\"#46039f\"],[0.2222222222222222,\"#7201a8\"],[0.3333333333333333,\"#9c179e\"],[0.4444444444444444,\"#bd3786\"],[0.5555555555555556,\"#d8576b\"],[0.6666666666666666,\"#ed7953\"],[0.7777777777777778,\"#fb9f3a\"],[0.8888888888888888,\"#fdca26\"],[1.0,\"#f0f921\"]]}],\"surface\":[{\"type\":\"surface\",\"colorbar\":{\"outlinewidth\":0,\"ticks\":\"\"},\"colorscale\":[[0.0,\"#0d0887\"],[0.1111111111111111,\"#46039f\"],[0.2222222222222222,\"#7201a8\"],[0.3333333333333333,\"#9c179e\"],[0.4444444444444444,\"#bd3786\"],[0.5555555555555556,\"#d8576b\"],[0.6666666666666666,\"#ed7953\"],[0.7777777777777778,\"#fb9f3a\"],[0.8888888888888888,\"#fdca26\"],[1.0,\"#f0f921\"]]}],\"mesh3d\":[{\"type\":\"mesh3d\",\"colorbar\":{\"outlinewidth\":0,\"ticks\":\"\"}}],\"scatter\":[{\"fillpattern\":{\"fillmode\":\"overlay\",\"size\":10,\"solidity\":0.2},\"type\":\"scatter\"}],\"parcoords\":[{\"type\":\"parcoords\",\"line\":{\"colorbar\":{\"outlinewidth\":0,\"ticks\":\"\"}}}],\"scatterpolargl\":[{\"type\":\"scatterpolargl\",\"marker\":{\"colorbar\":{\"outlinewidth\":0,\"ticks\":\"\"}}}],\"bar\":[{\"error_x\":{\"color\":\"#2a3f5f\"},\"error_y\":{\"color\":\"#2a3f5f\"},\"marker\":{\"line\":{\"color\":\"#E5ECF6\",\"width\":0.5},\"pattern\":{\"fillmode\":\"overlay\",\"size\":10,\"solidity\":0.2}},\"type\":\"bar\"}],\"scattergeo\":[{\"type\":\"scattergeo\",\"marker\":{\"colorbar\":{\"outlinewidth\":0,\"ticks\":\"\"}}}],\"scatterpolar\":[{\"type\":\"scatterpolar\",\"marker\":{\"colorbar\":{\"outlinewidth\":0,\"ticks\":\"\"}}}],\"histogram\":[{\"marker\":{\"pattern\":{\"fillmode\":\"overlay\",\"size\":10,\"solidity\":0.2}},\"type\":\"histogram\"}],\"scattergl\":[{\"type\":\"scattergl\",\"marker\":{\"colorbar\":{\"outlinewidth\":0,\"ticks\":\"\"}}}],\"scatter3d\":[{\"type\":\"scatter3d\",\"line\":{\"colorbar\":{\"outlinewidth\":0,\"ticks\":\"\"}},\"marker\":{\"colorbar\":{\"outlinewidth\":0,\"ticks\":\"\"}}}],\"scattermapbox\":[{\"type\":\"scattermapbox\",\"marker\":{\"colorbar\":{\"outlinewidth\":0,\"ticks\":\"\"}}}],\"scatterternary\":[{\"type\":\"scatterternary\",\"marker\":{\"colorbar\":{\"outlinewidth\":0,\"ticks\":\"\"}}}],\"scattercarpet\":[{\"type\":\"scattercarpet\",\"marker\":{\"colorbar\":{\"outlinewidth\":0,\"ticks\":\"\"}}}],\"carpet\":[{\"aaxis\":{\"endlinecolor\":\"#2a3f5f\",\"gridcolor\":\"white\",\"linecolor\":\"white\",\"minorgridcolor\":\"white\",\"startlinecolor\":\"#2a3f5f\"},\"baxis\":{\"endlinecolor\":\"#2a3f5f\",\"gridcolor\":\"white\",\"linecolor\":\"white\",\"minorgridcolor\":\"white\",\"startlinecolor\":\"#2a3f5f\"},\"type\":\"carpet\"}],\"table\":[{\"cells\":{\"fill\":{\"color\":\"#EBF0F8\"},\"line\":{\"color\":\"white\"}},\"header\":{\"fill\":{\"color\":\"#C8D4E3\"},\"line\":{\"color\":\"white\"}},\"type\":\"table\"}],\"barpolar\":[{\"marker\":{\"line\":{\"color\":\"#E5ECF6\",\"width\":0.5},\"pattern\":{\"fillmode\":\"overlay\",\"size\":10,\"solidity\":0.2}},\"type\":\"barpolar\"}],\"pie\":[{\"automargin\":true,\"type\":\"pie\"}]},\"layout\":{\"autotypenumbers\":\"strict\",\"colorway\":[\"#636efa\",\"#EF553B\",\"#00cc96\",\"#ab63fa\",\"#FFA15A\",\"#19d3f3\",\"#FF6692\",\"#B6E880\",\"#FF97FF\",\"#FECB52\"],\"font\":{\"color\":\"#2a3f5f\"},\"hovermode\":\"closest\",\"hoverlabel\":{\"align\":\"left\"},\"paper_bgcolor\":\"white\",\"plot_bgcolor\":\"#E5ECF6\",\"polar\":{\"bgcolor\":\"#E5ECF6\",\"angularaxis\":{\"gridcolor\":\"white\",\"linecolor\":\"white\",\"ticks\":\"\"},\"radialaxis\":{\"gridcolor\":\"white\",\"linecolor\":\"white\",\"ticks\":\"\"}},\"ternary\":{\"bgcolor\":\"#E5ECF6\",\"aaxis\":{\"gridcolor\":\"white\",\"linecolor\":\"white\",\"ticks\":\"\"},\"baxis\":{\"gridcolor\":\"white\",\"linecolor\":\"white\",\"ticks\":\"\"},\"caxis\":{\"gridcolor\":\"white\",\"linecolor\":\"white\",\"ticks\":\"\"}},\"coloraxis\":{\"colorbar\":{\"outlinewidth\":0,\"ticks\":\"\"}},\"colorscale\":{\"sequential\":[[0.0,\"#0d0887\"],[0.1111111111111111,\"#46039f\"],[0.2222222222222222,\"#7201a8\"],[0.3333333333333333,\"#9c179e\"],[0.4444444444444444,\"#bd3786\"],[0.5555555555555556,\"#d8576b\"],[0.6666666666666666,\"#ed7953\"],[0.7777777777777778,\"#fb9f3a\"],[0.8888888888888888,\"#fdca26\"],[1.0,\"#f0f921\"]],\"sequentialminus\":[[0.0,\"#0d0887\"],[0.1111111111111111,\"#46039f\"],[0.2222222222222222,\"#7201a8\"],[0.3333333333333333,\"#9c179e\"],[0.4444444444444444,\"#bd3786\"],[0.5555555555555556,\"#d8576b\"],[0.6666666666666666,\"#ed7953\"],[0.7777777777777778,\"#fb9f3a\"],[0.8888888888888888,\"#fdca26\"],[1.0,\"#f0f921\"]],\"diverging\":[[0,\"#8e0152\"],[0.1,\"#c51b7d\"],[0.2,\"#de77ae\"],[0.3,\"#f1b6da\"],[0.4,\"#fde0ef\"],[0.5,\"#f7f7f7\"],[0.6,\"#e6f5d0\"],[0.7,\"#b8e186\"],[0.8,\"#7fbc41\"],[0.9,\"#4d9221\"],[1,\"#276419\"]]},\"xaxis\":{\"gridcolor\":\"white\",\"linecolor\":\"white\",\"ticks\":\"\",\"title\":{\"standoff\":15},\"zerolinecolor\":\"white\",\"automargin\":true,\"zerolinewidth\":2},\"yaxis\":{\"gridcolor\":\"white\",\"linecolor\":\"white\",\"ticks\":\"\",\"title\":{\"standoff\":15},\"zerolinecolor\":\"white\",\"automargin\":true,\"zerolinewidth\":2},\"scene\":{\"xaxis\":{\"backgroundcolor\":\"#E5ECF6\",\"gridcolor\":\"white\",\"linecolor\":\"white\",\"showbackground\":true,\"ticks\":\"\",\"zerolinecolor\":\"white\",\"gridwidth\":2},\"yaxis\":{\"backgroundcolor\":\"#E5ECF6\",\"gridcolor\":\"white\",\"linecolor\":\"white\",\"showbackground\":true,\"ticks\":\"\",\"zerolinecolor\":\"white\",\"gridwidth\":2},\"zaxis\":{\"backgroundcolor\":\"#E5ECF6\",\"gridcolor\":\"white\",\"linecolor\":\"white\",\"showbackground\":true,\"ticks\":\"\",\"zerolinecolor\":\"white\",\"gridwidth\":2}},\"shapedefaults\":{\"line\":{\"color\":\"#2a3f5f\"}},\"annotationdefaults\":{\"arrowcolor\":\"#2a3f5f\",\"arrowhead\":0,\"arrowwidth\":1},\"geo\":{\"bgcolor\":\"white\",\"landcolor\":\"#E5ECF6\",\"subunitcolor\":\"white\",\"showland\":true,\"showlakes\":true,\"lakecolor\":\"white\"},\"title\":{\"x\":0.05},\"mapbox\":{\"style\":\"light\"}}},\"xaxis\":{\"anchor\":\"y\",\"domain\":[0.0,1.0],\"title\":{\"text\":\"index\"}},\"yaxis\":{\"anchor\":\"x\",\"domain\":[0.0,1.0],\"title\":{\"text\":\"value\"}},\"legend\":{\"title\":{\"text\":\"variable\"},\"tracegroupgap\":0},\"margin\":{\"t\":60}},                        {\"responsive\": true}                    ).then(function(){\n",
       "                            \n",
       "var gd = document.getElementById('73513bb8-2b0c-4f4d-9a95-0f5335a8b431');\n",
       "var x = new MutationObserver(function (mutations, observer) {{\n",
       "        var display = window.getComputedStyle(gd).display;\n",
       "        if (!display || display === 'none') {{\n",
       "            console.log([gd, 'removed!']);\n",
       "            Plotly.purge(gd);\n",
       "            observer.disconnect();\n",
       "        }}\n",
       "}});\n",
       "\n",
       "// Listen for the removal of the full notebook cells\n",
       "var notebookContainer = gd.closest('#notebook-container');\n",
       "if (notebookContainer) {{\n",
       "    x.observe(notebookContainer, {childList: true});\n",
       "}}\n",
       "\n",
       "// Listen for the clearing of the current output cell\n",
       "var outputEl = gd.closest('.output');\n",
       "if (outputEl) {{\n",
       "    x.observe(outputEl, {childList: true});\n",
       "}}\n",
       "\n",
       "                        })                };                });            </script>        </div>"
      ]
     },
     "metadata": {},
     "output_type": "display_data"
    }
   ],
   "source": [
    "#Visualizing Results\n",
    "fig = px.line( y=[y_pred,y_test])\n",
    "fig.show()"
   ]
  },
  {
   "cell_type": "markdown",
   "id": "55762959",
   "metadata": {},
   "source": [
    "## xgboost: ##"
   ]
  },
  {
   "cell_type": "code",
   "execution_count": 124,
   "id": "2ff9ce7b",
   "metadata": {},
   "outputs": [],
   "source": [
    "import xgboost as xgb"
   ]
  },
  {
   "cell_type": "code",
   "execution_count": 129,
   "id": "120d0967",
   "metadata": {},
   "outputs": [],
   "source": [
    "x_train,x_test,y_train,y_test=train_test_split(data[['Week_day','Temperature','Tirupati',\n",
    "       'Tirumala','Review','VIP darshan','Timestamp','tirumala darshan']],data['Piligrims'],test_size=0.27,random_state=3)"
   ]
  },
  {
   "cell_type": "code",
   "execution_count": 130,
   "id": "0bb9b6b9",
   "metadata": {},
   "outputs": [
    {
     "name": "stdout",
     "output_type": "stream",
     "text": [
      "<xgboost.core.DMatrix object at 0x0000018AB637CE80>\n"
     ]
    }
   ],
   "source": [
    "dtrain=xgb.DMatrix(x_train,label=y_train)\n",
    "dtest=xgb.DMatrix(x_test,label=y_test)\n",
    "print(dtrain)"
   ]
  },
  {
   "cell_type": "code",
   "execution_count": 131,
   "id": "2cbf51de",
   "metadata": {},
   "outputs": [],
   "source": [
    "param={\n",
    "    'objective':'reg:squarederror',\n",
    "    'max_depth':5,\n",
    "    'eta':0.4,\n",
    "    'subsample':0.8,\n",
    "    'colsample_bytree':0.8\n",
    "}\n",
    "num_round=10\n",
    "model4=xgb.train(param,dtrain,num_round)\n",
    "y_pred=model4.predict(dtest)"
   ]
  },
  {
   "cell_type": "code",
   "execution_count": 132,
   "id": "bd21778e",
   "metadata": {},
   "outputs": [
    {
     "name": "stdout",
     "output_type": "stream",
     "text": [
      "42916496.73204056\n",
      "0.8416063054503333\n",
      "5039.84260574495\n"
     ]
    }
   ],
   "source": [
    "#Model Evalution\n",
    "mse=mean_squared_error(y_test,y_pred)\n",
    "print(mse)\n",
    "r2 = r2_score(y_test, y_pred)\n",
    "print(r2)\n",
    "print(mean_absolute_error(y_test,y_pred))"
   ]
  },
  {
   "cell_type": "code",
   "execution_count": 128,
   "id": "7b56f527",
   "metadata": {},
   "outputs": [
    {
     "data": {
      "application/vnd.plotly.v1+json": {
       "config": {
        "plotlyServerURL": "https://plot.ly"
       },
       "data": [
        {
         "hovertemplate": "variable=wide_variable_0<br>index=%{x}<br>value=%{y}<extra></extra>",
         "legendgroup": "wide_variable_0",
         "line": {
          "color": "#636efa",
          "dash": "solid"
         },
         "marker": {
          "symbol": "circle"
         },
         "mode": "lines",
         "name": "wide_variable_0",
         "orientation": "v",
         "showlegend": true,
         "type": "scatter",
         "x": [
          0,
          1,
          2,
          3,
          4,
          5,
          6,
          7,
          8,
          9,
          10,
          11,
          12,
          13,
          14,
          15,
          16,
          17,
          18,
          19,
          20,
          21,
          22,
          23,
          24,
          25,
          26,
          27,
          28,
          29,
          30,
          31,
          32,
          33,
          34,
          35,
          36,
          37,
          38,
          39,
          40,
          41,
          42,
          43,
          44,
          45,
          46,
          47,
          48,
          49,
          50,
          51,
          52,
          53,
          54,
          55,
          56,
          57,
          58,
          59,
          60,
          61,
          62,
          63,
          64,
          65,
          66,
          67,
          68,
          69,
          70,
          71,
          72,
          73,
          74,
          75,
          76,
          77,
          78,
          79,
          80,
          81,
          82,
          83,
          84,
          85,
          86,
          87,
          88,
          89,
          90,
          91,
          92,
          93,
          94,
          95,
          96,
          97,
          98
         ],
         "xaxis": "x",
         "y": [
          69540.3828125,
          70563.9140625,
          79120.8984375,
          38681.16015625,
          73428.8671875,
          67726.15625,
          73353,
          79446.328125,
          76031.3828125,
          75765.4453125,
          63864.3671875,
          36013.53515625,
          68073.8828125,
          58487.98046875,
          74411.5234375,
          69816.5703125,
          54805.75390625,
          31921.798828125,
          64446.21875,
          80284.40625,
          29868.509765625,
          65884.296875,
          74706.9296875,
          68378.6328125,
          67781.859375,
          67041.15625,
          78005.21875,
          73072.9609375,
          35752.34765625,
          35045.328125,
          63912.359375,
          66879.984375,
          78766.40625,
          73653.2890625,
          74076.0390625,
          64772.3515625,
          63912.359375,
          75569.6015625,
          68817.34375,
          82875.3359375,
          53089.890625,
          69070.359375,
          71373.953125,
          49077.98046875,
          61777.4453125,
          75619.578125,
          55268.66796875,
          63912.359375,
          52272.81640625,
          66208.7578125,
          67041.15625,
          77819.1015625,
          63423.14453125,
          67609.6015625,
          82036.3828125,
          67131.828125,
          66823.1640625,
          74594.6328125,
          65283.421875,
          78572.5546875,
          65548.03125,
          64278.7578125,
          35239.1328125,
          65884.296875,
          78490.3203125,
          38481.328125,
          76179.8828125,
          67041.15625,
          65749.34375,
          63821.37890625,
          71338.78125,
          35549.48046875,
          64639.6875,
          66012.5625,
          59715.421875,
          76794.6015625,
          69356.3984375,
          78615.0625,
          43398.1953125,
          39686.78125,
          27248.353515625,
          63466.48828125,
          73889.6875,
          66804.2109375,
          65683.7109375,
          69358.265625,
          36675.4375,
          63648.0703125,
          34489.6484375,
          43475.90234375,
          33897.49609375,
          72226.59375,
          64013.4921875,
          49558.79296875,
          33505.609375,
          68946.0625,
          83067.734375,
          74706.9296875,
          69816.5703125
         ],
         "yaxis": "y"
        },
        {
         "hovertemplate": "variable=wide_variable_1<br>index=%{x}<br>value=%{y}<extra></extra>",
         "legendgroup": "wide_variable_1",
         "line": {
          "color": "#EF553B",
          "dash": "solid"
         },
         "marker": {
          "symbol": "circle"
         },
         "mode": "lines",
         "name": "wide_variable_1",
         "orientation": "v",
         "showlegend": true,
         "type": "scatter",
         "x": [
          0,
          1,
          2,
          3,
          4,
          5,
          6,
          7,
          8,
          9,
          10,
          11,
          12,
          13,
          14,
          15,
          16,
          17,
          18,
          19,
          20,
          21,
          22,
          23,
          24,
          25,
          26,
          27,
          28,
          29,
          30,
          31,
          32,
          33,
          34,
          35,
          36,
          37,
          38,
          39,
          40,
          41,
          42,
          43,
          44,
          45,
          46,
          47,
          48,
          49,
          50,
          51,
          52,
          53,
          54,
          55,
          56,
          57,
          58,
          59,
          60,
          61,
          62,
          63,
          64,
          65,
          66,
          67,
          68,
          69,
          70,
          71,
          72,
          73,
          74,
          75,
          76,
          77,
          78,
          79,
          80,
          81,
          82,
          83,
          84,
          85,
          86,
          87,
          88,
          89,
          90,
          91,
          92,
          93,
          94,
          95,
          96,
          97,
          98
         ],
         "xaxis": "x",
         "y": [
          88748,
          73831,
          74297,
          28745,
          81720,
          70019,
          71914,
          71069,
          78299,
          71196,
          75382,
          35642,
          75175,
          65704,
          65898,
          77277,
          50511,
          29496,
          72873,
          79836,
          35516,
          70263,
          74304,
          63754,
          74231,
          63670,
          86188,
          74503,
          32894,
          35333,
          61654,
          64157,
          80565,
          74389,
          73439,
          61863,
          58561,
          71069,
          67681,
          76746,
          24888,
          83880,
          69897,
          71528,
          72567,
          88924,
          74817,
          64368,
          56559,
          69154,
          60157,
          79833,
          63042,
          74354,
          87478,
          65466,
          73016,
          81535,
          65418,
          73323,
          62725,
          69211,
          37216,
          69814,
          74830,
          23744,
          76324,
          60861,
          74497,
          69603,
          72067,
          27223,
          69640,
          57104,
          75876,
          84794,
          72243,
          78188,
          53163,
          41390,
          30172,
          60946,
          62141,
          71299,
          69711,
          65763,
          29652,
          66577,
          34375,
          39335,
          39691,
          71437,
          84878,
          64425,
          26401,
          76418,
          71158,
          78602,
          68128
         ],
         "yaxis": "y"
        }
       ],
       "layout": {
        "legend": {
         "title": {
          "text": "variable"
         },
         "tracegroupgap": 0
        },
        "margin": {
         "t": 60
        },
        "template": {
         "data": {
          "bar": [
           {
            "error_x": {
             "color": "#2a3f5f"
            },
            "error_y": {
             "color": "#2a3f5f"
            },
            "marker": {
             "line": {
              "color": "#E5ECF6",
              "width": 0.5
             },
             "pattern": {
              "fillmode": "overlay",
              "size": 10,
              "solidity": 0.2
             }
            },
            "type": "bar"
           }
          ],
          "barpolar": [
           {
            "marker": {
             "line": {
              "color": "#E5ECF6",
              "width": 0.5
             },
             "pattern": {
              "fillmode": "overlay",
              "size": 10,
              "solidity": 0.2
             }
            },
            "type": "barpolar"
           }
          ],
          "carpet": [
           {
            "aaxis": {
             "endlinecolor": "#2a3f5f",
             "gridcolor": "white",
             "linecolor": "white",
             "minorgridcolor": "white",
             "startlinecolor": "#2a3f5f"
            },
            "baxis": {
             "endlinecolor": "#2a3f5f",
             "gridcolor": "white",
             "linecolor": "white",
             "minorgridcolor": "white",
             "startlinecolor": "#2a3f5f"
            },
            "type": "carpet"
           }
          ],
          "choropleth": [
           {
            "colorbar": {
             "outlinewidth": 0,
             "ticks": ""
            },
            "type": "choropleth"
           }
          ],
          "contour": [
           {
            "colorbar": {
             "outlinewidth": 0,
             "ticks": ""
            },
            "colorscale": [
             [
              0,
              "#0d0887"
             ],
             [
              0.1111111111111111,
              "#46039f"
             ],
             [
              0.2222222222222222,
              "#7201a8"
             ],
             [
              0.3333333333333333,
              "#9c179e"
             ],
             [
              0.4444444444444444,
              "#bd3786"
             ],
             [
              0.5555555555555556,
              "#d8576b"
             ],
             [
              0.6666666666666666,
              "#ed7953"
             ],
             [
              0.7777777777777778,
              "#fb9f3a"
             ],
             [
              0.8888888888888888,
              "#fdca26"
             ],
             [
              1,
              "#f0f921"
             ]
            ],
            "type": "contour"
           }
          ],
          "contourcarpet": [
           {
            "colorbar": {
             "outlinewidth": 0,
             "ticks": ""
            },
            "type": "contourcarpet"
           }
          ],
          "heatmap": [
           {
            "colorbar": {
             "outlinewidth": 0,
             "ticks": ""
            },
            "colorscale": [
             [
              0,
              "#0d0887"
             ],
             [
              0.1111111111111111,
              "#46039f"
             ],
             [
              0.2222222222222222,
              "#7201a8"
             ],
             [
              0.3333333333333333,
              "#9c179e"
             ],
             [
              0.4444444444444444,
              "#bd3786"
             ],
             [
              0.5555555555555556,
              "#d8576b"
             ],
             [
              0.6666666666666666,
              "#ed7953"
             ],
             [
              0.7777777777777778,
              "#fb9f3a"
             ],
             [
              0.8888888888888888,
              "#fdca26"
             ],
             [
              1,
              "#f0f921"
             ]
            ],
            "type": "heatmap"
           }
          ],
          "heatmapgl": [
           {
            "colorbar": {
             "outlinewidth": 0,
             "ticks": ""
            },
            "colorscale": [
             [
              0,
              "#0d0887"
             ],
             [
              0.1111111111111111,
              "#46039f"
             ],
             [
              0.2222222222222222,
              "#7201a8"
             ],
             [
              0.3333333333333333,
              "#9c179e"
             ],
             [
              0.4444444444444444,
              "#bd3786"
             ],
             [
              0.5555555555555556,
              "#d8576b"
             ],
             [
              0.6666666666666666,
              "#ed7953"
             ],
             [
              0.7777777777777778,
              "#fb9f3a"
             ],
             [
              0.8888888888888888,
              "#fdca26"
             ],
             [
              1,
              "#f0f921"
             ]
            ],
            "type": "heatmapgl"
           }
          ],
          "histogram": [
           {
            "marker": {
             "pattern": {
              "fillmode": "overlay",
              "size": 10,
              "solidity": 0.2
             }
            },
            "type": "histogram"
           }
          ],
          "histogram2d": [
           {
            "colorbar": {
             "outlinewidth": 0,
             "ticks": ""
            },
            "colorscale": [
             [
              0,
              "#0d0887"
             ],
             [
              0.1111111111111111,
              "#46039f"
             ],
             [
              0.2222222222222222,
              "#7201a8"
             ],
             [
              0.3333333333333333,
              "#9c179e"
             ],
             [
              0.4444444444444444,
              "#bd3786"
             ],
             [
              0.5555555555555556,
              "#d8576b"
             ],
             [
              0.6666666666666666,
              "#ed7953"
             ],
             [
              0.7777777777777778,
              "#fb9f3a"
             ],
             [
              0.8888888888888888,
              "#fdca26"
             ],
             [
              1,
              "#f0f921"
             ]
            ],
            "type": "histogram2d"
           }
          ],
          "histogram2dcontour": [
           {
            "colorbar": {
             "outlinewidth": 0,
             "ticks": ""
            },
            "colorscale": [
             [
              0,
              "#0d0887"
             ],
             [
              0.1111111111111111,
              "#46039f"
             ],
             [
              0.2222222222222222,
              "#7201a8"
             ],
             [
              0.3333333333333333,
              "#9c179e"
             ],
             [
              0.4444444444444444,
              "#bd3786"
             ],
             [
              0.5555555555555556,
              "#d8576b"
             ],
             [
              0.6666666666666666,
              "#ed7953"
             ],
             [
              0.7777777777777778,
              "#fb9f3a"
             ],
             [
              0.8888888888888888,
              "#fdca26"
             ],
             [
              1,
              "#f0f921"
             ]
            ],
            "type": "histogram2dcontour"
           }
          ],
          "mesh3d": [
           {
            "colorbar": {
             "outlinewidth": 0,
             "ticks": ""
            },
            "type": "mesh3d"
           }
          ],
          "parcoords": [
           {
            "line": {
             "colorbar": {
              "outlinewidth": 0,
              "ticks": ""
             }
            },
            "type": "parcoords"
           }
          ],
          "pie": [
           {
            "automargin": true,
            "type": "pie"
           }
          ],
          "scatter": [
           {
            "fillpattern": {
             "fillmode": "overlay",
             "size": 10,
             "solidity": 0.2
            },
            "type": "scatter"
           }
          ],
          "scatter3d": [
           {
            "line": {
             "colorbar": {
              "outlinewidth": 0,
              "ticks": ""
             }
            },
            "marker": {
             "colorbar": {
              "outlinewidth": 0,
              "ticks": ""
             }
            },
            "type": "scatter3d"
           }
          ],
          "scattercarpet": [
           {
            "marker": {
             "colorbar": {
              "outlinewidth": 0,
              "ticks": ""
             }
            },
            "type": "scattercarpet"
           }
          ],
          "scattergeo": [
           {
            "marker": {
             "colorbar": {
              "outlinewidth": 0,
              "ticks": ""
             }
            },
            "type": "scattergeo"
           }
          ],
          "scattergl": [
           {
            "marker": {
             "colorbar": {
              "outlinewidth": 0,
              "ticks": ""
             }
            },
            "type": "scattergl"
           }
          ],
          "scattermapbox": [
           {
            "marker": {
             "colorbar": {
              "outlinewidth": 0,
              "ticks": ""
             }
            },
            "type": "scattermapbox"
           }
          ],
          "scatterpolar": [
           {
            "marker": {
             "colorbar": {
              "outlinewidth": 0,
              "ticks": ""
             }
            },
            "type": "scatterpolar"
           }
          ],
          "scatterpolargl": [
           {
            "marker": {
             "colorbar": {
              "outlinewidth": 0,
              "ticks": ""
             }
            },
            "type": "scatterpolargl"
           }
          ],
          "scatterternary": [
           {
            "marker": {
             "colorbar": {
              "outlinewidth": 0,
              "ticks": ""
             }
            },
            "type": "scatterternary"
           }
          ],
          "surface": [
           {
            "colorbar": {
             "outlinewidth": 0,
             "ticks": ""
            },
            "colorscale": [
             [
              0,
              "#0d0887"
             ],
             [
              0.1111111111111111,
              "#46039f"
             ],
             [
              0.2222222222222222,
              "#7201a8"
             ],
             [
              0.3333333333333333,
              "#9c179e"
             ],
             [
              0.4444444444444444,
              "#bd3786"
             ],
             [
              0.5555555555555556,
              "#d8576b"
             ],
             [
              0.6666666666666666,
              "#ed7953"
             ],
             [
              0.7777777777777778,
              "#fb9f3a"
             ],
             [
              0.8888888888888888,
              "#fdca26"
             ],
             [
              1,
              "#f0f921"
             ]
            ],
            "type": "surface"
           }
          ],
          "table": [
           {
            "cells": {
             "fill": {
              "color": "#EBF0F8"
             },
             "line": {
              "color": "white"
             }
            },
            "header": {
             "fill": {
              "color": "#C8D4E3"
             },
             "line": {
              "color": "white"
             }
            },
            "type": "table"
           }
          ]
         },
         "layout": {
          "annotationdefaults": {
           "arrowcolor": "#2a3f5f",
           "arrowhead": 0,
           "arrowwidth": 1
          },
          "autotypenumbers": "strict",
          "coloraxis": {
           "colorbar": {
            "outlinewidth": 0,
            "ticks": ""
           }
          },
          "colorscale": {
           "diverging": [
            [
             0,
             "#8e0152"
            ],
            [
             0.1,
             "#c51b7d"
            ],
            [
             0.2,
             "#de77ae"
            ],
            [
             0.3,
             "#f1b6da"
            ],
            [
             0.4,
             "#fde0ef"
            ],
            [
             0.5,
             "#f7f7f7"
            ],
            [
             0.6,
             "#e6f5d0"
            ],
            [
             0.7,
             "#b8e186"
            ],
            [
             0.8,
             "#7fbc41"
            ],
            [
             0.9,
             "#4d9221"
            ],
            [
             1,
             "#276419"
            ]
           ],
           "sequential": [
            [
             0,
             "#0d0887"
            ],
            [
             0.1111111111111111,
             "#46039f"
            ],
            [
             0.2222222222222222,
             "#7201a8"
            ],
            [
             0.3333333333333333,
             "#9c179e"
            ],
            [
             0.4444444444444444,
             "#bd3786"
            ],
            [
             0.5555555555555556,
             "#d8576b"
            ],
            [
             0.6666666666666666,
             "#ed7953"
            ],
            [
             0.7777777777777778,
             "#fb9f3a"
            ],
            [
             0.8888888888888888,
             "#fdca26"
            ],
            [
             1,
             "#f0f921"
            ]
           ],
           "sequentialminus": [
            [
             0,
             "#0d0887"
            ],
            [
             0.1111111111111111,
             "#46039f"
            ],
            [
             0.2222222222222222,
             "#7201a8"
            ],
            [
             0.3333333333333333,
             "#9c179e"
            ],
            [
             0.4444444444444444,
             "#bd3786"
            ],
            [
             0.5555555555555556,
             "#d8576b"
            ],
            [
             0.6666666666666666,
             "#ed7953"
            ],
            [
             0.7777777777777778,
             "#fb9f3a"
            ],
            [
             0.8888888888888888,
             "#fdca26"
            ],
            [
             1,
             "#f0f921"
            ]
           ]
          },
          "colorway": [
           "#636efa",
           "#EF553B",
           "#00cc96",
           "#ab63fa",
           "#FFA15A",
           "#19d3f3",
           "#FF6692",
           "#B6E880",
           "#FF97FF",
           "#FECB52"
          ],
          "font": {
           "color": "#2a3f5f"
          },
          "geo": {
           "bgcolor": "white",
           "lakecolor": "white",
           "landcolor": "#E5ECF6",
           "showlakes": true,
           "showland": true,
           "subunitcolor": "white"
          },
          "hoverlabel": {
           "align": "left"
          },
          "hovermode": "closest",
          "mapbox": {
           "style": "light"
          },
          "paper_bgcolor": "white",
          "plot_bgcolor": "#E5ECF6",
          "polar": {
           "angularaxis": {
            "gridcolor": "white",
            "linecolor": "white",
            "ticks": ""
           },
           "bgcolor": "#E5ECF6",
           "radialaxis": {
            "gridcolor": "white",
            "linecolor": "white",
            "ticks": ""
           }
          },
          "scene": {
           "xaxis": {
            "backgroundcolor": "#E5ECF6",
            "gridcolor": "white",
            "gridwidth": 2,
            "linecolor": "white",
            "showbackground": true,
            "ticks": "",
            "zerolinecolor": "white"
           },
           "yaxis": {
            "backgroundcolor": "#E5ECF6",
            "gridcolor": "white",
            "gridwidth": 2,
            "linecolor": "white",
            "showbackground": true,
            "ticks": "",
            "zerolinecolor": "white"
           },
           "zaxis": {
            "backgroundcolor": "#E5ECF6",
            "gridcolor": "white",
            "gridwidth": 2,
            "linecolor": "white",
            "showbackground": true,
            "ticks": "",
            "zerolinecolor": "white"
           }
          },
          "shapedefaults": {
           "line": {
            "color": "#2a3f5f"
           }
          },
          "ternary": {
           "aaxis": {
            "gridcolor": "white",
            "linecolor": "white",
            "ticks": ""
           },
           "baxis": {
            "gridcolor": "white",
            "linecolor": "white",
            "ticks": ""
           },
           "bgcolor": "#E5ECF6",
           "caxis": {
            "gridcolor": "white",
            "linecolor": "white",
            "ticks": ""
           }
          },
          "title": {
           "x": 0.05
          },
          "xaxis": {
           "automargin": true,
           "gridcolor": "white",
           "linecolor": "white",
           "ticks": "",
           "title": {
            "standoff": 15
           },
           "zerolinecolor": "white",
           "zerolinewidth": 2
          },
          "yaxis": {
           "automargin": true,
           "gridcolor": "white",
           "linecolor": "white",
           "ticks": "",
           "title": {
            "standoff": 15
           },
           "zerolinecolor": "white",
           "zerolinewidth": 2
          }
         }
        },
        "xaxis": {
         "anchor": "y",
         "domain": [
          0,
          1
         ],
         "title": {
          "text": "index"
         }
        },
        "yaxis": {
         "anchor": "x",
         "domain": [
          0,
          1
         ],
         "title": {
          "text": "value"
         }
        }
       }
      },
      "text/html": [
       "<div>                            <div id=\"77401170-71ac-4a03-b876-abe3046b4de3\" class=\"plotly-graph-div\" style=\"height:525px; width:100%;\"></div>            <script type=\"text/javascript\">                require([\"plotly\"], function(Plotly) {                    window.PLOTLYENV=window.PLOTLYENV || {};                                    if (document.getElementById(\"77401170-71ac-4a03-b876-abe3046b4de3\")) {                    Plotly.newPlot(                        \"77401170-71ac-4a03-b876-abe3046b4de3\",                        [{\"hovertemplate\":\"variable=wide_variable_0<br>index=%{x}<br>value=%{y}<extra></extra>\",\"legendgroup\":\"wide_variable_0\",\"line\":{\"color\":\"#636efa\",\"dash\":\"solid\"},\"marker\":{\"symbol\":\"circle\"},\"mode\":\"lines\",\"name\":\"wide_variable_0\",\"orientation\":\"v\",\"showlegend\":true,\"x\":[0,1,2,3,4,5,6,7,8,9,10,11,12,13,14,15,16,17,18,19,20,21,22,23,24,25,26,27,28,29,30,31,32,33,34,35,36,37,38,39,40,41,42,43,44,45,46,47,48,49,50,51,52,53,54,55,56,57,58,59,60,61,62,63,64,65,66,67,68,69,70,71,72,73,74,75,76,77,78,79,80,81,82,83,84,85,86,87,88,89,90,91,92,93,94,95,96,97,98],\"xaxis\":\"x\",\"y\":[69540.3828125,70563.9140625,79120.8984375,38681.16015625,73428.8671875,67726.15625,73353.0,79446.328125,76031.3828125,75765.4453125,63864.3671875,36013.53515625,68073.8828125,58487.98046875,74411.5234375,69816.5703125,54805.75390625,31921.798828125,64446.21875,80284.40625,29868.509765625,65884.296875,74706.9296875,68378.6328125,67781.859375,67041.15625,78005.21875,73072.9609375,35752.34765625,35045.328125,63912.359375,66879.984375,78766.40625,73653.2890625,74076.0390625,64772.3515625,63912.359375,75569.6015625,68817.34375,82875.3359375,53089.890625,69070.359375,71373.953125,49077.98046875,61777.4453125,75619.578125,55268.66796875,63912.359375,52272.81640625,66208.7578125,67041.15625,77819.1015625,63423.14453125,67609.6015625,82036.3828125,67131.828125,66823.1640625,74594.6328125,65283.421875,78572.5546875,65548.03125,64278.7578125,35239.1328125,65884.296875,78490.3203125,38481.328125,76179.8828125,67041.15625,65749.34375,63821.37890625,71338.78125,35549.48046875,64639.6875,66012.5625,59715.421875,76794.6015625,69356.3984375,78615.0625,43398.1953125,39686.78125,27248.353515625,63466.48828125,73889.6875,66804.2109375,65683.7109375,69358.265625,36675.4375,63648.0703125,34489.6484375,43475.90234375,33897.49609375,72226.59375,64013.4921875,49558.79296875,33505.609375,68946.0625,83067.734375,74706.9296875,69816.5703125],\"yaxis\":\"y\",\"type\":\"scatter\"},{\"hovertemplate\":\"variable=wide_variable_1<br>index=%{x}<br>value=%{y}<extra></extra>\",\"legendgroup\":\"wide_variable_1\",\"line\":{\"color\":\"#EF553B\",\"dash\":\"solid\"},\"marker\":{\"symbol\":\"circle\"},\"mode\":\"lines\",\"name\":\"wide_variable_1\",\"orientation\":\"v\",\"showlegend\":true,\"x\":[0,1,2,3,4,5,6,7,8,9,10,11,12,13,14,15,16,17,18,19,20,21,22,23,24,25,26,27,28,29,30,31,32,33,34,35,36,37,38,39,40,41,42,43,44,45,46,47,48,49,50,51,52,53,54,55,56,57,58,59,60,61,62,63,64,65,66,67,68,69,70,71,72,73,74,75,76,77,78,79,80,81,82,83,84,85,86,87,88,89,90,91,92,93,94,95,96,97,98],\"xaxis\":\"x\",\"y\":[88748.0,73831.0,74297.0,28745.0,81720.0,70019.0,71914.0,71069.0,78299.0,71196.0,75382.0,35642.0,75175.0,65704.0,65898.0,77277.0,50511.0,29496.0,72873.0,79836.0,35516.0,70263.0,74304.0,63754.0,74231.0,63670.0,86188.0,74503.0,32894.0,35333.0,61654.0,64157.0,80565.0,74389.0,73439.0,61863.0,58561.0,71069.0,67681.0,76746.0,24888.0,83880.0,69897.0,71528.0,72567.0,88924.0,74817.0,64368.0,56559.0,69154.0,60157.0,79833.0,63042.0,74354.0,87478.0,65466.0,73016.0,81535.0,65418.0,73323.0,62725.0,69211.0,37216.0,69814.0,74830.0,23744.0,76324.0,60861.0,74497.0,69603.0,72067.0,27223.0,69640.0,57104.0,75876.0,84794.0,72243.0,78188.0,53163.0,41390.0,30172.0,60946.0,62141.0,71299.0,69711.0,65763.0,29652.0,66577.0,34375.0,39335.0,39691.0,71437.0,84878.0,64425.0,26401.0,76418.0,71158.0,78602.0,68128.0],\"yaxis\":\"y\",\"type\":\"scatter\"}],                        {\"template\":{\"data\":{\"histogram2dcontour\":[{\"type\":\"histogram2dcontour\",\"colorbar\":{\"outlinewidth\":0,\"ticks\":\"\"},\"colorscale\":[[0.0,\"#0d0887\"],[0.1111111111111111,\"#46039f\"],[0.2222222222222222,\"#7201a8\"],[0.3333333333333333,\"#9c179e\"],[0.4444444444444444,\"#bd3786\"],[0.5555555555555556,\"#d8576b\"],[0.6666666666666666,\"#ed7953\"],[0.7777777777777778,\"#fb9f3a\"],[0.8888888888888888,\"#fdca26\"],[1.0,\"#f0f921\"]]}],\"choropleth\":[{\"type\":\"choropleth\",\"colorbar\":{\"outlinewidth\":0,\"ticks\":\"\"}}],\"histogram2d\":[{\"type\":\"histogram2d\",\"colorbar\":{\"outlinewidth\":0,\"ticks\":\"\"},\"colorscale\":[[0.0,\"#0d0887\"],[0.1111111111111111,\"#46039f\"],[0.2222222222222222,\"#7201a8\"],[0.3333333333333333,\"#9c179e\"],[0.4444444444444444,\"#bd3786\"],[0.5555555555555556,\"#d8576b\"],[0.6666666666666666,\"#ed7953\"],[0.7777777777777778,\"#fb9f3a\"],[0.8888888888888888,\"#fdca26\"],[1.0,\"#f0f921\"]]}],\"heatmap\":[{\"type\":\"heatmap\",\"colorbar\":{\"outlinewidth\":0,\"ticks\":\"\"},\"colorscale\":[[0.0,\"#0d0887\"],[0.1111111111111111,\"#46039f\"],[0.2222222222222222,\"#7201a8\"],[0.3333333333333333,\"#9c179e\"],[0.4444444444444444,\"#bd3786\"],[0.5555555555555556,\"#d8576b\"],[0.6666666666666666,\"#ed7953\"],[0.7777777777777778,\"#fb9f3a\"],[0.8888888888888888,\"#fdca26\"],[1.0,\"#f0f921\"]]}],\"heatmapgl\":[{\"type\":\"heatmapgl\",\"colorbar\":{\"outlinewidth\":0,\"ticks\":\"\"},\"colorscale\":[[0.0,\"#0d0887\"],[0.1111111111111111,\"#46039f\"],[0.2222222222222222,\"#7201a8\"],[0.3333333333333333,\"#9c179e\"],[0.4444444444444444,\"#bd3786\"],[0.5555555555555556,\"#d8576b\"],[0.6666666666666666,\"#ed7953\"],[0.7777777777777778,\"#fb9f3a\"],[0.8888888888888888,\"#fdca26\"],[1.0,\"#f0f921\"]]}],\"contourcarpet\":[{\"type\":\"contourcarpet\",\"colorbar\":{\"outlinewidth\":0,\"ticks\":\"\"}}],\"contour\":[{\"type\":\"contour\",\"colorbar\":{\"outlinewidth\":0,\"ticks\":\"\"},\"colorscale\":[[0.0,\"#0d0887\"],[0.1111111111111111,\"#46039f\"],[0.2222222222222222,\"#7201a8\"],[0.3333333333333333,\"#9c179e\"],[0.4444444444444444,\"#bd3786\"],[0.5555555555555556,\"#d8576b\"],[0.6666666666666666,\"#ed7953\"],[0.7777777777777778,\"#fb9f3a\"],[0.8888888888888888,\"#fdca26\"],[1.0,\"#f0f921\"]]}],\"surface\":[{\"type\":\"surface\",\"colorbar\":{\"outlinewidth\":0,\"ticks\":\"\"},\"colorscale\":[[0.0,\"#0d0887\"],[0.1111111111111111,\"#46039f\"],[0.2222222222222222,\"#7201a8\"],[0.3333333333333333,\"#9c179e\"],[0.4444444444444444,\"#bd3786\"],[0.5555555555555556,\"#d8576b\"],[0.6666666666666666,\"#ed7953\"],[0.7777777777777778,\"#fb9f3a\"],[0.8888888888888888,\"#fdca26\"],[1.0,\"#f0f921\"]]}],\"mesh3d\":[{\"type\":\"mesh3d\",\"colorbar\":{\"outlinewidth\":0,\"ticks\":\"\"}}],\"scatter\":[{\"fillpattern\":{\"fillmode\":\"overlay\",\"size\":10,\"solidity\":0.2},\"type\":\"scatter\"}],\"parcoords\":[{\"type\":\"parcoords\",\"line\":{\"colorbar\":{\"outlinewidth\":0,\"ticks\":\"\"}}}],\"scatterpolargl\":[{\"type\":\"scatterpolargl\",\"marker\":{\"colorbar\":{\"outlinewidth\":0,\"ticks\":\"\"}}}],\"bar\":[{\"error_x\":{\"color\":\"#2a3f5f\"},\"error_y\":{\"color\":\"#2a3f5f\"},\"marker\":{\"line\":{\"color\":\"#E5ECF6\",\"width\":0.5},\"pattern\":{\"fillmode\":\"overlay\",\"size\":10,\"solidity\":0.2}},\"type\":\"bar\"}],\"scattergeo\":[{\"type\":\"scattergeo\",\"marker\":{\"colorbar\":{\"outlinewidth\":0,\"ticks\":\"\"}}}],\"scatterpolar\":[{\"type\":\"scatterpolar\",\"marker\":{\"colorbar\":{\"outlinewidth\":0,\"ticks\":\"\"}}}],\"histogram\":[{\"marker\":{\"pattern\":{\"fillmode\":\"overlay\",\"size\":10,\"solidity\":0.2}},\"type\":\"histogram\"}],\"scattergl\":[{\"type\":\"scattergl\",\"marker\":{\"colorbar\":{\"outlinewidth\":0,\"ticks\":\"\"}}}],\"scatter3d\":[{\"type\":\"scatter3d\",\"line\":{\"colorbar\":{\"outlinewidth\":0,\"ticks\":\"\"}},\"marker\":{\"colorbar\":{\"outlinewidth\":0,\"ticks\":\"\"}}}],\"scattermapbox\":[{\"type\":\"scattermapbox\",\"marker\":{\"colorbar\":{\"outlinewidth\":0,\"ticks\":\"\"}}}],\"scatterternary\":[{\"type\":\"scatterternary\",\"marker\":{\"colorbar\":{\"outlinewidth\":0,\"ticks\":\"\"}}}],\"scattercarpet\":[{\"type\":\"scattercarpet\",\"marker\":{\"colorbar\":{\"outlinewidth\":0,\"ticks\":\"\"}}}],\"carpet\":[{\"aaxis\":{\"endlinecolor\":\"#2a3f5f\",\"gridcolor\":\"white\",\"linecolor\":\"white\",\"minorgridcolor\":\"white\",\"startlinecolor\":\"#2a3f5f\"},\"baxis\":{\"endlinecolor\":\"#2a3f5f\",\"gridcolor\":\"white\",\"linecolor\":\"white\",\"minorgridcolor\":\"white\",\"startlinecolor\":\"#2a3f5f\"},\"type\":\"carpet\"}],\"table\":[{\"cells\":{\"fill\":{\"color\":\"#EBF0F8\"},\"line\":{\"color\":\"white\"}},\"header\":{\"fill\":{\"color\":\"#C8D4E3\"},\"line\":{\"color\":\"white\"}},\"type\":\"table\"}],\"barpolar\":[{\"marker\":{\"line\":{\"color\":\"#E5ECF6\",\"width\":0.5},\"pattern\":{\"fillmode\":\"overlay\",\"size\":10,\"solidity\":0.2}},\"type\":\"barpolar\"}],\"pie\":[{\"automargin\":true,\"type\":\"pie\"}]},\"layout\":{\"autotypenumbers\":\"strict\",\"colorway\":[\"#636efa\",\"#EF553B\",\"#00cc96\",\"#ab63fa\",\"#FFA15A\",\"#19d3f3\",\"#FF6692\",\"#B6E880\",\"#FF97FF\",\"#FECB52\"],\"font\":{\"color\":\"#2a3f5f\"},\"hovermode\":\"closest\",\"hoverlabel\":{\"align\":\"left\"},\"paper_bgcolor\":\"white\",\"plot_bgcolor\":\"#E5ECF6\",\"polar\":{\"bgcolor\":\"#E5ECF6\",\"angularaxis\":{\"gridcolor\":\"white\",\"linecolor\":\"white\",\"ticks\":\"\"},\"radialaxis\":{\"gridcolor\":\"white\",\"linecolor\":\"white\",\"ticks\":\"\"}},\"ternary\":{\"bgcolor\":\"#E5ECF6\",\"aaxis\":{\"gridcolor\":\"white\",\"linecolor\":\"white\",\"ticks\":\"\"},\"baxis\":{\"gridcolor\":\"white\",\"linecolor\":\"white\",\"ticks\":\"\"},\"caxis\":{\"gridcolor\":\"white\",\"linecolor\":\"white\",\"ticks\":\"\"}},\"coloraxis\":{\"colorbar\":{\"outlinewidth\":0,\"ticks\":\"\"}},\"colorscale\":{\"sequential\":[[0.0,\"#0d0887\"],[0.1111111111111111,\"#46039f\"],[0.2222222222222222,\"#7201a8\"],[0.3333333333333333,\"#9c179e\"],[0.4444444444444444,\"#bd3786\"],[0.5555555555555556,\"#d8576b\"],[0.6666666666666666,\"#ed7953\"],[0.7777777777777778,\"#fb9f3a\"],[0.8888888888888888,\"#fdca26\"],[1.0,\"#f0f921\"]],\"sequentialminus\":[[0.0,\"#0d0887\"],[0.1111111111111111,\"#46039f\"],[0.2222222222222222,\"#7201a8\"],[0.3333333333333333,\"#9c179e\"],[0.4444444444444444,\"#bd3786\"],[0.5555555555555556,\"#d8576b\"],[0.6666666666666666,\"#ed7953\"],[0.7777777777777778,\"#fb9f3a\"],[0.8888888888888888,\"#fdca26\"],[1.0,\"#f0f921\"]],\"diverging\":[[0,\"#8e0152\"],[0.1,\"#c51b7d\"],[0.2,\"#de77ae\"],[0.3,\"#f1b6da\"],[0.4,\"#fde0ef\"],[0.5,\"#f7f7f7\"],[0.6,\"#e6f5d0\"],[0.7,\"#b8e186\"],[0.8,\"#7fbc41\"],[0.9,\"#4d9221\"],[1,\"#276419\"]]},\"xaxis\":{\"gridcolor\":\"white\",\"linecolor\":\"white\",\"ticks\":\"\",\"title\":{\"standoff\":15},\"zerolinecolor\":\"white\",\"automargin\":true,\"zerolinewidth\":2},\"yaxis\":{\"gridcolor\":\"white\",\"linecolor\":\"white\",\"ticks\":\"\",\"title\":{\"standoff\":15},\"zerolinecolor\":\"white\",\"automargin\":true,\"zerolinewidth\":2},\"scene\":{\"xaxis\":{\"backgroundcolor\":\"#E5ECF6\",\"gridcolor\":\"white\",\"linecolor\":\"white\",\"showbackground\":true,\"ticks\":\"\",\"zerolinecolor\":\"white\",\"gridwidth\":2},\"yaxis\":{\"backgroundcolor\":\"#E5ECF6\",\"gridcolor\":\"white\",\"linecolor\":\"white\",\"showbackground\":true,\"ticks\":\"\",\"zerolinecolor\":\"white\",\"gridwidth\":2},\"zaxis\":{\"backgroundcolor\":\"#E5ECF6\",\"gridcolor\":\"white\",\"linecolor\":\"white\",\"showbackground\":true,\"ticks\":\"\",\"zerolinecolor\":\"white\",\"gridwidth\":2}},\"shapedefaults\":{\"line\":{\"color\":\"#2a3f5f\"}},\"annotationdefaults\":{\"arrowcolor\":\"#2a3f5f\",\"arrowhead\":0,\"arrowwidth\":1},\"geo\":{\"bgcolor\":\"white\",\"landcolor\":\"#E5ECF6\",\"subunitcolor\":\"white\",\"showland\":true,\"showlakes\":true,\"lakecolor\":\"white\"},\"title\":{\"x\":0.05},\"mapbox\":{\"style\":\"light\"}}},\"xaxis\":{\"anchor\":\"y\",\"domain\":[0.0,1.0],\"title\":{\"text\":\"index\"}},\"yaxis\":{\"anchor\":\"x\",\"domain\":[0.0,1.0],\"title\":{\"text\":\"value\"}},\"legend\":{\"title\":{\"text\":\"variable\"},\"tracegroupgap\":0},\"margin\":{\"t\":60}},                        {\"responsive\": true}                    ).then(function(){\n",
       "                            \n",
       "var gd = document.getElementById('77401170-71ac-4a03-b876-abe3046b4de3');\n",
       "var x = new MutationObserver(function (mutations, observer) {{\n",
       "        var display = window.getComputedStyle(gd).display;\n",
       "        if (!display || display === 'none') {{\n",
       "            console.log([gd, 'removed!']);\n",
       "            Plotly.purge(gd);\n",
       "            observer.disconnect();\n",
       "        }}\n",
       "}});\n",
       "\n",
       "// Listen for the removal of the full notebook cells\n",
       "var notebookContainer = gd.closest('#notebook-container');\n",
       "if (notebookContainer) {{\n",
       "    x.observe(notebookContainer, {childList: true});\n",
       "}}\n",
       "\n",
       "// Listen for the clearing of the current output cell\n",
       "var outputEl = gd.closest('.output');\n",
       "if (outputEl) {{\n",
       "    x.observe(outputEl, {childList: true});\n",
       "}}\n",
       "\n",
       "                        })                };                });            </script>        </div>"
      ]
     },
     "metadata": {},
     "output_type": "display_data"
    }
   ],
   "source": [
    "#Visualizing Results\n",
    "fig = px.line( y=[y_pred,y_test])\n",
    "fig.show()"
   ]
  },
  {
   "cell_type": "markdown",
   "id": "d54a5ffc",
   "metadata": {},
   "source": [
    "# Comparision Matrix:   #"
   ]
  },
  {
   "cell_type": "code",
   "execution_count": 104,
   "id": "05e2b228",
   "metadata": {},
   "outputs": [
    {
     "name": "stdout",
     "output_type": "stream",
     "text": [
      "Model                                    R2_Score                       Mean_Squared_Error             Mean_Aboslute_Error           \n",
      "=====                                    ========                       ==================             ===================           \n",
      "LightGradientBoostingMachine             0.862922                       37141157.632963                4772.399706                   \n",
      "LinearRegression                         0.762544                       64338423.038450                6389.992184                   \n",
      "DecisionTreeRegression                   0.651884                       94321403.787879                6056.494949                   \n",
      "XGBoost                                  0.841606                       42916496.732041                5039.842606                   \n"
     ]
    }
   ],
   "source": [
    "print(\"%-40s %-30s %-30s %-30s\"%(\"Model\",\"R2_Score\",\"Mean_Squared_Error\",\"Mean_Aboslute_Error\"))\n",
    "print(\"%-40s %-30s %-30s %-30s\"%(\"=====\",\"========\",\"==================\",\"===================\"))\n",
    "l=[0,model1,model2,model3]\n",
    "m=[0,'LightGradientBoostingMachine','LinearRegression','DecisionTreeRegression']\n",
    "for i in range(1,4):\n",
    "    y_pred=l[i].predict(x_test)\n",
    "    print(\"%-40s %-30f %-30f %-30f\"%(m[i],r2_score(y_test,y_pred),mean_squared_error(y_test,y_pred),mean_absolute_error(y_test,y_pred)))\n",
    "y_pred=model4.predict(dtest)\n",
    "print(\"%-40s %-30f %-30f %-30f\"%(\"XGBoost\",r2_score(y_test,y_pred),mean_squared_error(y_test,y_pred),mean_absolute_error(y_test,y_pred)))"
   ]
  },
  {
   "cell_type": "markdown",
   "id": "9c406236",
   "metadata": {},
   "source": [
    "# Conclusion: #"
   ]
  },
  {
   "cell_type": "markdown",
   "id": "8fe8a0d0",
   "metadata": {},
   "source": [
    " LGBMRegressor gives better results among all model. The Accuracy can be more improved by find more related features(such as collecting google trends of more related keywords)."
   ]
  },
  {
   "cell_type": "code",
   "execution_count": null,
   "id": "6d3b5d67",
   "metadata": {},
   "outputs": [],
   "source": []
  },
  {
   "cell_type": "code",
   "execution_count": null,
   "id": "28f88e3e",
   "metadata": {},
   "outputs": [],
   "source": []
  },
  {
   "cell_type": "code",
   "execution_count": null,
   "id": "1615d681",
   "metadata": {},
   "outputs": [],
   "source": []
  },
  {
   "cell_type": "code",
   "execution_count": null,
   "id": "3e29b663",
   "metadata": {},
   "outputs": [],
   "source": []
  }
 ],
 "metadata": {
  "kernelspec": {
   "display_name": "Python 3 (ipykernel)",
   "language": "python",
   "name": "python3"
  },
  "language_info": {
   "codemirror_mode": {
    "name": "ipython",
    "version": 3
   },
   "file_extension": ".py",
   "mimetype": "text/x-python",
   "name": "python",
   "nbconvert_exporter": "python",
   "pygments_lexer": "ipython3",
   "version": "3.9.7"
  }
 },
 "nbformat": 4,
 "nbformat_minor": 5
}
